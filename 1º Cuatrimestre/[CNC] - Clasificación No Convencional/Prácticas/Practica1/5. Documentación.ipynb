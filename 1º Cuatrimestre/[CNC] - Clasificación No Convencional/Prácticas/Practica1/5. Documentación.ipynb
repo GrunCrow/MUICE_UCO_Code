{
 "cells": [
  {
   "cell_type": "markdown",
   "metadata": {},
   "source": [
    "# Práctica 1: Clasificación multi-etiqueta\n",
    "\n",
    "## Ejercicio 5\n",
    "\n",
    "Familiarízate con la documentación scikit-multilearn en: http://scikit.ml/ Prueba los métodos ML disponibles pertenecientes a las dos categorías (transformación y adaptación) que hemos visto en teoría."
   ]
  },
  {
   "cell_type": "markdown",
   "metadata": {},
   "source": [
    "### Enfoque\n",
    "\n",
    "Para realizar este apartado se va a tomar el conjunto de datos `scene` ya que ha sido uno de los conjuntos de datos que menos tiempo ha llevado procesar en los apartados anteriores, siendo un conjunto de datos no muy grande pero tampoco pequeño. Lo que lo hace ideal para realizar pruebas sin que lleven un tiempo excesivo. Sus características, obtenidas en apartados anteriores, son las siguientes:\n",
    "\n",
    "- Número de instancias en scene: 2407\n",
    "- Número de atributos en scene: 294\n",
    "- Número de etiquetas en scene: 6\n",
    "- Car en scene: 1.0739509763190693\n",
    "- Den en scene: 0.17899182938651156\n",
    "- Div en scene: 0.234375\n",
    "- AvgIR en scene: 1.2537840597429668\n",
    "- rDep en scene: 0.9333333333333333"
   ]
  },
  {
   "cell_type": "code",
   "execution_count": null,
   "metadata": {},
   "outputs": [],
   "source": [
    "# Due to the error described here: https://stackoverflow.com/questions/69734051/mlknn-int-takes-1-positional-argument-but-2-were-given-with-fit-method\n",
    "# And experimented during implementation, deprecated package is needed:\n",
    "# Explained at the adaptation part of the notebook\n",
    "!pip uninstall scikit-learn -y\n",
    "!pip install scikit-learn==0.24.1"
   ]
  },
  {
   "cell_type": "code",
   "execution_count": 1,
   "metadata": {},
   "outputs": [],
   "source": [
    "import numpy as np\n",
    "import pandas as pd\n",
    "import matplotlib.pyplot as plt\n",
    "import sklearn\n",
    "\n",
    "from skmultilearn.dataset import load_dataset\n",
    "\n",
    "# Transform\n",
    "from skmultilearn.problem_transform import BinaryRelevance, ClassifierChain, LabelPowerset\n",
    "from skmultilearn.ensemble import RakelO, RakelD\n",
    "\n",
    "# Adaptation\n",
    "from skmultilearn.adapt import MLkNN, BRkNNaClassifier, MLTSVM\n",
    "\n",
    "from sklearn.naive_bayes import GaussianNB\n",
    "\n",
    "# Metrics\n",
    "from sklearn.metrics import accuracy_score, f1_score, precision_score, hamming_loss"
   ]
  },
  {
   "cell_type": "markdown",
   "metadata": {},
   "source": [
    "Scikit-multilearn permite importar los conjuntos de datos ya divididos en conjuntos de entrenamiento y test, por ello, se van a cargar directamente estas divisiones.\n",
    "\n",
    "Esto se va a realizar así ya que al realizar el split entre train y test hay que tener muchos datos de la distribución del conjunto de datos en cuenta, como el número de instancias, el número de instancias por clase... . Al estar ya divididos se entiende que se han tenido en cuetna estos datos y se han realizado conjuntos de datos de entrenamiento y test independientes y fiables para la evaluación de las métricas de predicción posteriormente, evitando resultados demasiados optimistas o pesimistas"
   ]
  },
  {
   "cell_type": "code",
   "execution_count": 2,
   "metadata": {},
   "outputs": [
    {
     "name": "stdout",
     "output_type": "stream",
     "text": [
      "scene:train - exists, not redownloading\n",
      "scene:test - exists, not redownloading\n"
     ]
    }
   ],
   "source": [
    "dataset_name = \"scene\"\n",
    "X_train, y_train, feature_names_train, label_names_train = load_dataset(dataset_name, 'train')\n",
    "X_test, y_test, feature_names_test, label_names_test = load_dataset(dataset_name, 'test')"
   ]
  },
  {
   "cell_type": "markdown",
   "metadata": {},
   "source": [
    "### Transformación\n",
    "\n",
    "Hay algoritmos que necesitan tener un clasificador base, se ha seleccioando un único clasificador para utilizar como base, que es GaussianNB. Para todos los algoritmos se utilizará este algoritmo como clasificador base para intentar hacer así una mejor comparación. Aún así, es importante tener en cuenta que, quizás con otro clasificador base haya algoritmos que obtengan mejores resultados, ya que las combinaciones pueden ser muy diversas.\n",
    "\n",
    "#### Binary Relevance\n",
    "\n",
    "Este método convierte un problema de clasificación multietiqueta en varios problemas de clasificación binaria independientes, uno para cada etiqueta. Utiliza el clasificador Naive Bayes gaussiano (GaussianNB) como clasificador base."
   ]
  },
  {
   "cell_type": "code",
   "execution_count": 14,
   "metadata": {},
   "outputs": [
    {
     "name": "stdout",
     "output_type": "stream",
     "text": [
      "Binary Relevance con GaussianNB:\n",
      "Accuracy = 0.17809364548494983\n",
      "F1 = 0.5503217503217502\n",
      "Precision = 0.4133797370456303\n"
     ]
    }
   ],
   "source": [
    "classifier = BinaryRelevance(GaussianNB())\n",
    "classifier.fit(X_train, y_train)\n",
    "predictions = classifier.predict(X_test)\n",
    "accuracy_binary_relevance = accuracy_score(y_test, predictions)\n",
    "f1_binary_relevance = f1_score(y_test, predictions, average='micro')\n",
    "precision_binary_relevance = precision_score(y_test, predictions, average='micro')\n",
    "\n",
    "print(\"Binary Relevance con GaussianNB:\")\n",
    "print(\"Accuracy =\", accuracy_binary_relevance)\n",
    "print(\"F1 =\", f1_binary_relevance)\n",
    "print(\"Precision =\", precision_binary_relevance)"
   ]
  },
  {
   "cell_type": "markdown",
   "metadata": {},
   "source": [
    "#### Classifier Chain\n",
    "\n",
    "Classifier Chain extiende la idea de Binary Relevance conectando clasificadores binarios en cadena, donde cada clasificador toma las características de entrada y las predicciones de todas las etiquetas anteriores. Usa GaussianNB como clasificador base."
   ]
  },
  {
   "cell_type": "code",
   "execution_count": 5,
   "metadata": {},
   "outputs": [
    {
     "name": "stdout",
     "output_type": "stream",
     "text": [
      "\n",
      "Classifier Chain con GaussianNB:\n",
      "Accuracy = 0.2909698996655518\n",
      "F1 = 0.5266177876952503\n",
      "Precision = 0.44940152339499456\n"
     ]
    }
   ],
   "source": [
    "classifier = ClassifierChain(GaussianNB())\n",
    "classifier.fit(X_train, y_train)\n",
    "predictions = classifier.predict(X_test)\n",
    "accuracy_classifier_chain = accuracy_score(y_test, predictions)\n",
    "f1_classifier_chain = f1_score(y_test, predictions, average='micro')\n",
    "precision_classifier_chain = precision_score(y_test, predictions, average='micro')\n",
    "\n",
    "print(\"\\nClassifier Chain con GaussianNB:\")\n",
    "print(\"Accuracy =\", accuracy_classifier_chain)\n",
    "print(\"F1 =\", f1_classifier_chain)\n",
    "print(\"Precision =\", precision_classifier_chain)"
   ]
  },
  {
   "cell_type": "markdown",
   "metadata": {},
   "source": [
    "#### Label Powerset\n",
    "\n",
    "Label Powerset transforma el problema de clasificación multietiqueta en un problema de clasificación multiclase, asignando a cada combinación única de etiquetas una clase. Utiliza GaussianNB como clasificador base."
   ]
  },
  {
   "cell_type": "code",
   "execution_count": 6,
   "metadata": {},
   "outputs": [
    {
     "name": "stdout",
     "output_type": "stream",
     "text": [
      "\n",
      "Label Powerset with GaussianNB:\n",
      "Accuracy = 0.5560200668896321\n",
      "F1 = 0.6304098046725393\n",
      "Precision = 0.6272865853658537\n"
     ]
    }
   ],
   "source": [
    "classifier = LabelPowerset(GaussianNB())\n",
    "classifier.fit(X_train, y_train)\n",
    "predictions = classifier.predict(X_test)\n",
    "accuracy_label_powerset = accuracy_score(y_test, predictions)\n",
    "f1_label_powerset = f1_score(y_test, predictions, average='micro')\n",
    "precision_label_powerset = precision_score(y_test, predictions, average='micro')\n",
    "\n",
    "print(\"\\nLabel Powerset with GaussianNB:\")\n",
    "print(\"Accuracy =\", accuracy_label_powerset)\n",
    "print(\"F1 =\", f1_label_powerset)\n",
    "print(\"Precision =\", precision_label_powerset)"
   ]
  },
  {
   "cell_type": "markdown",
   "metadata": {},
   "source": [
    "#### Ensemble methods (RakelO)\n",
    "\n",
    "RakelO es un método de ensemble que divide las etiquetas en subconjuntos y entrena un clasificador binario para cada subconjunto. Combina las predicciones de los clasificadores. Usa GaussianNB como clasificador base."
   ]
  },
  {
   "cell_type": "code",
   "execution_count": 7,
   "metadata": {},
   "outputs": [
    {
     "name": "stdout",
     "output_type": "stream",
     "text": [
      "\n",
      "RakelO with GaussianNB:\n",
      "Accuracy = 0.3311036789297659\n",
      "F1 = 0.618001855861429\n",
      "Precision = 0.516546018614271\n"
     ]
    }
   ],
   "source": [
    "classifier = RakelO(base_classifier=GaussianNB(), model_count=3)\n",
    "classifier.fit(X_train, y_train)\n",
    "predictions = classifier.predict(X_test)\n",
    "accuracy_rakelO = accuracy_score(y_test, predictions)\n",
    "f1_rakelO = f1_score(y_test, predictions, average='micro')\n",
    "precision_rakelO = precision_score(y_test, predictions, average='micro')\n",
    "\n",
    "print(\"\\nRakelO with GaussianNB:\")\n",
    "print(\"Accuracy =\", accuracy_rakelO)\n",
    "print(\"F1 =\", f1_rakelO)\n",
    "print(\"Precision =\", precision_rakelO)"
   ]
  },
  {
   "cell_type": "markdown",
   "metadata": {},
   "source": [
    "### Adaptación\n",
    "\n",
    "Al realizar el apartado de adaptación se han experimentado problemas con la librería, tras intentar encontrar soluciones en el preprocesamiento de los datos, al buscar el problema en internet se han encontrado a usuarios con el mismo problema y que han tenido que utilizar una versión anterior de la librería scikit-multilearn. Por eso, para este notebook en concreto se está utilizando una versión anterior, indicada en las primeras celdas."
   ]
  },
  {
   "cell_type": "markdown",
   "metadata": {},
   "source": [
    "#### MLkNN\n",
    "\n",
    "MLkNN es un método de adaptación basado en k-vecinos más cercanos que ajusta su modelo a los datos de entrenamiento y predice las etiquetas de las instancias de prueba utilizando la información de los k-vecinos más cercanos. En este caso, no se utiliza un clasificador base adicional."
   ]
  },
  {
   "cell_type": "code",
   "execution_count": 8,
   "metadata": {},
   "outputs": [
    {
     "name": "stderr",
     "output_type": "stream",
     "text": [
      "c:\\Users\\albam\\anaconda3\\envs\\MachineLearning\\lib\\site-packages\\sklearn\\utils\\validation.py:70: FutureWarning: Pass n_neighbors=10 as keyword args. From version 1.0 (renaming of 0.25) passing these as positional arguments will result in an error\n",
      "  warnings.warn(f\"Pass {args_msg} as keyword args. From version \"\n"
     ]
    },
    {
     "name": "stdout",
     "output_type": "stream",
     "text": [
      "\n",
      "MLkNN with GaussianNB:\n",
      "Accuracy = 0.6053511705685619\n",
      "F1 = 0.7227467811158798\n",
      "Precision = 0.8166828322017459\n"
     ]
    }
   ],
   "source": [
    "classifier = MLkNN(k=10)\n",
    "classifier.fit(X_train, y_train)\n",
    "predictions = classifier.predict(X_test)\n",
    "accuracy_mlknn = accuracy_score(y_test, predictions)\n",
    "f1_mlknn = f1_score(y_test, predictions, average='micro')\n",
    "precision_mlknn = precision_score(y_test, predictions, average='micro')\n",
    "\n",
    "print(\"\\nMLkNN:\")\n",
    "print(\"Accuracy =\", accuracy_mlknn)\n",
    "print(\"F1 =\", f1_mlknn)\n",
    "print(\"Precision =\", precision_mlknn)"
   ]
  },
  {
   "cell_type": "markdown",
   "metadata": {},
   "source": [
    "#### BRkNNaClassifier\n",
    "BRkNNaClassifier es un clasificador basado en k-vecinos más cercanos que se adapta a problemas multietiqueta."
   ]
  },
  {
   "cell_type": "code",
   "execution_count": 9,
   "metadata": {},
   "outputs": [
    {
     "name": "stderr",
     "output_type": "stream",
     "text": [
      "c:\\Users\\albam\\anaconda3\\envs\\MachineLearning\\lib\\site-packages\\sklearn\\utils\\validation.py:70: FutureWarning: Pass n_neighbors=3 as keyword args. From version 1.0 (renaming of 0.25) passing these as positional arguments will result in an error\n",
      "  warnings.warn(f\"Pass {args_msg} as keyword args. From version \"\n"
     ]
    },
    {
     "name": "stdout",
     "output_type": "stream",
     "text": [
      "\n",
      "BRkNNaClassifier with GaussianNB:\n",
      "Accuracy = 0.6003344481605352\n",
      "F1 = 0.6779521056977704\n",
      "Precision = 0.7310774710596616\n"
     ]
    }
   ],
   "source": [
    "classifier = BRkNNaClassifier(k=3)\n",
    "classifier.fit(X_train, y_train)\n",
    "predictions = classifier.predict(X_test)\n",
    "accuracy_brknn = accuracy_score(y_test, predictions)\n",
    "f1_brknn = f1_score(y_test, predictions, average='micro')\n",
    "precision_brknn = precision_score(y_test, predictions, average='micro')\n",
    "\n",
    "print(\"\\nBRkNNaClassifier:\")\n",
    "print(\"Accuracy =\", accuracy_brknn)\n",
    "print(\"F1 =\", f1_brknn)\n",
    "print(\"Precision =\", precision_brknn)"
   ]
  },
  {
   "cell_type": "markdown",
   "metadata": {},
   "source": [
    "En este apartado se ha aprendido a implementar los diferentes métodos explicados en clase para conjuntos de datos multietiquetas. Tanto de transformación como de adaptación. "
   ]
  }
 ],
 "metadata": {
  "kernelspec": {
   "display_name": "MachineLearning",
   "language": "python",
   "name": "python3"
  },
  "language_info": {
   "codemirror_mode": {
    "name": "ipython",
    "version": 3
   },
   "file_extension": ".py",
   "mimetype": "text/x-python",
   "name": "python",
   "nbconvert_exporter": "python",
   "pygments_lexer": "ipython3",
   "version": "3.8.18"
  }
 },
 "nbformat": 4,
 "nbformat_minor": 2
}
