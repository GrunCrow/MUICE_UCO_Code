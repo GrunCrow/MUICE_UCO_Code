{
 "cells": [
  {
   "cell_type": "markdown",
   "metadata": {},
   "source": [
    "# Práctica 1: Clasificación multi-etiqueta\n",
    "\n",
    "## Ejercicio 8\n",
    "\n",
    "Escribe un script en Python (cl-cv.py) seleccionando al menos 3 métodos (que NO pertenezcan todos a la misma categoría) para evaluarlos con 5 de los datasets que recopilaste anteriormente y calcula las métricas resultantes mediante validación cruzada. El script mostrará el resultado de las métricas anteriores."
   ]
  },
  {
   "cell_type": "markdown",
   "metadata": {},
   "source": [
    "### Enfoque\n",
    "\n",
    "Para facilitar la explicación del código se va a realizar un Jupyter Notebook como en apartados anteriores. Los algoritmos seleccionados son:\n",
    "- Transformación: BinaryRelevance\n",
    "- Transformación: LabelPowerset\n",
    "- Adaptación: MLkNN\n",
    "\n",
    "Como clasificador base se utilizará RandomForest, en apartados anteriores se ha estado utilizando GaussianNB, sin embargo, en otras asignaturas y proyectos RandomForest suele ser un algoritmo que obtiene buenos resultados. Por eso se ha decidido probar con este clasificador esta vez.\n",
    "\n",
    "Los datasets utilizados serán los ya implementados en la librería scikit-multilearn:\n",
    "- scene\n",
    "- bibtex\n",
    "- birds\n",
    "- emotions\n",
    "- medical\n",
    "\n",
    "Para realizar la validación cruzada, se utilizará `cross_val_predict`. En este caso se ha optado por esta opción ya que lo que se quiere obtener son directamente las métricas y no experimentar con la validación cruzada."
   ]
  },
  {
   "cell_type": "code",
   "execution_count": 1,
   "metadata": {},
   "outputs": [],
   "source": [
    "import numpy as np\n",
    "from sklearn.model_selection import cross_val_predict\n",
    "from sklearn.ensemble import RandomForestClassifier\n",
    "from skmultilearn.problem_transform import BinaryRelevance, LabelPowerset\n",
    "from skmultilearn.adapt import MLkNN\n",
    "from skmultilearn.dataset import load_dataset\n",
    "from sklearn import metrics\n",
    "from sklearn.model_selection import cross_val_score\n",
    "\n",
    "import time"
   ]
  },
  {
   "cell_type": "markdown",
   "metadata": {},
   "source": [
    "Como las métricas a evaluar son las explicadas en el ejercicio anterior, que incluyen HammingLoss y esta no se encuentra implementada en `classification_report` se va a realizar una función con las métricas a analizar.\n",
    "\n",
    "Al tener que realizar lo mismo sobre 5 conjuntos de datos diferentes, también se va a realizar el código de una función que implemente la carga del conjunto de datos especificado, la clasificación, la validación cruzada y que muestre las métricas."
   ]
  },
  {
   "cell_type": "code",
   "execution_count": 2,
   "metadata": {},
   "outputs": [],
   "source": [
    "def evaluate_metrics(y_true, y_pred):\n",
    "    accuracy = metrics.accuracy_score(y_true, y_pred)\n",
    "    hamming_loss = metrics.hamming_loss(y_true, y_pred)\n",
    "    precision = metrics.precision_score(y_true, y_pred, average='weighted')\n",
    "    recall = metrics.recall_score(y_true, y_pred, average='weighted')\n",
    "    f1_score = metrics.f1_score(y_true, y_pred, average='weighted')\n",
    "    return accuracy, hamming_loss, precision, recall, f1_score"
   ]
  },
  {
   "cell_type": "code",
   "execution_count": 3,
   "metadata": {},
   "outputs": [],
   "source": [
    "def cl_cv(dataset):\n",
    "    print(f\"Dataset: {dataset}\\n========================\")\n",
    "    # Cargar los datos de entrenamiento y prueba\n",
    "    X, y, _, _ = load_dataset(dataset, 'undivided')\n",
    "\n",
    "    base_classifier = RandomForestClassifier()\n",
    "    \n",
    "    print(f\"\\nBinary Relevance - Dataset: {dataset}\")\n",
    "    start_time = time.time()\n",
    "    # Binary Relevance\n",
    "    br_classifier = BinaryRelevance(base_classifier)\n",
    "    br_predictions = cross_val_predict(br_classifier, X, y, cv=5)\n",
    "    br_metrics = evaluate_metrics(y, br_predictions)\n",
    "    print(f\"Accuracy: {br_metrics[0]}\")\n",
    "    print(f\"Hamming Loss: {br_metrics[1]}\")\n",
    "    print(f\"Precision: {br_metrics[2]}\")\n",
    "    print(f\"Recall: {br_metrics[3]}\")\n",
    "    print(f\"F1 Score: {br_metrics[4]}\")\n",
    "    end_time = time.time()\n",
    "    print(f\"Tiempo de ejecucion: {end_time - start_time}\")\n",
    "\n",
    "    # Label Powerset\n",
    "    print(f\"\\nLabel Powerset - Dataset: {dataset}\")\n",
    "    start_time = time.time()\n",
    "    lp_classifier = LabelPowerset(base_classifier)\n",
    "    lp_predictions = cross_val_predict(lp_classifier, X, y, cv=5)\n",
    "    lp_metrics = evaluate_metrics(y, lp_predictions)\n",
    "    print(f\"Accuracy: {lp_metrics[0]}\")\n",
    "    print(f\"Hamming Loss: {lp_metrics[1]}\")\n",
    "    print(f\"Precision: {lp_metrics[2]}\")\n",
    "    print(f\"Recall: {lp_metrics[3]}\")\n",
    "    print(f\"F1 Score: {lp_metrics[4]}\")\n",
    "    end_time = time.time()\n",
    "    print(f\"Tiempo de ejecucion: {end_time - start_time}\")\n",
    "\n",
    "    # MLkNN\n",
    "    print(f\"\\nMLkNN - Dataset: {dataset}\")\n",
    "    start_time = time.time()\n",
    "    mlknn_classifier = MLkNN(k=3)\n",
    "    mlknn_predictions = cross_val_predict(mlknn_classifier, X, y, cv=5)\n",
    "    mlknn_metrics = evaluate_metrics(y, mlknn_predictions)\n",
    "    print(f\"Accuracy: {mlknn_metrics[0]}\")\n",
    "    print(f\"Hamming Loss: {mlknn_metrics[1]}\")\n",
    "    print(f\"Precision: {mlknn_metrics[2]}\")\n",
    "    print(f\"Recall: {mlknn_metrics[3]}\")\n",
    "    print(f\"F1 Score: {mlknn_metrics[4]}\")\n",
    "    end_time = time.time()\n",
    "    print(f\"Tiempo de ejecucion: {end_time - start_time}\")"
   ]
  },
  {
   "cell_type": "markdown",
   "metadata": {},
   "source": [
    "### Scene"
   ]
  },
  {
   "cell_type": "code",
   "execution_count": 9,
   "metadata": {},
   "outputs": [
    {
     "name": "stdout",
     "output_type": "stream",
     "text": [
      "scene:undivided - exists, not redownloading\n"
     ]
    },
    {
     "name": "stdout",
     "output_type": "stream",
     "text": [
      "\n",
      "Binary Relevance - Dataset: scene\n",
      "Accuracy: 0.45741587037806397\n",
      "Hamming Loss: 0.10926464478604071\n",
      "Precision: 0.7964165723484602\n",
      "Recall: 0.4796905222437137\n",
      "F1 Score: 0.5821461373279341\n",
      "Tiempo de ejecucion: 122.95795750617981\n",
      "\n",
      "Label Powerset - Dataset: scene\n",
      "Accuracy: 0.6319069380972164\n",
      "Hamming Loss: 0.11535798365877302\n",
      "Precision: 0.6856624911067063\n",
      "Recall: 0.6460348162475822\n",
      "F1 Score: 0.6649079330895887\n",
      "Tiempo de ejecucion: 26.66493058204651\n"
     ]
    },
    {
     "name": "stderr",
     "output_type": "stream",
     "text": [
      "c:\\Users\\albam\\anaconda3\\envs\\MachineLearning\\lib\\site-packages\\sklearn\\utils\\validation.py:70: FutureWarning: Pass n_neighbors=3 as keyword args. From version 1.0 (renaming of 0.25) passing these as positional arguments will result in an error\n",
      "  warnings.warn(f\"Pass {args_msg} as keyword args. From version \"\n",
      "c:\\Users\\albam\\anaconda3\\envs\\MachineLearning\\lib\\site-packages\\sklearn\\utils\\validation.py:70: FutureWarning: Pass n_neighbors=3 as keyword args. From version 1.0 (renaming of 0.25) passing these as positional arguments will result in an error\n",
      "  warnings.warn(f\"Pass {args_msg} as keyword args. From version \"\n",
      "c:\\Users\\albam\\anaconda3\\envs\\MachineLearning\\lib\\site-packages\\sklearn\\utils\\validation.py:70: FutureWarning: Pass n_neighbors=3 as keyword args. From version 1.0 (renaming of 0.25) passing these as positional arguments will result in an error\n",
      "  warnings.warn(f\"Pass {args_msg} as keyword args. From version \"\n",
      "c:\\Users\\albam\\anaconda3\\envs\\MachineLearning\\lib\\site-packages\\sklearn\\utils\\validation.py:70: FutureWarning: Pass n_neighbors=3 as keyword args. From version 1.0 (renaming of 0.25) passing these as positional arguments will result in an error\n",
      "  warnings.warn(f\"Pass {args_msg} as keyword args. From version \"\n",
      "c:\\Users\\albam\\anaconda3\\envs\\MachineLearning\\lib\\site-packages\\sklearn\\utils\\validation.py:70: FutureWarning: Pass n_neighbors=3 as keyword args. From version 1.0 (renaming of 0.25) passing these as positional arguments will result in an error\n",
      "  warnings.warn(f\"Pass {args_msg} as keyword args. From version \"\n"
     ]
    },
    {
     "name": "stdout",
     "output_type": "stream",
     "text": [
      "\n",
      "MLkNN - Dataset: scene\n",
      "Accuracy: 0.5429995845450769\n",
      "Hamming Loss: 0.11570419609472372\n",
      "Precision: 0.6964661727550745\n",
      "Recall: 0.6181818181818182\n",
      "F1 Score: 0.652343852968069\n",
      "Tiempo de ejecucion: 44.30159306526184\n"
     ]
    }
   ],
   "source": [
    "dataset = \"scene\"\n",
    "cl_cv(dataset)"
   ]
  },
  {
   "cell_type": "markdown",
   "metadata": {},
   "source": [
    "### Bibtex"
   ]
  },
  {
   "cell_type": "code",
   "execution_count": 4,
   "metadata": {},
   "outputs": [
    {
     "name": "stdout",
     "output_type": "stream",
     "text": [
      "Dataset: bibtex\n",
      "========================\n",
      "bibtex:undivided - exists, not redownloading\n",
      "\n",
      "Binary Relevance - Dataset: bibtex\n"
     ]
    },
    {
     "name": "stderr",
     "output_type": "stream",
     "text": [
      "c:\\Users\\albam\\anaconda3\\envs\\MachineLearning\\lib\\site-packages\\sklearn\\metrics\\_classification.py:1245: UndefinedMetricWarning: Precision is ill-defined and being set to 0.0 in labels with no predicted samples. Use `zero_division` parameter to control this behavior.\n",
      "  _warn_prf(average, modifier, msg_start, len(result))\n"
     ]
    },
    {
     "name": "stdout",
     "output_type": "stream",
     "text": [
      "Accuracy: 0.11061528059499662\n",
      "Hamming Loss: 0.013058287726281143\n",
      "Precision: 0.49295198253380135\n",
      "Recall: 0.1566265060240964\n",
      "F1 Score: 0.18500963142908738\n",
      "Tiempo de ejecucion: 4417.840320825577\n",
      "\n",
      "Label Powerset - Dataset: bibtex\n",
      "Accuracy: 0.22866801893171063\n",
      "Hamming Loss: 0.015545945118450763\n",
      "Precision: 0.4380060672648085\n",
      "Recall: 0.31815110910933453\n",
      "F1 Score: 0.33087537342724305\n",
      "Tiempo de ejecucion: 375.2458019256592\n",
      "\n",
      "MLkNN - Dataset: bibtex\n"
     ]
    },
    {
     "name": "stderr",
     "output_type": "stream",
     "text": [
      "c:\\Users\\albam\\anaconda3\\envs\\MachineLearning\\lib\\site-packages\\sklearn\\utils\\validation.py:70: FutureWarning: Pass n_neighbors=3 as keyword args. From version 1.0 (renaming of 0.25) passing these as positional arguments will result in an error\n",
      "  warnings.warn(f\"Pass {args_msg} as keyword args. From version \"\n",
      "c:\\Users\\albam\\anaconda3\\envs\\MachineLearning\\lib\\site-packages\\sklearn\\utils\\validation.py:70: FutureWarning: Pass n_neighbors=3 as keyword args. From version 1.0 (renaming of 0.25) passing these as positional arguments will result in an error\n",
      "  warnings.warn(f\"Pass {args_msg} as keyword args. From version \"\n",
      "c:\\Users\\albam\\anaconda3\\envs\\MachineLearning\\lib\\site-packages\\sklearn\\utils\\validation.py:70: FutureWarning: Pass n_neighbors=3 as keyword args. From version 1.0 (renaming of 0.25) passing these as positional arguments will result in an error\n",
      "  warnings.warn(f\"Pass {args_msg} as keyword args. From version \"\n",
      "c:\\Users\\albam\\anaconda3\\envs\\MachineLearning\\lib\\site-packages\\sklearn\\utils\\validation.py:70: FutureWarning: Pass n_neighbors=3 as keyword args. From version 1.0 (renaming of 0.25) passing these as positional arguments will result in an error\n",
      "  warnings.warn(f\"Pass {args_msg} as keyword args. From version \"\n",
      "c:\\Users\\albam\\anaconda3\\envs\\MachineLearning\\lib\\site-packages\\sklearn\\utils\\validation.py:70: FutureWarning: Pass n_neighbors=3 as keyword args. From version 1.0 (renaming of 0.25) passing these as positional arguments will result in an error\n",
      "  warnings.warn(f\"Pass {args_msg} as keyword args. From version \"\n"
     ]
    },
    {
     "name": "stdout",
     "output_type": "stream",
     "text": [
      "Accuracy: 0.07491548343475321\n",
      "Hamming Loss: 0.016876948133406476\n",
      "Precision: 0.35528730165508837\n",
      "Recall: 0.2141087715347371\n",
      "F1 Score: 0.24392267904555184\n",
      "Tiempo de ejecucion: 144.12352108955383\n"
     ]
    },
    {
     "name": "stderr",
     "output_type": "stream",
     "text": [
      "c:\\Users\\albam\\anaconda3\\envs\\MachineLearning\\lib\\site-packages\\sklearn\\metrics\\_classification.py:1245: UndefinedMetricWarning: Precision is ill-defined and being set to 0.0 in labels with no predicted samples. Use `zero_division` parameter to control this behavior.\n",
      "  _warn_prf(average, modifier, msg_start, len(result))\n"
     ]
    }
   ],
   "source": [
    "dataset = \"bibtex\"\n",
    "cl_cv(dataset)"
   ]
  },
  {
   "cell_type": "markdown",
   "metadata": {},
   "source": [
    "### Birds"
   ]
  },
  {
   "cell_type": "code",
   "execution_count": 4,
   "metadata": {},
   "outputs": [
    {
     "name": "stdout",
     "output_type": "stream",
     "text": [
      "Dataset: birds\n",
      "========================\n",
      "birds:undivided - exists, not redownloading\n",
      "\n",
      "Binary Relevance - Dataset: birds\n"
     ]
    },
    {
     "name": "stderr",
     "output_type": "stream",
     "text": [
      "c:\\Users\\albam\\anaconda3\\envs\\MachineLearning\\lib\\site-packages\\sklearn\\metrics\\_classification.py:1245: UndefinedMetricWarning: Precision is ill-defined and being set to 0.0 in labels with no predicted samples. Use `zero_division` parameter to control this behavior.\n",
      "  _warn_prf(average, modifier, msg_start, len(result))\n"
     ]
    },
    {
     "name": "stdout",
     "output_type": "stream",
     "text": [
      "Accuracy: 0.5209302325581395\n",
      "Hamming Loss: 0.04112607099143207\n",
      "Precision: 0.7497556904329705\n",
      "Recall: 0.26605504587155965\n",
      "F1 Score: 0.3662781109426311\n",
      "Tiempo de ejecucion: 59.37385845184326\n",
      "\n",
      "Label Powerset - Dataset: birds\n"
     ]
    },
    {
     "name": "stderr",
     "output_type": "stream",
     "text": [
      "c:\\Users\\albam\\anaconda3\\envs\\MachineLearning\\lib\\site-packages\\sklearn\\metrics\\_classification.py:1245: UndefinedMetricWarning: Precision is ill-defined and being set to 0.0 in labels with no predicted samples. Use `zero_division` parameter to control this behavior.\n",
      "  _warn_prf(average, modifier, msg_start, len(result))\n",
      "c:\\Users\\albam\\anaconda3\\envs\\MachineLearning\\lib\\site-packages\\sklearn\\utils\\validation.py:70: FutureWarning: Pass n_neighbors=3 as keyword args. From version 1.0 (renaming of 0.25) passing these as positional arguments will result in an error\n",
      "  warnings.warn(f\"Pass {args_msg} as keyword args. From version \"\n"
     ]
    },
    {
     "name": "stdout",
     "output_type": "stream",
     "text": [
      "Accuracy: 0.5565891472868217\n",
      "Hamming Loss: 0.03778049775601795\n",
      "Precision: 0.6933583282955649\n",
      "Recall: 0.47706422018348627\n",
      "F1 Score: 0.5557442811555947\n",
      "Tiempo de ejecucion: 10.4437837600708\n",
      "\n",
      "MLkNN - Dataset: birds\n"
     ]
    },
    {
     "name": "stderr",
     "output_type": "stream",
     "text": [
      "c:\\Users\\albam\\anaconda3\\envs\\MachineLearning\\lib\\site-packages\\sklearn\\utils\\validation.py:70: FutureWarning: Pass n_neighbors=3 as keyword args. From version 1.0 (renaming of 0.25) passing these as positional arguments will result in an error\n",
      "  warnings.warn(f\"Pass {args_msg} as keyword args. From version \"\n",
      "c:\\Users\\albam\\anaconda3\\envs\\MachineLearning\\lib\\site-packages\\sklearn\\utils\\validation.py:70: FutureWarning: Pass n_neighbors=3 as keyword args. From version 1.0 (renaming of 0.25) passing these as positional arguments will result in an error\n",
      "  warnings.warn(f\"Pass {args_msg} as keyword args. From version \"\n",
      "c:\\Users\\albam\\anaconda3\\envs\\MachineLearning\\lib\\site-packages\\sklearn\\utils\\validation.py:70: FutureWarning: Pass n_neighbors=3 as keyword args. From version 1.0 (renaming of 0.25) passing these as positional arguments will result in an error\n",
      "  warnings.warn(f\"Pass {args_msg} as keyword args. From version \"\n",
      "c:\\Users\\albam\\anaconda3\\envs\\MachineLearning\\lib\\site-packages\\sklearn\\utils\\validation.py:70: FutureWarning: Pass n_neighbors=3 as keyword args. From version 1.0 (renaming of 0.25) passing these as positional arguments will result in an error\n",
      "  warnings.warn(f\"Pass {args_msg} as keyword args. From version \"\n"
     ]
    },
    {
     "name": "stdout",
     "output_type": "stream",
     "text": [
      "Accuracy: 0.4604651162790698\n",
      "Hamming Loss: 0.06283149734802121\n",
      "Precision: 0.22293064988019115\n",
      "Recall: 0.12996941896024464\n",
      "F1 Score: 0.16012818406494783\n",
      "Tiempo de ejecucion: 6.051087856292725\n"
     ]
    },
    {
     "name": "stderr",
     "output_type": "stream",
     "text": [
      "c:\\Users\\albam\\anaconda3\\envs\\MachineLearning\\lib\\site-packages\\sklearn\\metrics\\_classification.py:1245: UndefinedMetricWarning: Precision is ill-defined and being set to 0.0 in labels with no predicted samples. Use `zero_division` parameter to control this behavior.\n",
      "  _warn_prf(average, modifier, msg_start, len(result))\n"
     ]
    }
   ],
   "source": [
    "dataset = \"birds\"\n",
    "cl_cv(dataset)"
   ]
  },
  {
   "cell_type": "markdown",
   "metadata": {},
   "source": [
    "### Emotions"
   ]
  },
  {
   "cell_type": "code",
   "execution_count": 5,
   "metadata": {},
   "outputs": [
    {
     "name": "stdout",
     "output_type": "stream",
     "text": [
      "Dataset: emotions\n",
      "========================\n",
      "emotions:undivided - exists, not redownloading\n",
      "\n",
      "Binary Relevance - Dataset: emotions\n",
      "Accuracy: 0.30522765598650925\n",
      "Hamming Loss: 0.18858909499718943\n",
      "Precision: 0.7415660923641287\n",
      "Recall: 0.6010830324909747\n",
      "F1 Score: 0.6438915901496678\n",
      "Tiempo de ejecucion: 16.69721221923828\n",
      "\n",
      "Label Powerset - Dataset: emotions\n",
      "Accuracy: 0.36930860033726814\n",
      "Hamming Loss: 0.1919617762788083\n",
      "Precision: 0.6792776133944929\n",
      "Recall: 0.7220216606498195\n",
      "F1 Score: 0.6969326070299952\n",
      "Tiempo de ejecucion: 3.1954779624938965\n",
      "\n",
      "MLkNN - Dataset: emotions\n"
     ]
    },
    {
     "name": "stderr",
     "output_type": "stream",
     "text": [
      "c:\\Users\\albam\\anaconda3\\envs\\MachineLearning\\lib\\site-packages\\sklearn\\utils\\validation.py:70: FutureWarning: Pass n_neighbors=3 as keyword args. From version 1.0 (renaming of 0.25) passing these as positional arguments will result in an error\n",
      "  warnings.warn(f\"Pass {args_msg} as keyword args. From version \"\n",
      "c:\\Users\\albam\\anaconda3\\envs\\MachineLearning\\lib\\site-packages\\sklearn\\utils\\validation.py:70: FutureWarning: Pass n_neighbors=3 as keyword args. From version 1.0 (renaming of 0.25) passing these as positional arguments will result in an error\n",
      "  warnings.warn(f\"Pass {args_msg} as keyword args. From version \"\n",
      "c:\\Users\\albam\\anaconda3\\envs\\MachineLearning\\lib\\site-packages\\sklearn\\utils\\validation.py:70: FutureWarning: Pass n_neighbors=3 as keyword args. From version 1.0 (renaming of 0.25) passing these as positional arguments will result in an error\n",
      "  warnings.warn(f\"Pass {args_msg} as keyword args. From version \"\n",
      "c:\\Users\\albam\\anaconda3\\envs\\MachineLearning\\lib\\site-packages\\sklearn\\utils\\validation.py:70: FutureWarning: Pass n_neighbors=3 as keyword args. From version 1.0 (renaming of 0.25) passing these as positional arguments will result in an error\n",
      "  warnings.warn(f\"Pass {args_msg} as keyword args. From version \"\n",
      "c:\\Users\\albam\\anaconda3\\envs\\MachineLearning\\lib\\site-packages\\sklearn\\utils\\validation.py:70: FutureWarning: Pass n_neighbors=3 as keyword args. From version 1.0 (renaming of 0.25) passing these as positional arguments will result in an error\n",
      "  warnings.warn(f\"Pass {args_msg} as keyword args. From version \"\n"
     ]
    },
    {
     "name": "stdout",
     "output_type": "stream",
     "text": [
      "Accuracy: 0.20404721753794267\n",
      "Hamming Loss: 0.2844294547498595\n",
      "Precision: 0.5353317022281302\n",
      "Recall: 0.48194945848375453\n",
      "F1 Score: 0.5053481690919257\n",
      "Tiempo de ejecucion: 2.7963788509368896\n"
     ]
    }
   ],
   "source": [
    "dataset = \"emotions\"\n",
    "cl_cv(dataset)"
   ]
  },
  {
   "cell_type": "markdown",
   "metadata": {},
   "source": [
    "### Medical"
   ]
  },
  {
   "cell_type": "code",
   "execution_count": 6,
   "metadata": {},
   "outputs": [
    {
     "name": "stdout",
     "output_type": "stream",
     "text": [
      "Dataset: medical\n",
      "========================\n",
      "medical:undivided - exists, not redownloading\n",
      "\n",
      "Binary Relevance - Dataset: medical\n"
     ]
    },
    {
     "name": "stderr",
     "output_type": "stream",
     "text": [
      "c:\\Users\\albam\\anaconda3\\envs\\MachineLearning\\lib\\site-packages\\sklearn\\metrics\\_classification.py:1245: UndefinedMetricWarning: Precision is ill-defined and being set to 0.0 in labels with no predicted samples. Use `zero_division` parameter to control this behavior.\n",
      "  _warn_prf(average, modifier, msg_start, len(result))\n"
     ]
    },
    {
     "name": "stdout",
     "output_type": "stream",
     "text": [
      "Accuracy: 0.5255623721881391\n",
      "Hamming Loss: 0.013406044080890706\n",
      "Precision: 0.7782285660192457\n",
      "Recall: 0.5878489326765188\n",
      "F1 Score: 0.6489336871614803\n",
      "Tiempo de ejecucion: 108.72602343559265\n",
      "\n",
      "Label Powerset - Dataset: medical\n"
     ]
    },
    {
     "name": "stderr",
     "output_type": "stream",
     "text": [
      "c:\\Users\\albam\\anaconda3\\envs\\MachineLearning\\lib\\site-packages\\sklearn\\metrics\\_classification.py:1245: UndefinedMetricWarning: Precision is ill-defined and being set to 0.0 in labels with no predicted samples. Use `zero_division` parameter to control this behavior.\n",
      "  _warn_prf(average, modifier, msg_start, len(result))\n",
      "c:\\Users\\albam\\anaconda3\\envs\\MachineLearning\\lib\\site-packages\\sklearn\\utils\\validation.py:70: FutureWarning: Pass n_neighbors=3 as keyword args. From version 1.0 (renaming of 0.25) passing these as positional arguments will result in an error\n",
      "  warnings.warn(f\"Pass {args_msg} as keyword args. From version \"\n"
     ]
    },
    {
     "name": "stdout",
     "output_type": "stream",
     "text": [
      "Accuracy: 0.6789366053169734\n",
      "Hamming Loss: 0.012042717564189957\n",
      "Precision: 0.760183094447943\n",
      "Recall: 0.7274220032840722\n",
      "F1 Score: 0.7256367509352682\n",
      "Tiempo de ejecucion: 5.462723731994629\n",
      "\n",
      "MLkNN - Dataset: medical\n"
     ]
    },
    {
     "name": "stderr",
     "output_type": "stream",
     "text": [
      "c:\\Users\\albam\\anaconda3\\envs\\MachineLearning\\lib\\site-packages\\sklearn\\utils\\validation.py:70: FutureWarning: Pass n_neighbors=3 as keyword args. From version 1.0 (renaming of 0.25) passing these as positional arguments will result in an error\n",
      "  warnings.warn(f\"Pass {args_msg} as keyword args. From version \"\n",
      "c:\\Users\\albam\\anaconda3\\envs\\MachineLearning\\lib\\site-packages\\sklearn\\utils\\validation.py:70: FutureWarning: Pass n_neighbors=3 as keyword args. From version 1.0 (renaming of 0.25) passing these as positional arguments will result in an error\n",
      "  warnings.warn(f\"Pass {args_msg} as keyword args. From version \"\n",
      "c:\\Users\\albam\\anaconda3\\envs\\MachineLearning\\lib\\site-packages\\sklearn\\utils\\validation.py:70: FutureWarning: Pass n_neighbors=3 as keyword args. From version 1.0 (renaming of 0.25) passing these as positional arguments will result in an error\n",
      "  warnings.warn(f\"Pass {args_msg} as keyword args. From version \"\n",
      "c:\\Users\\albam\\anaconda3\\envs\\MachineLearning\\lib\\site-packages\\sklearn\\utils\\validation.py:70: FutureWarning: Pass n_neighbors=3 as keyword args. From version 1.0 (renaming of 0.25) passing these as positional arguments will result in an error\n",
      "  warnings.warn(f\"Pass {args_msg} as keyword args. From version \"\n"
     ]
    },
    {
     "name": "stdout",
     "output_type": "stream",
     "text": [
      "Accuracy: 0.4703476482617587\n",
      "Hamming Loss: 0.017836855260168143\n",
      "Precision: 0.6730857813145774\n",
      "Recall: 0.6239737274220033\n",
      "F1 Score: 0.6316597648544444\n",
      "Tiempo de ejecucion: 12.956944465637207\n"
     ]
    },
    {
     "name": "stderr",
     "output_type": "stream",
     "text": [
      "c:\\Users\\albam\\anaconda3\\envs\\MachineLearning\\lib\\site-packages\\sklearn\\metrics\\_classification.py:1245: UndefinedMetricWarning: Precision is ill-defined and being set to 0.0 in labels with no predicted samples. Use `zero_division` parameter to control this behavior.\n",
      "  _warn_prf(average, modifier, msg_start, len(result))\n"
     ]
    }
   ],
   "source": [
    "dataset = \"medical\"\n",
    "cl_cv(dataset)"
   ]
  }
 ],
 "metadata": {
  "kernelspec": {
   "display_name": "MachineLearning",
   "language": "python",
   "name": "python3"
  },
  "language_info": {
   "codemirror_mode": {
    "name": "ipython",
    "version": 3
   },
   "file_extension": ".py",
   "mimetype": "text/x-python",
   "name": "python",
   "nbconvert_exporter": "python",
   "pygments_lexer": "ipython3",
   "version": "3.8.18"
  }
 },
 "nbformat": 4,
 "nbformat_minor": 2
}
