{
 "cells": [
  {
   "cell_type": "markdown",
   "metadata": {},
   "source": [
    "# Práctica 1: Clasificación multi-etiqueta\n",
    "\n",
    "## Ejercicio 4\n",
    "\n",
    "Busca en Internet dos datasets extra. Descárgalos localmente y realiza un script en Python para cargarlos y recalcular todas las medidas del paso anterior sobre los mismos. Debes escoger datasets variados, con diferente número de etiquetas, variables e instancias."
   ]
  },
  {
   "cell_type": "markdown",
   "metadata": {},
   "source": [
    "### Enfoque\n",
    "\n",
    "Para realizar este apartado se ha modificado el apartado anterior pero en vez de ejecutar las funciones sobre todos los conjuntos de datos se han descargado dos conjuntos de datos desde la página de la que se sacó la información de los Datasets anteriores, [Multi-Label Classification Dataset Repository](www.uco.es/kdis/mllresources/). Se han buscado dos datasets que no hayan sido utilizados anteriormente, de naturalezas diferentes y con características diferentes. Los datasets seleccionados son:\n",
    "- Flags\n",
    "- Yahoo_Science\n",
    "\n",
    "Se han seleccionado estos conjuntos de datos porque su información está almacenada en ficheros ARFF, y la librería multilearn contiene una función para cargar este tipo de ficheros."
   ]
  },
  {
   "cell_type": "code",
   "execution_count": 34,
   "metadata": {},
   "outputs": [],
   "source": [
    "import numpy as np\n",
    "import pandas as pd\n",
    "import matplotlib.pyplot as plt\n",
    "import sklearn\n",
    "\n",
    "from skmultilearn.dataset import load_from_arff\n",
    "\n",
    "# Calculos\n",
    "from scipy.stats import chi2_contingency"
   ]
  },
  {
   "cell_type": "code",
   "execution_count": 35,
   "metadata": {},
   "outputs": [
    {
     "name": "stdout",
     "output_type": "stream",
     "text": [
      "Unzipped:  Flags.zip\n",
      "Unzipped:  Yahoo.zip\n"
     ]
    }
   ],
   "source": [
    "# Unzip folders from Practica1/4. DatasetsExtra/\n",
    "import zipfile\n",
    "import os\n",
    "import shutil\n",
    "\n",
    "PATH = \"4. DatasetsExtra/\"\n",
    "\n",
    "for file in os.listdir(PATH):\n",
    "    if file.endswith(\".zip\"):\n",
    "        with zipfile.ZipFile(PATH + file, 'r') as zip_ref:\n",
    "            # Extract all the contents of each zip on a folder with the same name as the zip\n",
    "            zip_ref.extractall(PATH + file.split(\".zip\")[0])\n",
    "            print(\"Unzipped: \", file)\n"
   ]
  },
  {
   "cell_type": "markdown",
   "metadata": {},
   "source": [
    "### Carga de conjuntos de datos desde los ficheros"
   ]
  },
  {
   "cell_type": "markdown",
   "metadata": {},
   "source": [
    "#### [Fichero ARFF](http://scikit.ml/datasets.html#ARFF-files)\n",
    "\n",
    "Siguiendo la documentación se indica el código necesario para realizar una carga de un conjunto de datos desde un fichero ARFF, sin embargo, hay que tener información de este conjunto de datos para cargarlo con la función facilitada por la librería scikit-multilearn.\n",
    "\n",
    "Estos datos son:\n",
    "- `path`: ruta del archivo arff\n",
    "- `label_count`: número de etiquetas\n",
    "- `label_location`: se deja el valor que nos da la documentación\n",
    "- `load_sparse`: se deja el valor que nos da la documentación\n",
    "\n",
    "Para el conjunto de datos de Yahoo_Science el `label_count` obtener yendo al fichero arff y contando el número de etiquetas, al estar nombreadas como Label y enumeradas del 1 al 40 en este caso, es fácil saber que contamos con 40 etiquetas.\n",
    "\n",
    "Por otro lado el conjunto Flags no es tan sencillo, tiene menos atributos y etiquetas, pero no viene indicado en el nombre qué es un conjunto y qué es un etiqueta. Por eso requiere una búsqueda más exhaustiva de información. La misma página desde donde se han obtenido los datos contiene una tabla con los estadísticos e información sobre el conjunto de datos. El conjunto de datos flags tiene el valor 7 en q (número de labels). Y mirando Yahoo_science confirma que tiene 40."
   ]
  },
  {
   "cell_type": "code",
   "execution_count": 37,
   "metadata": {},
   "outputs": [],
   "source": [
    "path_to_arff_file = \"4. DatasetsExtra/Yahoo/Science1.arff\"\n",
    "label_location=\"end\"\n",
    "label_count=40\n",
    "arff_file_is_sparse = False\n",
    "\n",
    "X_Science, y_Science, feature_names_Science, label_names_Science = load_from_arff(\n",
    "    path_to_arff_file,\n",
    "    label_count=label_count,\n",
    "    label_location=label_location,\n",
    "    load_sparse=arff_file_is_sparse,\n",
    "    return_attribute_definitions=True\n",
    ")\n",
    "\n",
    "path_to_arff_file = \"4. DatasetsExtra/Flags/flags.arff\"\n",
    "label_location=\"end\"\n",
    "label_count=7\n",
    "arff_file_is_sparse = False\n",
    "\n",
    "X_Flags, y_Flags, feature_names_Flags, label_names_Flags = load_from_arff(\n",
    "    path_to_arff_file,\n",
    "    label_count=label_count,\n",
    "    label_location=label_location,\n",
    "    load_sparse=arff_file_is_sparse,\n",
    "    return_attribute_definitions=True\n",
    ")"
   ]
  },
  {
   "cell_type": "markdown",
   "metadata": {},
   "source": [
    "### Funciones para visualizar los conjuntos de datos\n",
    "\n",
    "- `get_dataset_info`: Muestra información general del conjunto de datos para conocer sus dimensiones y nombres de las etiquetas.\n",
    "- `visualize_label_number`: Muestra en un gráfico el número de etiquetas que tiene cada instancia, también muestra la media de etiquetas por instancia. Es una gráfica que permite comprobar el nivel de multietiqueta de cada conjunto.\n",
    "\n",
    "#### Funciones de cálculo de estadísticos\n",
    "- `calculate_diversity`: Calcula la diversidad, calculando los labelsets existentes en el conjunto entre el número de labelsets posibles. Siendo un labelset las combinaciones de etiquetas que puede tener una instancia. [2]\n",
    "- `calculate_avgir`: Calcula el Average Imbalance Ratio, que es una métrica que mide el grado medio de desequilibrio de todas las etiquetas [1]\n",
    "- `calculate_rdep`: Calcula la proporción de pares de etiquetas que son dependientes con un 99 % de confianza según chi cuadrado. [2]\n",
    "\n",
    "\n",
    "[1] Tarekegn, A. N., Giacobini, M., & Michalak, K. (2021). A review of methods for imbalanced multi-label classification. Pattern Recognition, 118, 107965.\n",
    "\n",
    "[2] https://github.com/i02momuj/MLDA/blob/master/doc/MLDA_Doc.pdf"
   ]
  },
  {
   "cell_type": "code",
   "execution_count": 52,
   "metadata": {},
   "outputs": [],
   "source": [
    "def calculate_diversity(y):\n",
    "    df_labels = pd.DataFrame(y.toarray())\n",
    "    unique_label_sets = set(df_labels.apply(tuple, axis=1))\n",
    "    num_unique_label_sets = len(unique_label_sets)\n",
    "\n",
    "    num_possible_label_sets = 2 ** y.shape[1]\n",
    "\n",
    "    diversity = (num_unique_label_sets / num_possible_label_sets)\n",
    "\n",
    "    return diversity\n",
    "\n",
    "def calculate_avgir(y):\n",
    "    dense_labels = y.toarray()\n",
    "\n",
    "    label_frequencies = pd.Series(dense_labels.sum(axis=0))\n",
    "    max_frequency = label_frequencies.max()\n",
    "\n",
    "    # Imbalance Ratio de cada clase\n",
    "    ir_interclass = max_frequency / label_frequencies\n",
    "    # Media de los Imbalance Ratio\n",
    "    mean_ir_interclass = ir_interclass.mean()\n",
    "\n",
    "    return mean_ir_interclass\n",
    "\n",
    "def calculate_rdep(y):\n",
    "    # ratio of unconditionally dependent label pairs by chi-square test \n",
    "    # (rDep, measures the proportion of pairs of labels that are dependent \n",
    "    # at 99% confidence)\n",
    "    df_labels = pd.DataFrame(y.toarray())\n",
    "    num_labels = y.shape[1]\n",
    "    rdep = 0\n",
    "    for i in range(num_labels):\n",
    "        for j in range(i+1, num_labels):\n",
    "            observed = pd.crosstab(df_labels[i], df_labels[j])\n",
    "            chi2, p, dof, expected = chi2_contingency(observed)\n",
    "            if p < 1 - 0.99:\n",
    "                rdep += 1\n",
    "    rdep /= (num_labels * (num_labels - 1) / 2)\n",
    "    return rdep"
   ]
  },
  {
   "cell_type": "code",
   "execution_count": 53,
   "metadata": {},
   "outputs": [],
   "source": [
    "def get_dataset_info(dataset, X, y, label_names):\n",
    "    \n",
    "    k = y.shape[1]\n",
    "\n",
    "    print('Número de instancias en {}: {}'.format(dataset, X.shape[0]))\n",
    "    print('Número de atributos en {}: {}'.format(dataset, X.shape[1]))\n",
    "    print('Número de etiquetas en {}: {}'.format(dataset, k))\n",
    "    \n",
    "    # Cardinalidad\n",
    "    cardinality = np.mean(np.sum(y, axis=1))\n",
    "    print('Car en {}: {}'.format(dataset, cardinality))\n",
    "    \n",
    "    # Densidad\n",
    "    density = cardinality / k\n",
    "    print('Den en {}: {}'.format(dataset, density))\n",
    "    \n",
    "    # Diversidad\n",
    "    diversity = calculate_diversity(y)\n",
    "    print('Div en {}: {}'.format(dataset, diversity))\n",
    "    \n",
    "    # AvgIR (Average Imbalance Ratio)\n",
    "    avgIR = calculate_avgir(y)\n",
    "    print('AvgIR en {}: {}'.format(dataset, avgIR))\n",
    "    \n",
    "    # rDep (Ratio of unconditionally dependent label pairs by chi-square test)\n",
    "    rDep = calculate_rdep(y)\n",
    "    print('rDep en {}: {}'.format(dataset, rDep))\n",
    "    \n",
    "    print(\"\\n\")\n",
    "    print(\"\\n\")\n",
    "    \n",
    "    # Información extra\n",
    "    print('Nombres de etiquetas en {}: \\n{}'.format(dataset, label_names))"
   ]
  },
  {
   "cell_type": "code",
   "execution_count": 54,
   "metadata": {},
   "outputs": [],
   "source": [
    "# Visualizar para cada conjunto de datos\n",
    "def visualize_label_number(dataset, y):\n",
    "\n",
    "    # Obtener el número de etiquetas por instancia\n",
    "    labels_per_instance = np.sum(y, axis=1)\n",
    "\n",
    "    # Mostrar histograma\n",
    "    plt.hist(labels_per_instance, bins=range(0, 30, 1))\n",
    "\n",
    "    # Agregar la media como texto\n",
    "    plt.text(0.5, 0.95, f'Media de etiquetas por instancia: {np.mean(labels_per_instance):.2f}', ha='center', va='center', transform=plt.gca().transAxes, bbox=dict(facecolor='white', alpha=0.8))\n",
    "    plt.title(dataset)\n",
    "    plt.xlabel('Número de etiquetas por instancia')\n",
    "    plt.ylabel('Número de instancias')\n",
    "    plt.show()\n",
    "\n",
    "    # Mostrar media\n",
    "    #print('Media de etiquetas por instancia en {}: {}'.format(dataset, np.mean(labels_per_instance)))"
   ]
  },
  {
   "cell_type": "markdown",
   "metadata": {},
   "source": [
    "#### [Flags](https://www.uco.es/kdis/mllresources/#Flags)\n",
    "\n",
    "Este conjunto de datos contiene detalles de algunos países y sus banderas, y el objetivo es predecir algunas de las características. El conjunto de datos se utilizó por primera vez para la clasificación de etiquetas múltiples en [Gonçalves et al. 2013]."
   ]
  },
  {
   "cell_type": "code",
   "execution_count": 55,
   "metadata": {},
   "outputs": [
    {
     "name": "stdout",
     "output_type": "stream",
     "text": [
      "Número de instancias en Flags: 194\n",
      "Número de atributos en Flags: 19\n",
      "Número de etiquetas en Flags: 7\n",
      "Car en Flags: 3.3917525773195876\n",
      "Den en Flags: 0.4845360824742268\n",
      "Div en Flags: 0.421875\n",
      "AvgIR en Flags: 2.2547085986420625\n",
      "rDep en Flags: 0.3333333333333333\n",
      "\n",
      "\n",
      "\n",
      "\n",
      "Nombres de etiquetas en Flags: \n",
      "[('red', ['0', '1']), ('green', ['0', '1']), ('blue', ['0', '1']), ('yellow', ['0', '1']), ('white', ['0', '1']), ('black', ['0', '1']), ('orange', ['0', '1'])]\n"
     ]
    },
    {
     "data": {
      "image/png": "[encoded data removed]",
      "text/plain": [
       "<Figure size 640x480 with 1 Axes>"
      ]
     },
     "metadata": {},
     "output_type": "display_data"
    }
   ],
   "source": [
    "get_dataset_info(\"Flags\", X_Flags, y_Flags, label_names_Flags)\n",
    "\n",
    "visualize_label_number(\"Flags\", y_Flags)"
   ]
  },
  {
   "cell_type": "markdown",
   "metadata": {},
   "source": [
    "#### [Yahoo_Science](https://www.uco.es/kdis/mllresources/#YahooDesc)\n",
    "\n",
    "Es un subconjunto que pertenece al conjunto Yahoo. Yahoo es un conjunto de datos para categorizar páginas web y consta de 14 categorías de primer nivel, cada una de ellas está clasificada en una serie de categorías de segundo nivel. Al centrarse en categorías de segundo nivel, se utilizaron 11 de los 14 problemas de categorización de textos independientes. La categoría a la que pertenece este conjunto de datos Yahoo_Science es Science."
   ]
  },
  {
   "cell_type": "code",
   "execution_count": 43,
   "metadata": {},
   "outputs": [
    {
     "name": "stdout",
     "output_type": "stream",
     "text": [
      "Número de instancias en Yahoo_Science: 6428\n",
      "Número de atributos en Yahoo_Science: 37187\n",
      "Número de etiquetas en Yahoo_Science: 40\n",
      "Car en Yahoo_Science: 1.4497510889856877\n",
      "Den en Yahoo_Science: 0.03624377722464219\n",
      "Div en Yahoo_Science: 4.156390787102282e-10\n",
      "AvgIR en Yahoo_Science: 52.63176803901005\n",
      "rDep en Yahoo_Science: 0.2358974358974359\n",
      "\n",
      "\n",
      "\n",
      "\n",
      "Nombres de etiquetas en Yahoo_Science: \n",
      "[('Label1', ['0', '1']), ('Label2', ['0', '1']), ('Label3', ['0', '1']), ('Label4', ['0', '1']), ('Label5', ['0', '1']), ('Label6', ['0', '1']), ('Label7', ['0', '1']), ('Label8', ['0', '1']), ('Label9', ['0', '1']), ('Label10', ['0', '1']), ('Label11', ['0', '1']), ('Label12', ['0', '1']), ('Label13', ['0', '1']), ('Label14', ['0', '1']), ('Label15', ['0', '1']), ('Label16', ['0', '1']), ('Label17', ['0', '1']), ('Label18', ['0', '1']), ('Label19', ['0', '1']), ('Label20', ['0', '1']), ('Label21', ['0', '1']), ('Label22', ['0', '1']), ('Label23', ['0', '1']), ('Label24', ['0', '1']), ('Label25', ['0', '1']), ('Label26', ['0', '1']), ('Label27', ['0', '1']), ('Label28', ['0', '1']), ('Label29', ['0', '1']), ('Label30', ['0', '1']), ('Label31', ['0', '1']), ('Label32', ['0', '1']), ('Label33', ['0', '1']), ('Label34', ['0', '1']), ('Label35', ['0', '1']), ('Label36', ['0', '1']), ('Label37', ['0', '1']), ('Label38', ['0', '1']), ('Label39', ['0', '1']), ('Label40', ['0', '1'])]\n"
     ]
    },
    {
     "data": {
      "image/png": "[encoded data removed]",
      "text/plain": [
       "<Figure size 640x480 with 1 Axes>"
      ]
     },
     "metadata": {},
     "output_type": "display_data"
    }
   ],
   "source": [
    "dataset_name = \"Yahoo_Science\"\n",
    "\n",
    "get_dataset_info(\"Yahoo_Science\", X_Science, y_Science, label_names_Science)\n",
    "\n",
    "visualize_label_number(\"Yahoo_Science\", y_Science)"
   ]
  },
  {
   "cell_type": "markdown",
   "metadata": {},
   "source": [
    "En este apartado se ha aprendido a realizar una carga de datos un poco más compleja, así, se pueden realizar clasificaciones y predicciones sobre nuevos conjuntos de datos y no sólo sobre aquellos que pertenecen y están almacenados en la libería scikit-multilearn, que puede llegar a ser limitante.\n",
    "\n",
    "En concreto sólo se han importado conjuntos de datos almacenados en formato ARFF por la facilidad que da la librería usada en la práctica para importar este tipo de ficheros, sin embargo, también sería posible importar conjunto de datos con otro tipo de estructura en los ficheros, pero su implementacón podría ser más complicada y requerir otro tipo de librerías."
   ]
  }
 ],
 "metadata": {
  "kernelspec": {
   "display_name": "MachineLearning",
   "language": "python",
   "name": "python3"
  },
  "language_info": {
   "codemirror_mode": {
    "name": "ipython",
    "version": 3
   },
   "file_extension": ".py",
   "mimetype": "text/x-python",
   "name": "python",
   "nbconvert_exporter": "python",
   "pygments_lexer": "ipython3",
   "version": "3.8.18"
  }
 },
 "nbformat": 4,
 "nbformat_minor": 2
}
