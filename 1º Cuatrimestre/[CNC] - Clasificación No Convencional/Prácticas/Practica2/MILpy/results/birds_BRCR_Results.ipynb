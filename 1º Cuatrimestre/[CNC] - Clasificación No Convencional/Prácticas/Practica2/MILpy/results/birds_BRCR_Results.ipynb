{
 "cells": [
  {
   "cell_type": "markdown",
   "metadata": {},
   "source": [
    "# Results: birds_BRCR Scaled"
   ]
  },
  {
   "cell_type": "markdown",
   "metadata": {},
   "source": [
    "<b> MIL </b>  <i>stratified k fold Validation</i>  is performed.\n",
    "Metrics: <br>\n",
    "    - AUC \n",
    "    - Accuracie"
   ]
  },
  {
   "cell_type": "markdown",
   "metadata": {},
   "source": [
    "### Import Libraries"
   ]
  },
  {
   "cell_type": "code",
   "execution_count": 1,
   "metadata": {
    "collapsed": true
   },
   "outputs": [],
   "source": [
    "import sys,os\n",
    "import warnings\n",
    "os.chdir('/Users/josemiguelarrieta/Documents/MILpy')\n",
    "sys.path.append(os.path.realpath('..'))\n",
    "from sklearn.utils import shuffle\n",
    "import random as rand\n",
    "import numpy as np\n",
    "from data import load_data\n",
    "warnings.filterwarnings('ignore')\n",
    "from MILpy.functions.mil_cross_val import mil_cross_val\n",
    "\n",
    "#Import Algorithms \n",
    "from MILpy.Algorithms.simpleMIL import simpleMIL\n",
    "from MILpy.Algorithms.MILBoost import MILBoost\n",
    "from MILpy.Algorithms.maxDD import maxDD\n",
    "from MILpy.Algorithms.CKNN import CKNN\n",
    "from MILpy.Algorithms.EMDD import EMDD\n",
    "from MILpy.Algorithms.MILES import MILES\n",
    "from MILpy.Algorithms.BOW import BOW"
   ]
  },
  {
   "cell_type": "markdown",
   "metadata": {},
   "source": [
    "### Load data"
   ]
  },
  {
   "cell_type": "code",
   "execution_count": 2,
   "metadata": {
    "collapsed": false
   },
   "outputs": [],
   "source": [
    "bags,labels,X = load_data('birds_BRCR_scaled')\n",
    "folds = 5\n",
    "runs = 5"
   ]
  },
  {
   "cell_type": "markdown",
   "metadata": {},
   "source": [
    "#### Simple MIL [max]"
   ]
  },
  {
   "cell_type": "code",
   "execution_count": 3,
   "metadata": {
    "collapsed": false
   },
   "outputs": [
    {
     "name": "stdout",
     "output_type": "stream",
     "text": [
      "\n",
      "========= SIMPLE MIL RESULT [MAX] =========\n",
      "\n",
      " run #0\n",
      "Fold# 0...Fold# 1...Fold# 2...Fold# 3...Fold# 4...\n",
      "AUC: 84.8730459681\n",
      "Accuracie: 86.1528901712\n",
      "Elapsed: 0.17\n",
      "\n",
      " run #1\n",
      "Fold# 0...Fold# 1...Fold# 2...Fold# 3...Fold# 4...\n",
      "AUC: 84.9007119641\n",
      "Accuracie: 86.3297943481\n",
      "Elapsed: 0.33\n",
      "\n",
      " run #2\n",
      "Fold# 0...Fold# 1...Fold# 2...Fold# 3...Fold# 4...\n",
      "AUC: 84.3928184492\n",
      "Accuracie: 85.5924531704\n",
      "Elapsed: 0.32\n",
      "\n",
      " run #3\n",
      "Fold# 0...Fold# 1...Fold# 2...Fold# 3...Fold# 4...\n",
      "AUC: 84.0640896662\n",
      "Accuracie: 85.5775608803\n",
      "Elapsed: 0.28\n",
      "\n",
      " run #4\n",
      "Fold# 0...Fold# 1...Fold# 2...Fold# 3...Fold# 4...\n",
      "AUC: 84.5745240675\n",
      "Accuracie: 85.9528135308\n",
      "Elapsed: 0.35\n",
      "\n",
      " MEAN AUC: 84.561038023\n",
      " MEAN ACCURACIE: 85.9211024202\n"
     ]
    }
   ],
   "source": [
    "SMILa = simpleMIL()\n",
    "parameters_smil = {'type': 'max'}\n",
    "print '\\n========= SIMPLE MIL RESULT [MAX] ========='\n",
    "AUC = []\n",
    "ACCURACIE=[]\n",
    "for i in range(runs):\n",
    "    print '\\n run #'+ str(i)\n",
    "    #Shuffle Data\n",
    "    bags,labels = shuffle(bags, labels, random_state=rand.randint(0, 100))\n",
    "    accuracie, results_accuracie, auc,results_auc, elapsed  = mil_cross_val(bags=bags,labels=labels.ravel(), model=SMILa, folds=folds, parameters=parameters_smil, timer = True)\n",
    "    print '\\n'+'AUC: ' + str(auc)+'\\n'+'Accuracie: '+ str(accuracie)+'\\n'+'Elapsed: '+ str(round(elapsed,2))\n",
    "    AUC.append(auc)\n",
    "    ACCURACIE.append(accuracie)\n",
    "print '\\n MEAN AUC: '+ str(np.mean(AUC)) + '\\n MEAN ACCURACIE: '+ str(np.mean(ACCURACIE))"
   ]
  },
  {
   "cell_type": "markdown",
   "metadata": {},
   "source": [
    "#### Simple MIL [min]"
   ]
  },
  {
   "cell_type": "code",
   "execution_count": 4,
   "metadata": {
    "collapsed": false
   },
   "outputs": [
    {
     "name": "stdout",
     "output_type": "stream",
     "text": [
      "\n",
      "========= SIMPLE MIL RESULT [MIN] =========\n",
      "\n",
      " run #0\n",
      "Fold# 0...Fold# 1...Fold# 2...Fold# 3...Fold# 4...\n",
      "AUC: 83.9468606511\n",
      "Accuracie: 84.6865480994\n",
      "Elapsed: 0.28\n",
      "\n",
      " run #1\n",
      "Fold# 0...Fold# 1...Fold# 2...Fold# 3...Fold# 4...\n",
      "AUC: 82.0552932983\n",
      "Accuracie: 83.0170938244\n",
      "Elapsed: 0.32\n",
      "\n",
      " run #2\n",
      "Fold# 0...Fold# 1...Fold# 2...Fold# 3...Fold# 4...\n",
      "AUC: 83.5323995254\n",
      "Accuracie: 83.924576787\n",
      "Elapsed: 0.31\n",
      "\n",
      " run #3\n",
      "Fold# 0...Fold# 1...Fold# 2...Fold# 3...Fold# 4...\n",
      "AUC: 83.9714053552\n",
      "Accuracie: 84.4700012773\n",
      "Elapsed: 0.27\n",
      "\n",
      " run #4\n",
      "Fold# 0...Fold# 1...Fold# 2...Fold# 3...Fold# 4...\n",
      "AUC: 83.2190192437\n",
      "Accuracie: 83.9344348519\n",
      "Elapsed: 0.34\n",
      "\n",
      " MEAN AUC: 83.3449956147\n",
      " MEAN ACCURACIE: 84.006530968\n"
     ]
    }
   ],
   "source": [
    "parameters_smil = {'type': 'min'}\n",
    "print '\\n========= SIMPLE MIL RESULT [MIN] ========='\n",
    "AUC = []\n",
    "ACCURACIE=[]\n",
    "for i in range(runs):\n",
    "    print '\\n run #'+ str(i)\n",
    "    bags,labels = shuffle(bags, labels, random_state=rand.randint(0, 100))\n",
    "    accuracie, results_accuracie, auc,results_auc, elapsed   = mil_cross_val(bags=bags,labels=labels.ravel(), model=SMILa, folds=folds,parameters=parameters_smil, timer=True)\n",
    "    print '\\n'+'AUC: ' + str(auc)+'\\n'+'Accuracie: '+ str(accuracie)+'\\n'+'Elapsed: '+ str(round(elapsed,2))\n",
    "    AUC.append(auc)\n",
    "    ACCURACIE.append(accuracie)\n",
    "print '\\n MEAN AUC: '+ str(np.mean(AUC)) + '\\n MEAN ACCURACIE: '+ str(np.mean(ACCURACIE))"
   ]
  },
  {
   "cell_type": "markdown",
   "metadata": {},
   "source": [
    "#### Simple MIL [extreme]"
   ]
  },
  {
   "cell_type": "code",
   "execution_count": 5,
   "metadata": {
    "collapsed": false
   },
   "outputs": [
    {
     "name": "stdout",
     "output_type": "stream",
     "text": [
      "\n",
      "========= SIMPLE MIL RESULT [MIN] =========\n",
      "\n",
      " run #0\n",
      "Fold# 0...Fold# 1...Fold# 2...Fold# 3...Fold# 4...\n",
      "AUC: 85.4444745395\n",
      "Accuracie: 86.3230620111\n",
      "Elapsed: 0.31\n",
      "\n",
      " run #1\n",
      "Fold# 0...Fold# 1...Fold# 2...Fold# 3...Fold# 4...\n",
      "AUC: 85.4926481969\n",
      "Accuracie: 86.6866683197\n",
      "Elapsed: 0.71\n",
      "\n",
      " run #2\n",
      "Fold# 0...Fold# 1...Fold# 2...Fold# 3...Fold# 4...\n",
      "AUC: 84.3939276686\n",
      "Accuracie: 85.4040228719\n",
      "Elapsed: 0.51\n",
      "\n",
      " run #3\n",
      "Fold# 0...Fold# 1...Fold# 2...Fold# 3...Fold# 4...\n",
      "AUC: 85.8562142083\n",
      "Accuracie: 87.032166445\n",
      "Elapsed: 0.52\n",
      "\n",
      " run #4\n",
      "Fold# 0...Fold# 1...Fold# 2...Fold# 3...Fold# 4...\n",
      "AUC: 86.3076665119\n",
      "Accuracie: 87.0387184516\n",
      "Elapsed: 0.66\n",
      "\n",
      " MEAN AUC: 85.498986225\n",
      " MEAN ACCURACIE: 86.4969276199\n"
     ]
    }
   ],
   "source": [
    "parameters_smil = {'type': 'extreme'}\n",
    "print '\\n========= SIMPLE MIL RESULT [MIN] ========='\n",
    "AUC = []\n",
    "ACCURACIE=[]\n",
    "for i in range(runs):\n",
    "    print '\\n run #'+ str(i)\n",
    "    #Shuffle Data\n",
    "    bags,labels = shuffle(bags, labels, random_state=rand.randint(0, 100))\n",
    "    accuracie, results_accuracie, auc,results_auc, elapsed = mil_cross_val(bags=bags,labels=labels.ravel(), model=SMILa, folds=folds,parameters=parameters_smil, timer=True)\n",
    "    print '\\n'+'AUC: ' + str(auc)+'\\n'+'Accuracie: '+ str(accuracie)+'\\n'+'Elapsed: '+ str(round(elapsed,2))\n",
    "    AUC.append(auc)\n",
    "    ACCURACIE.append(accuracie)\n",
    "print '\\n MEAN AUC: '+ str(np.mean(AUC)) + '\\n MEAN ACCURACIE: '+ str(np.mean(ACCURACIE))"
   ]
  },
  {
   "cell_type": "markdown",
   "metadata": {},
   "source": [
    "#### Simple MIL [average]"
   ]
  },
  {
   "cell_type": "code",
   "execution_count": 6,
   "metadata": {
    "collapsed": false
   },
   "outputs": [
    {
     "name": "stdout",
     "output_type": "stream",
     "text": [
      "\n",
      "========= SIMPLE MIL RESULT [AVERAGE] =========\n",
      "\n",
      " run #0\n",
      "Fold# 0...Fold# 1...Fold# 2...Fold# 3...Fold# 4...\n",
      "AUC: 77.8908192746\n",
      "Accuracie: 80.4946614671\n",
      "Elapsed: 0.28\n",
      "\n",
      " run #1\n",
      "Fold# 0...Fold# 1...Fold# 2...Fold# 3...Fold# 4...\n",
      "AUC: 77.0807408554\n",
      "Accuracie: 79.9259442929\n",
      "Elapsed: 0.53\n",
      "\n",
      " run #2\n",
      "Fold# 0...Fold# 1...Fold# 2...Fold# 3...Fold# 4...\n",
      "AUC: 76.7536372079\n",
      "Accuracie: 79.7574405097\n",
      "Elapsed: 0.53\n",
      "\n",
      " run #3\n",
      "Fold# 0...Fold# 1...Fold# 2...Fold# 3...Fold# 4...\n",
      "AUC: 77.2741448692\n",
      "Accuracie: 80.307779005\n",
      "Elapsed: 0.56\n",
      "\n",
      " run #4\n",
      "Fold# 0...Fold# 1...Fold# 2...Fold# 3...Fold# 4...\n",
      "AUC: 76.8014368261\n",
      "Accuracie: 79.5606699276\n",
      "Elapsed: 0.45\n",
      "\n",
      " MEAN AUC: 77.1601558066\n",
      " MEAN ACCURACIE: 80.0092990405\n"
     ]
    }
   ],
   "source": [
    "parameters_smil = {'type': 'average'}\n",
    "print '\\n========= SIMPLE MIL RESULT [AVERAGE] ========='\n",
    "AUC = []\n",
    "ACCURACIE=[]\n",
    "for i in range(runs):\n",
    "    print '\\n run #'+ str(i)\n",
    "    bags,labels = shuffle(bags, labels, random_state=rand.randint(0, 100))\n",
    "    accuracie, results_accuracie, auc,results_auc, elapsed   = mil_cross_val(bags=bags,labels=labels.ravel(), model=SMILa, folds=folds,parameters=parameters_smil, timer=True)\n",
    "    print '\\n'+'AUC: ' + str(auc)+'\\n'+'Accuracie: '+ str(accuracie)+'\\n'+'Elapsed: '+ str(round(elapsed,2))\n",
    "    AUC.append(auc)\n",
    "    ACCURACIE.append(accuracie)\n",
    "print '\\n MEAN AUC: '+ str(np.mean(AUC)) + '\\n MEAN ACCURACIE: '+ str(np.mean(ACCURACIE))"
   ]
  },
  {
   "cell_type": "markdown",
   "metadata": {},
   "source": [
    "#### Bag of Words "
   ]
  },
  {
   "cell_type": "code",
   "execution_count": null,
   "metadata": {
    "collapsed": false
   },
   "outputs": [
    {
     "name": "stdout",
     "output_type": "stream",
     "text": [
      "\n",
      "========= BAG OF WORDS RESULT =========\n",
      "\n",
      " run #0\n",
      "Fold# 0...Fold# 1...Fold# 2...Fold# 3...Fold# 4...\n",
      "AUC: 87.2501547748\n",
      "Accuracie: 86.5064881395\n",
      "Elapsed: 196.07\n",
      "\n",
      " run #1\n",
      "Fold# 0...Fold# 1...Fold# 2...Fold# 3...Fold# 4...\n",
      "AUC: 88.3420910076\n",
      "Accuracie: 87.7726934608\n",
      "Elapsed: 198.71\n",
      "\n",
      " run #2\n",
      "Fold# 0...Fold# 1...Fold# 2...Fold# 3...Fold# 4...\n",
      "AUC: 87.0900789351\n",
      "Accuracie: 86.3048636627\n",
      "Elapsed: 193.62\n",
      "\n",
      " run #3\n",
      "Fold# 0...Fold# 1...Fold# 2...Fold# 3...Fold# 4...\n",
      "AUC: 87.5014316669\n",
      "Accuracie: 86.8652405533\n",
      "Elapsed: 129.65\n",
      "\n",
      " run #4\n",
      "Fold# 0...Fold# 1...Fold# 2...Fold# 3...Fold# 4...\n",
      "AUC: 86.0223133674\n",
      "Accuracie: 85.4023548152\n",
      "Elapsed: 111.1\n",
      "\n",
      " MEAN AUC: 87.2412139504\n",
      " MEAN ACCURACIE: 86.5703281263\n"
     ]
    }
   ],
   "source": [
    "bow_classifier = BOW() \n",
    "parameters_bow = {'k':100,'covar_type':'diag','n_iter':20}\n",
    "print '\\n========= BAG OF WORDS RESULT ========='\n",
    "AUC = []\n",
    "ACCURACIE=[]\n",
    "for i in range(runs):\n",
    "    print '\\n run #'+ str(i)\n",
    "    bags,labels = shuffle(bags, labels, random_state=rand.randint(0, 100))\n",
    "    accuracie, results_accuracie, auc,results_auc, elapsed = mil_cross_val(bags=bags,labels=labels.ravel(), model=bow_classifier, folds=folds,parameters=parameters_bow, timer=True)\n",
    "    print '\\n'+'AUC: ' + str(auc)+'\\n'+'Accuracie: '+ str(accuracie)+'\\n'+'Elapsed: '+ str(round(elapsed,2))\n",
    "    AUC.append(auc)\n",
    "    ACCURACIE.append(accuracie)\n",
    "print '\\n MEAN AUC: '+ str(np.mean(AUC)) + '\\n MEAN ACCURACIE: '+ str(np.mean(ACCURACIE))"
   ]
  },
  {
   "cell_type": "markdown",
   "metadata": {},
   "source": [
    "#### Citation KNN "
   ]
  },
  {
   "cell_type": "code",
   "execution_count": null,
   "metadata": {
    "collapsed": false
   },
   "outputs": [
    {
     "name": "stdout",
     "output_type": "stream",
     "text": [
      "\n",
      "========= CKNN RESULT =========\n",
      "\n",
      " run #0\n",
      "Fold# 0...Fold# 1...Fold# 2...Fold# 3...Fold# 4...\n",
      "AUC: 70.4239797761\n",
      "Accuracie: 75.5339209101\n",
      "Elapsed: 37692.99\n",
      "\n",
      " run #1\n",
      "Fold# 0...Fold# 1...Fold# 2...Fold# 3...Fold# 4..."
     ]
    }
   ],
   "source": [
    "cknn_classifier = CKNN() \n",
    "parameters_cknn = {'references': 3, 'citers': 5}\n",
    "print '\\n========= CKNN RESULT ========='\n",
    "AUC = []\n",
    "ACCURACIE=[]\n",
    "for i in range(runs):\n",
    "    print '\\n run #'+ str(i)\n",
    "    bags,labels = shuffle(bags, labels, random_state=rand.randint(0, 100))\n",
    "    accuracie, results_accuracie, auc,results_auc, elapsed   = mil_cross_val(bags=bags,labels=labels.ravel(), model=cknn_classifier, folds=folds,parameters=parameters_cknn, timer=True)\n",
    "    print '\\n'+'AUC: ' + str(auc)+'\\n'+'Accuracie: '+ str(accuracie)+'\\n'+'Elapsed: '+ str(round(elapsed,2))\n",
    "    AUC.append(auc)\n",
    "    ACCURACIE.append(accuracie)\n",
    "print '\\n MEAN AUC: '+ str(np.mean(AUC)) + '\\n MEAN ACCURACIE: '+ str(np.mean(ACCURACIE))"
   ]
  },
  {
   "cell_type": "markdown",
   "metadata": {},
   "source": [
    "#### Diverse Density"
   ]
  },
  {
   "cell_type": "code",
   "execution_count": null,
   "metadata": {
    "collapsed": false
   },
   "outputs": [],
   "source": [
    "maxDD_classifier = maxDD()\n",
    "print '\\n========= DIVERSE DENSITY RESULT========='\n",
    "AUC = []\n",
    "ACCURACIE=[]\n",
    "for i in range(runs):\n",
    "    print '\\n run #'+ str(i)\n",
    "    bags,labels = shuffle(bags, labels, random_state=rand.randint(0, 100))\n",
    "    accuracie, results_accuracie, auc,results_auc, elapsed = mil_cross_val(bags=bags,labels=labels.ravel(), model=maxDD_classifier, folds=folds,parameters={}, timer=True)\n",
    "    print '\\n'+'AUC: ' + str(auc)+'\\n'+'Accuracie: '+ str(accuracie)+'\\n'+'Elapsed: '+ str(round(elapsed,2))\n",
    "    AUC.append(auc)\n",
    "    ACCURACIE.append(accuracie)\n",
    "print '\\n MEAN AUC: '+ str(np.mean(AUC)) + '\\n MEAN ACCURACIE: '+ str(np.mean(ACCURACIE))"
   ]
  },
  {
   "cell_type": "markdown",
   "metadata": {},
   "source": [
    "#### EM-DD"
   ]
  },
  {
   "cell_type": "code",
   "execution_count": null,
   "metadata": {
    "collapsed": false
   },
   "outputs": [],
   "source": [
    "emdd_classifier = EMDD()\n",
    "print '\\n========= EM-DD RESULT ========='\n",
    "AUC = []\n",
    "ACCURACIE=[]\n",
    "for i in range(runs):\n",
    "    print '\\n run #'+ str(i)\n",
    "    bags,labels = shuffle(bags, labels, random_state=rand.randint(0, 100))\n",
    "    accuracie, results_accuracie, auc,results_auc, elapsed = mil_cross_val(bags=bags,labels=labels.ravel(), model=emdd_classifier, folds=folds,parameters={}, timer=True)\n",
    "    print '\\n'+'AUC: ' + str(auc)+'\\n'+'Accuracie: '+ str(accuracie)+'\\n'+'Elapsed: '+ str(round(elapsed,2))\n",
    "    AUC.append(auc)\n",
    "    ACCURACIE.append(accuracie)\n",
    "print '\\n MEAN AUC: '+ str(np.mean(AUC)) + '\\n MEAN ACCURACIE: '+ str(np.mean(ACCURACIE))"
   ]
  },
  {
   "cell_type": "markdown",
   "metadata": {},
   "source": [
    "#### MILBoost"
   ]
  },
  {
   "cell_type": "code",
   "execution_count": null,
   "metadata": {
    "collapsed": false
   },
   "outputs": [],
   "source": [
    "milboost_classifier = MILBoost()\n",
    "print '\\n========= MILBOOST RESULT ========='\n",
    "AUC = []\n",
    "ACCURACIE=[]\n",
    "for i in range(runs):\n",
    "    print '\\n run #'+ str(i)\n",
    "    bags,labels = shuffle(bags, labels, random_state=rand.randint(0, 100))\n",
    "    accuracie, results_accuracie, auc,results_auc, elapsed = mil_cross_val(bags=bags,labels=labels, model=milboost_classifier, folds=folds,parameters={}, timer=True)\n",
    "    print '\\n'+'AUC: ' + str(auc)+'\\n'+'Accuracie: '+ str(accuracie)+'\\n'+'Elapsed: '+ str(round(elapsed,2))\n",
    "    AUC.append(auc)\n",
    "    ACCURACIE.append(accuracie)\n",
    "print '\\n MEAN AUC: '+ str(np.mean(AUC)) + '\\n MEAN ACCURACIE: '+ str(np.mean(ACCURACIE))"
   ]
  },
  {
   "cell_type": "markdown",
   "metadata": {},
   "source": [
    "#### Miles"
   ]
  },
  {
   "cell_type": "code",
   "execution_count": null,
   "metadata": {
    "collapsed": true
   },
   "outputs": [],
   "source": [
    "#Pending"
   ]
  }
 ],
 "metadata": {
  "kernelspec": {
   "display_name": "Python 2",
   "language": "python",
   "name": "python2"
  },
  "language_info": {
   "codemirror_mode": {
    "name": "ipython",
    "version": 2
   },
   "file_extension": ".py",
   "mimetype": "text/x-python",
   "name": "python",
   "nbconvert_exporter": "python",
   "pygments_lexer": "ipython2",
   "version": "2.7.12"
  }
 },
 "nbformat": 4,
 "nbformat_minor": 0
}
