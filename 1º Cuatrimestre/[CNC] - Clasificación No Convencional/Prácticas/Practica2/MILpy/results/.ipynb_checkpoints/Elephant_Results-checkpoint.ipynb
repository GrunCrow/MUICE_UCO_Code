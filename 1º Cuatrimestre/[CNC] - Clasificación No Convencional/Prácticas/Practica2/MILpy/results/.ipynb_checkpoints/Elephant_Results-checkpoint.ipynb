{
 "cells": [
  {
   "cell_type": "markdown",
   "metadata": {},
   "source": [
    "# Results: Elephant Scaled"
   ]
  },
  {
   "cell_type": "markdown",
   "metadata": {},
   "source": [
    "<b> MIL </b>  <i>stratified k fold Validation</i>  is performed.\n",
    "Metrics: <br>\n",
    "    - AUC \n",
    "    - Accuracie"
   ]
  },
  {
   "cell_type": "markdown",
   "metadata": {},
   "source": [
    "### Import Libraries"
   ]
  },
  {
   "cell_type": "code",
   "execution_count": 1,
   "metadata": {
    "collapsed": true
   },
   "outputs": [],
   "source": [
    "import sys,os\n",
    "import warnings\n",
    "os.chdir('/Users/josemiguelarrieta/Documents/MILpy')\n",
    "sys.path.append(os.path.realpath('..'))\n",
    "from sklearn.utils import shuffle\n",
    "import random as rand\n",
    "import numpy as np\n",
    "from data import load_data\n",
    "warnings.filterwarnings('ignore')\n",
    "from MILpy.functions.mil_cross_val import mil_cross_val\n",
    "\n",
    "#Import Algorithms \n",
    "from MILpy.Algorithms.simpleMIL import simpleMIL\n",
    "from MILpy.Algorithms.MILBoost import MILBoost\n",
    "from MILpy.Algorithms.maxDD import maxDD\n",
    "from MILpy.Algorithms.CKNN import CKNN\n",
    "from MILpy.Algorithms.EMDD import EMDD\n",
    "from MILpy.Algorithms.MILES import MILES\n",
    "from MILpy.Algorithms.BOW import BOW"
   ]
  },
  {
   "cell_type": "markdown",
   "metadata": {},
   "source": [
    "### Load data"
   ]
  },
  {
   "cell_type": "code",
   "execution_count": 2,
   "metadata": {
    "collapsed": false
   },
   "outputs": [],
   "source": [
    "bags,labels,X = load_data('Elephant_scaled')\n",
    "folds = 5\n",
    "runs = 5"
   ]
  },
  {
   "cell_type": "markdown",
   "metadata": {},
   "source": [
    "#### Simple MIL [max]"
   ]
  },
  {
   "cell_type": "code",
   "execution_count": 3,
   "metadata": {
    "collapsed": false
   },
   "outputs": [
    {
     "name": "stdout",
     "output_type": "stream",
     "text": [
      "\n",
      "========= SIMPLE MIL RESULT [MAX] =========\n",
      "\n",
      " run #0\n",
      "Fold# 0...Fold# 1...Fold# 2...Fold# 3...Fold# 4...\n",
      "AUC: 81.5\n",
      "Accuracie: 81.5\n",
      "Elapsed: 0.1\n",
      "\n",
      " run #1\n",
      "Fold# 0...Fold# 1...Fold# 2...Fold# 3...Fold# 4...\n",
      "AUC: 78.0\n",
      "Accuracie: 78.0\n",
      "Elapsed: 0.09\n",
      "\n",
      " run #2\n",
      "Fold# 0...Fold# 1...Fold# 2...Fold# 3...Fold# 4...\n",
      "AUC: 78.5\n",
      "Accuracie: 78.5\n",
      "Elapsed: 0.1\n",
      "\n",
      " run #3\n",
      "Fold# 0...Fold# 1...Fold# 2...Fold# 3...Fold# 4...\n",
      "AUC: 79.0\n",
      "Accuracie: 79.0\n",
      "Elapsed: 0.08\n",
      "\n",
      " run #4\n",
      "Fold# 0...Fold# 1...Fold# 2...Fold# 3...Fold# 4...\n",
      "AUC: 79.0\n",
      "Accuracie: 79.0\n",
      "Elapsed: 0.11\n",
      "\n",
      " MEAN AUC: 79.2\n",
      " MEAN ACCURACIE: 79.2\n"
     ]
    }
   ],
   "source": [
    "SMILa = simpleMIL()\n",
    "parameters_smil = {'type': 'max'}\n",
    "print '\\n========= SIMPLE MIL RESULT [MAX] ========='\n",
    "AUC = []\n",
    "ACCURACIE=[]\n",
    "for i in range(runs):\n",
    "    print '\\n run #'+ str(i)\n",
    "    #Shuffle Data\n",
    "    bags,labels = shuffle(bags, labels, random_state=rand.randint(0, 100))\n",
    "    accuracie, results_accuracie, auc,results_auc, elapsed  = mil_cross_val(bags=bags,labels=labels.ravel(), model=SMILa, folds=folds, parameters=parameters_smil, timer = True)\n",
    "    print '\\n'+'AUC: ' + str(auc)+'\\n'+'Accuracie: '+ str(accuracie)+'\\n'+'Elapsed: '+ str(round(elapsed,2))\n",
    "    AUC.append(auc)\n",
    "    ACCURACIE.append(accuracie)\n",
    "print '\\n MEAN AUC: '+ str(np.mean(AUC)) + '\\n MEAN ACCURACIE: '+ str(np.mean(ACCURACIE))"
   ]
  },
  {
   "cell_type": "markdown",
   "metadata": {},
   "source": [
    "#### Simple MIL [min]"
   ]
  },
  {
   "cell_type": "code",
   "execution_count": 4,
   "metadata": {
    "collapsed": false
   },
   "outputs": [
    {
     "name": "stdout",
     "output_type": "stream",
     "text": [
      "\n",
      "========= SIMPLE MIL RESULT [MIN] =========\n",
      "\n",
      " run #0\n",
      "Fold# 0...Fold# 1...Fold# 2...Fold# 3...Fold# 4...\n",
      "AUC: 68.0\n",
      "Accuracie: 68.0\n",
      "Elapsed: 0.1\n",
      "\n",
      " run #1\n",
      "Fold# 0...Fold# 1...Fold# 2...Fold# 3...Fold# 4...\n",
      "AUC: 72.5\n",
      "Accuracie: 72.5\n",
      "Elapsed: 0.11\n",
      "\n",
      " run #2\n",
      "Fold# 0...Fold# 1...Fold# 2...Fold# 3...Fold# 4...\n",
      "AUC: 69.5\n",
      "Accuracie: 69.5\n",
      "Elapsed: 0.11\n",
      "\n",
      " run #3\n",
      "Fold# 0...Fold# 1...Fold# 2...Fold# 3...Fold# 4...\n",
      "AUC: 71.0\n",
      "Accuracie: 71.0\n",
      "Elapsed: 0.11\n",
      "\n",
      " run #4\n",
      "Fold# 0...Fold# 1...Fold# 2...Fold# 3...Fold# 4...\n",
      "AUC: 69.5\n",
      "Accuracie: 69.5\n",
      "Elapsed: 0.16\n",
      "\n",
      " MEAN AUC: 70.1\n",
      " MEAN ACCURACIE: 70.1\n"
     ]
    }
   ],
   "source": [
    "parameters_smil = {'type': 'min'}\n",
    "print '\\n========= SIMPLE MIL RESULT [MIN] ========='\n",
    "AUC = []\n",
    "ACCURACIE=[]\n",
    "for i in range(runs):\n",
    "    print '\\n run #'+ str(i)\n",
    "    bags,labels = shuffle(bags, labels, random_state=rand.randint(0, 100))\n",
    "    accuracie, results_accuracie, auc,results_auc, elapsed   = mil_cross_val(bags=bags,labels=labels.ravel(), model=SMILa, folds=folds,parameters=parameters_smil, timer=True)\n",
    "    print '\\n'+'AUC: ' + str(auc)+'\\n'+'Accuracie: '+ str(accuracie)+'\\n'+'Elapsed: '+ str(round(elapsed,2))\n",
    "    AUC.append(auc)\n",
    "    ACCURACIE.append(accuracie)\n",
    "print '\\n MEAN AUC: '+ str(np.mean(AUC)) + '\\n MEAN ACCURACIE: '+ str(np.mean(ACCURACIE))"
   ]
  },
  {
   "cell_type": "markdown",
   "metadata": {},
   "source": [
    "#### Simple MIL [extreme]"
   ]
  },
  {
   "cell_type": "code",
   "execution_count": 5,
   "metadata": {
    "collapsed": false
   },
   "outputs": [
    {
     "name": "stdout",
     "output_type": "stream",
     "text": [
      "\n",
      "========= SIMPLE MIL RESULT [MIN] =========\n",
      "\n",
      " run #0\n",
      "Fold# 0...Fold# 1...Fold# 2...Fold# 3...Fold# 4...\n",
      "AUC: 82.0\n",
      "Accuracie: 82.0\n",
      "Elapsed: 0.18\n",
      "\n",
      " run #1\n",
      "Fold# 0...Fold# 1...Fold# 2...Fold# 3...Fold# 4...\n",
      "AUC: 84.0\n",
      "Accuracie: 84.0\n",
      "Elapsed: 0.18\n",
      "\n",
      " run #2\n",
      "Fold# 0...Fold# 1...Fold# 2...Fold# 3...Fold# 4...\n",
      "AUC: 83.5\n",
      "Accuracie: 83.5\n",
      "Elapsed: 0.25\n",
      "\n",
      " run #3\n",
      "Fold# 0...Fold# 1...Fold# 2...Fold# 3...Fold# 4...\n",
      "AUC: 84.5\n",
      "Accuracie: 84.5\n",
      "Elapsed: 0.35\n",
      "\n",
      " run #4\n",
      "Fold# 0...Fold# 1...Fold# 2...Fold# 3...Fold# 4...\n",
      "AUC: 82.0\n",
      "Accuracie: 82.0\n",
      "Elapsed: 0.33\n",
      "\n",
      " MEAN AUC: 83.2\n",
      " MEAN ACCURACIE: 83.2\n"
     ]
    }
   ],
   "source": [
    "parameters_smil = {'type': 'extreme'}\n",
    "print '\\n========= SIMPLE MIL RESULT [MIN] ========='\n",
    "AUC = []\n",
    "ACCURACIE=[]\n",
    "for i in range(runs):\n",
    "    print '\\n run #'+ str(i)\n",
    "    #Shuffle Data\n",
    "    bags,labels = shuffle(bags, labels, random_state=rand.randint(0, 100))\n",
    "    accuracie, results_accuracie, auc,results_auc, elapsed = mil_cross_val(bags=bags,labels=labels.ravel(), model=SMILa, folds=folds,parameters=parameters_smil, timer=True)\n",
    "    print '\\n'+'AUC: ' + str(auc)+'\\n'+'Accuracie: '+ str(accuracie)+'\\n'+'Elapsed: '+ str(round(elapsed,2))\n",
    "    AUC.append(auc)\n",
    "    ACCURACIE.append(accuracie)\n",
    "print '\\n MEAN AUC: '+ str(np.mean(AUC)) + '\\n MEAN ACCURACIE: '+ str(np.mean(ACCURACIE))"
   ]
  },
  {
   "cell_type": "markdown",
   "metadata": {},
   "source": [
    "#### Simple MIL [average]"
   ]
  },
  {
   "cell_type": "code",
   "execution_count": 6,
   "metadata": {
    "collapsed": false
   },
   "outputs": [
    {
     "name": "stdout",
     "output_type": "stream",
     "text": [
      "\n",
      "========= SIMPLE MIL RESULT [AVERAGE] =========\n",
      "\n",
      " run #0\n",
      "Fold# 0...Fold# 1...Fold# 2...Fold# 3...Fold# 4...\n",
      "AUC: 85.5\n",
      "Accuracie: 85.5\n",
      "Elapsed: 0.12\n",
      "\n",
      " run #1\n",
      "Fold# 0...Fold# 1...Fold# 2...Fold# 3...Fold# 4...\n",
      "AUC: 85.0\n",
      "Accuracie: 85.0\n",
      "Elapsed: 0.12\n",
      "\n",
      " run #2\n",
      "Fold# 0...Fold# 1...Fold# 2...Fold# 3...Fold# 4...\n",
      "AUC: 85.0\n",
      "Accuracie: 85.0\n",
      "Elapsed: 0.11\n",
      "\n",
      " run #3\n",
      "Fold# 0...Fold# 1...Fold# 2...Fold# 3...Fold# 4...\n",
      "AUC: 86.0\n",
      "Accuracie: 86.0\n",
      "Elapsed: 0.11\n",
      "\n",
      " run #4\n",
      "Fold# 0...Fold# 1...Fold# 2...Fold# 3...Fold# 4...\n",
      "AUC: 83.5\n",
      "Accuracie: 83.5\n",
      "Elapsed: 0.18\n",
      "\n",
      " MEAN AUC: 85.0\n",
      " MEAN ACCURACIE: 85.0\n"
     ]
    }
   ],
   "source": [
    "parameters_smil = {'type': 'average'}\n",
    "print '\\n========= SIMPLE MIL RESULT [AVERAGE] ========='\n",
    "AUC = []\n",
    "ACCURACIE=[]\n",
    "for i in range(runs):\n",
    "    print '\\n run #'+ str(i)\n",
    "    bags,labels = shuffle(bags, labels, random_state=rand.randint(0, 100))\n",
    "    accuracie, results_accuracie, auc,results_auc, elapsed   = mil_cross_val(bags=bags,labels=labels.ravel(), model=SMILa, folds=folds,parameters=parameters_smil, timer=True)\n",
    "    print '\\n'+'AUC: ' + str(auc)+'\\n'+'Accuracie: '+ str(accuracie)+'\\n'+'Elapsed: '+ str(round(elapsed,2))\n",
    "    AUC.append(auc)\n",
    "    ACCURACIE.append(accuracie)\n",
    "print '\\n MEAN AUC: '+ str(np.mean(AUC)) + '\\n MEAN ACCURACIE: '+ str(np.mean(ACCURACIE))"
   ]
  },
  {
   "cell_type": "markdown",
   "metadata": {},
   "source": [
    "#### Bag of Words "
   ]
  },
  {
   "cell_type": "code",
   "execution_count": 7,
   "metadata": {
    "collapsed": false
   },
   "outputs": [
    {
     "name": "stdout",
     "output_type": "stream",
     "text": [
      "\n",
      "========= BAG OF WORDS RESULT =========\n",
      "\n",
      " run #0\n",
      "Fold# 0...Fold# 1...Fold# 2...Fold# 3...Fold# 4...\n",
      "AUC: 74.0\n",
      "Accuracie: 74.0\n",
      "Elapsed: 15.44\n",
      "\n",
      " run #1\n",
      "Fold# 0...Fold# 1...Fold# 2...Fold# 3...Fold# 4...\n",
      "AUC: 72.0\n",
      "Accuracie: 72.0\n",
      "Elapsed: 18.86\n",
      "\n",
      " run #2\n",
      "Fold# 0...Fold# 1...Fold# 2...Fold# 3...Fold# 4...\n",
      "AUC: 74.5\n",
      "Accuracie: 74.5\n",
      "Elapsed: 23.71\n",
      "\n",
      " run #3\n",
      "Fold# 0...Fold# 1...Fold# 2...Fold# 3...Fold# 4...\n",
      "AUC: 75.5\n",
      "Accuracie: 75.5\n",
      "Elapsed: 24.15\n",
      "\n",
      " run #4\n",
      "Fold# 0...Fold# 1...Fold# 2...Fold# 3...Fold# 4...\n",
      "AUC: 71.0\n",
      "Accuracie: 71.0\n",
      "Elapsed: 19.27\n",
      "\n",
      " MEAN AUC: 73.4\n",
      " MEAN ACCURACIE: 73.4\n"
     ]
    }
   ],
   "source": [
    "bow_classifier = BOW() \n",
    "parameters_bow = {'k':100,'covar_type':'diag','n_iter':20}\n",
    "print '\\n========= BAG OF WORDS RESULT ========='\n",
    "AUC = []\n",
    "ACCURACIE=[]\n",
    "for i in range(runs):\n",
    "    print '\\n run #'+ str(i)\n",
    "    bags,labels = shuffle(bags, labels, random_state=rand.randint(0, 100))\n",
    "    accuracie, results_accuracie, auc,results_auc, elapsed = mil_cross_val(bags=bags,labels=labels.ravel(), model=bow_classifier, folds=folds,parameters=parameters_bow, timer=True)\n",
    "    print '\\n'+'AUC: ' + str(auc)+'\\n'+'Accuracie: '+ str(accuracie)+'\\n'+'Elapsed: '+ str(round(elapsed,2))\n",
    "    AUC.append(auc)\n",
    "    ACCURACIE.append(accuracie)\n",
    "print '\\n MEAN AUC: '+ str(np.mean(AUC)) + '\\n MEAN ACCURACIE: '+ str(np.mean(ACCURACIE))"
   ]
  },
  {
   "cell_type": "markdown",
   "metadata": {},
   "source": [
    "#### Citation KNN "
   ]
  },
  {
   "cell_type": "code",
   "execution_count": 11,
   "metadata": {
    "collapsed": false
   },
   "outputs": [
    {
     "name": "stdout",
     "output_type": "stream",
     "text": [
      "\n",
      "========= CKNN RESULT =========\n",
      "\n",
      " run #0\n",
      "Fold# 0...Fold# 1...Fold# 2...Fold# 3...Fold# 4...\n",
      "AUC: 75.0\n",
      "Accuracie: 75.0\n",
      "Elapsed: 769.71\n",
      "\n",
      " run #1\n",
      "Fold# 0...Fold# 1...Fold# 2...Fold# 3...Fold# 4...\n",
      "AUC: 76.0\n",
      "Accuracie: 76.0\n",
      "Elapsed: 752.86\n",
      "\n",
      " run #2\n",
      "Fold# 0...Fold# 1...Fold# 2...Fold# 3...Fold# 4...\n",
      "AUC: 77.0\n",
      "Accuracie: 77.0\n",
      "Elapsed: 751.04\n",
      "\n",
      " run #3\n",
      "Fold# 0...Fold# 1...Fold# 2...Fold# 3...Fold# 4...\n",
      "AUC: 81.5\n",
      "Accuracie: 81.5\n",
      "Elapsed: 780.75\n",
      "\n",
      " run #4\n",
      "Fold# 0...Fold# 1...Fold# 2...Fold# 3...Fold# 4...\n",
      "AUC: 78.5\n",
      "Accuracie: 78.5\n",
      "Elapsed: 759.86\n",
      "\n",
      " MEAN AUC: 77.6\n",
      " MEAN ACCURACIE: 77.6\n"
     ]
    }
   ],
   "source": [
    "cknn_classifier = CKNN() \n",
    "parameters_cknn = {'references': 3, 'citers': 5}\n",
    "print '\\n========= CKNN RESULT ========='\n",
    "AUC = []\n",
    "ACCURACIE=[]\n",
    "for i in range(runs):\n",
    "    print '\\n run #'+ str(i)\n",
    "    bags,labels = shuffle(bags, labels, random_state=rand.randint(0, 100))\n",
    "    accuracie, results_accuracie, auc,results_auc, elapsed   = mil_cross_val(bags=bags,labels=labels.ravel(), model=cknn_classifier, folds=folds,parameters=parameters_cknn, timer=True)\n",
    "    print '\\n'+'AUC: ' + str(auc)+'\\n'+'Accuracie: '+ str(accuracie)+'\\n'+'Elapsed: '+ str(round(elapsed,2))\n",
    "    AUC.append(auc)\n",
    "    ACCURACIE.append(accuracie)\n",
    "print '\\n MEAN AUC: '+ str(np.mean(AUC)) + '\\n MEAN ACCURACIE: '+ str(np.mean(ACCURACIE))"
   ]
  },
  {
   "cell_type": "markdown",
   "metadata": {},
   "source": [
    "#### Diverse Density"
   ]
  },
  {
   "cell_type": "code",
   "execution_count": 8,
   "metadata": {
    "collapsed": false
   },
   "outputs": [
    {
     "name": "stdout",
     "output_type": "stream",
     "text": [
      "\n",
      "========= DIVERSE DENSITY RESULT=========\n",
      "\n",
      " run #0\n",
      "Fold# 0...Fold# 1...Fold# 2...Fold# 3...Fold# 4...\n",
      "AUC: 63.5\n",
      "Accuracie: 63.5\n",
      "Elapsed: 88.2\n",
      "\n",
      " run #1\n",
      "Fold# 0...Fold# 1...Fold# 2...Fold# 3...Fold# 4...\n",
      "AUC: 63.5\n",
      "Accuracie: 63.5\n",
      "Elapsed: 68.04\n",
      "\n",
      " run #2\n",
      "Fold# 0...Fold# 1...Fold# 2...Fold# 3...Fold# 4...\n",
      "AUC: 74.5\n",
      "Accuracie: 74.5\n",
      "Elapsed: 74.44\n",
      "\n",
      " run #3\n",
      "Fold# 0...Fold# 1...Fold# 2...Fold# 3...Fold# 4...\n",
      "AUC: 70.5\n",
      "Accuracie: 70.5\n",
      "Elapsed: 176.85\n",
      "\n",
      " run #4\n",
      "Fold# 0...Fold# 1...Fold# 2...Fold# 3...Fold# 4...\n",
      "AUC: 76.5\n",
      "Accuracie: 76.5\n",
      "Elapsed: 173.22\n",
      "\n",
      " MEAN AUC: 69.7\n",
      " MEAN ACCURACIE: 69.7\n"
     ]
    }
   ],
   "source": [
    "maxDD_classifier = maxDD()\n",
    "print '\\n========= DIVERSE DENSITY RESULT========='\n",
    "AUC = []\n",
    "ACCURACIE=[]\n",
    "for i in range(runs):\n",
    "    print '\\n run #'+ str(i)\n",
    "    bags,labels = shuffle(bags, labels, random_state=rand.randint(0, 100))\n",
    "    accuracie, results_accuracie, auc,results_auc, elapsed = mil_cross_val(bags=bags,labels=labels.ravel(), model=maxDD_classifier, folds=folds,parameters={}, timer=True)\n",
    "    print '\\n'+'AUC: ' + str(auc)+'\\n'+'Accuracie: '+ str(accuracie)+'\\n'+'Elapsed: '+ str(round(elapsed,2))\n",
    "    AUC.append(auc)\n",
    "    ACCURACIE.append(accuracie)\n",
    "print '\\n MEAN AUC: '+ str(np.mean(AUC)) + '\\n MEAN ACCURACIE: '+ str(np.mean(ACCURACIE))"
   ]
  },
  {
   "cell_type": "markdown",
   "metadata": {},
   "source": [
    "#### EM-DD"
   ]
  },
  {
   "cell_type": "code",
   "execution_count": 9,
   "metadata": {
    "collapsed": false
   },
   "outputs": [
    {
     "name": "stdout",
     "output_type": "stream",
     "text": [
      "\n",
      "========= EM-DD RESULT =========\n",
      "\n",
      " run #0\n",
      "Fold# 0...Fold# 1...Fold# 2...Fold# 3...Fold# 4...\n",
      "AUC: 82.0\n",
      "Accuracie: 82.0\n",
      "Elapsed: 1075.73\n",
      "\n",
      " run #1\n",
      "Fold# 0...Fold# 1...Fold# 2...Fold# 3...Fold# 4...\n",
      "AUC: 83.0\n",
      "Accuracie: 83.0\n",
      "Elapsed: 522.78\n",
      "\n",
      " run #2\n",
      "Fold# 0...Fold# 1...Fold# 2...Fold# 3...Fold# 4...\n",
      "AUC: 81.5\n",
      "Accuracie: 81.5\n",
      "Elapsed: 392.45\n",
      "\n",
      " run #3\n",
      "Fold# 0...Fold# 1...Fold# 2...Fold# 3...Fold# 4...\n",
      "AUC: 81.5\n",
      "Accuracie: 81.5\n",
      "Elapsed: 389.08\n",
      "\n",
      " run #4\n",
      "Fold# 0...Fold# 1...Fold# 2...Fold# 3...Fold# 4...\n",
      "AUC: 81.5\n",
      "Accuracie: 81.5\n",
      "Elapsed: 377.12\n",
      "\n",
      " MEAN AUC: 81.9\n",
      " MEAN ACCURACIE: 81.9\n"
     ]
    }
   ],
   "source": [
    "emdd_classifier = EMDD()\n",
    "print '\\n========= EM-DD RESULT ========='\n",
    "AUC = []\n",
    "ACCURACIE=[]\n",
    "for i in range(runs):\n",
    "    print '\\n run #'+ str(i)\n",
    "    bags,labels = shuffle(bags, labels, random_state=rand.randint(0, 100))\n",
    "    accuracie, results_accuracie, auc,results_auc, elapsed = mil_cross_val(bags=bags,labels=labels.ravel(), model=emdd_classifier, folds=folds,parameters={}, timer=True)\n",
    "    print '\\n'+'AUC: ' + str(auc)+'\\n'+'Accuracie: '+ str(accuracie)+'\\n'+'Elapsed: '+ str(round(elapsed,2))\n",
    "    AUC.append(auc)\n",
    "    ACCURACIE.append(accuracie)\n",
    "print '\\n MEAN AUC: '+ str(np.mean(AUC)) + '\\n MEAN ACCURACIE: '+ str(np.mean(ACCURACIE))"
   ]
  },
  {
   "cell_type": "markdown",
   "metadata": {},
   "source": [
    "#### MILBoost"
   ]
  },
  {
   "cell_type": "code",
   "execution_count": 10,
   "metadata": {
    "collapsed": false
   },
   "outputs": [
    {
     "name": "stdout",
     "output_type": "stream",
     "text": [
      "\n",
      "========= MILBOOST RESULT =========\n",
      "\n",
      " run #0\n",
      "Fold# 0...Fold# 1...Fold# 2...Fold# 3...Fold# 4...\n",
      "AUC: 67.5\n",
      "Accuracie: 50.0\n",
      "Elapsed: 258.86\n",
      "\n",
      " run #1\n",
      "Fold# 0...Fold# 1...Fold# 2...Fold# 3...Fold# 4...\n",
      "AUC: 65.8\n",
      "Accuracie: 50.0\n",
      "Elapsed: 253.49\n",
      "\n",
      " run #2\n",
      "Fold# 0...Fold# 1...Fold# 2...Fold# 3...Fold# 4...\n",
      "AUC: 62.75\n",
      "Accuracie: 50.0\n",
      "Elapsed: 238.2\n",
      "\n",
      " run #3\n",
      "Fold# 0...Fold# 1...Fold# 2...Fold# 3...Fold# 4...\n",
      "AUC: 65.675\n",
      "Accuracie: 50.0\n",
      "Elapsed: 250.47\n",
      "\n",
      " run #4\n",
      "Fold# 0...Fold# 1...Fold# 2...Fold# 3...Fold# 4...\n",
      "AUC: 65.05\n",
      "Accuracie: 50.0\n",
      "Elapsed: 236.14\n",
      "\n",
      " MEAN AUC: 65.355\n",
      " MEAN ACCURACIE: 50.0\n"
     ]
    }
   ],
   "source": [
    "milboost_classifier = MILBoost()\n",
    "print '\\n========= MILBOOST RESULT ========='\n",
    "AUC = []\n",
    "ACCURACIE=[]\n",
    "for i in range(runs):\n",
    "    print '\\n run #'+ str(i)\n",
    "    bags,labels = shuffle(bags, labels, random_state=rand.randint(0, 100))\n",
    "    accuracie, results_accuracie, auc,results_auc, elapsed = mil_cross_val(bags=bags,labels=labels, model=milboost_classifier, folds=folds,parameters={}, timer=True)\n",
    "    print '\\n'+'AUC: ' + str(auc)+'\\n'+'Accuracie: '+ str(accuracie)+'\\n'+'Elapsed: '+ str(round(elapsed,2))\n",
    "    AUC.append(auc)\n",
    "    ACCURACIE.append(accuracie)\n",
    "print '\\n MEAN AUC: '+ str(np.mean(AUC)) + '\\n MEAN ACCURACIE: '+ str(np.mean(ACCURACIE))"
   ]
  },
  {
   "cell_type": "markdown",
   "metadata": {},
   "source": [
    "#### Miles"
   ]
  },
  {
   "cell_type": "code",
   "execution_count": null,
   "metadata": {
    "collapsed": true
   },
   "outputs": [],
   "source": [
    "#Pending"
   ]
  }
 ],
 "metadata": {
  "kernelspec": {
   "display_name": "Python 2",
   "language": "python",
   "name": "python2"
  },
  "language_info": {
   "codemirror_mode": {
    "name": "ipython",
    "version": 2
   },
   "file_extension": ".py",
   "mimetype": "text/x-python",
   "name": "python",
   "nbconvert_exporter": "python",
   "pygments_lexer": "ipython2",
   "version": "2.7.12"
  }
 },
 "nbformat": 4,
 "nbformat_minor": 0
}
