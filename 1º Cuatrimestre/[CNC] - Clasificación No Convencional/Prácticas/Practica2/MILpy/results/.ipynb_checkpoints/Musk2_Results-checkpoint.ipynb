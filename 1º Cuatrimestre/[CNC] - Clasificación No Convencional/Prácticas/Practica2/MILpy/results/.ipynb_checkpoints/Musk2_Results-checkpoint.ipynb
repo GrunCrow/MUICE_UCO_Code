{
 "cells": [
  {
   "cell_type": "markdown",
   "metadata": {},
   "source": [
    "# Results: Musk2 Scaled"
   ]
  },
  {
   "cell_type": "markdown",
   "metadata": {},
   "source": [
    "<b> MIL </b>  <i>stratified k fold Validation</i>  is performed.\n",
    "Metrics: <br>\n",
    "    - AUC \n",
    "    - Accuracie"
   ]
  },
  {
   "cell_type": "markdown",
   "metadata": {},
   "source": [
    "### Import Libraries"
   ]
  },
  {
   "cell_type": "code",
   "execution_count": 1,
   "metadata": {
    "collapsed": true
   },
   "outputs": [],
   "source": [
    "import sys,os\n",
    "import warnings\n",
    "os.chdir('/Users/josemiguelarrieta/Documents/MILpy')\n",
    "sys.path.append(os.path.realpath('..'))\n",
    "from sklearn.utils import shuffle\n",
    "import random as rand\n",
    "import numpy as np\n",
    "from data import load_data\n",
    "warnings.filterwarnings('ignore')\n",
    "from MILpy.functions.mil_cross_val import mil_cross_val\n",
    "\n",
    "#Import Algorithms \n",
    "from MILpy.Algorithms.simpleMIL import simpleMIL\n",
    "from MILpy.Algorithms.MILBoost import MILBoost\n",
    "from MILpy.Algorithms.maxDD import maxDD\n",
    "from MILpy.Algorithms.CKNN import CKNN\n",
    "from MILpy.Algorithms.EMDD import EMDD\n",
    "from MILpy.Algorithms.MILES import MILES\n",
    "from MILpy.Algorithms.BOW import BOW"
   ]
  },
  {
   "cell_type": "markdown",
   "metadata": {},
   "source": [
    "### Load data"
   ]
  },
  {
   "cell_type": "code",
   "execution_count": 2,
   "metadata": {
    "collapsed": false
   },
   "outputs": [],
   "source": [
    "bags,labels,X = load_data('Musk2_scaled')\n",
    "folds = 5\n",
    "runs = 5"
   ]
  },
  {
   "cell_type": "markdown",
   "metadata": {},
   "source": [
    "#### Simple MIL [max]"
   ]
  },
  {
   "cell_type": "code",
   "execution_count": 3,
   "metadata": {
    "collapsed": false
   },
   "outputs": [
    {
     "name": "stdout",
     "output_type": "stream",
     "text": [
      "\n",
      "========= SIMPLE MIL RESULT [MAX] =========\n",
      "\n",
      " run #0\n",
      "Fold# 0...Fold# 1...Fold# 2...Fold# 3...Fold# 4...\n",
      "AUC: 68.3608058608\n",
      "Accuracie: 70.4461152882\n",
      "Elapsed: 0.05\n",
      "\n",
      " run #1\n",
      "Fold# 0...Fold# 1...Fold# 2...Fold# 3...Fold# 4...\n",
      "AUC: 64.9221611722\n",
      "Accuracie: 68.3834586466\n",
      "Elapsed: 0.03\n",
      "\n",
      " run #2\n",
      "Fold# 0...Fold# 1...Fold# 2...Fold# 3...Fold# 4...\n",
      "AUC: 67.9075091575\n",
      "Accuracie: 69.5889724311\n",
      "Elapsed: 0.03\n",
      "\n",
      " run #3\n",
      "Fold# 0...Fold# 1...Fold# 2...Fold# 3...Fold# 4...\n",
      "AUC: 71.4652014652\n",
      "Accuracie: 74.5939849624\n",
      "Elapsed: 0.03\n",
      "\n",
      " run #4\n",
      "Fold# 0...Fold# 1...Fold# 2...Fold# 3...Fold# 4...\n",
      "AUC: 68.2005494505\n",
      "Accuracie: 70.8947368421\n",
      "Elapsed: 0.02\n",
      "\n",
      " MEAN AUC: 68.1712454212\n",
      " MEAN ACCURACIE: 70.7814536341\n"
     ]
    }
   ],
   "source": [
    "SMILa = simpleMIL()\n",
    "parameters_smil = {'type': 'max'}\n",
    "print '\\n========= SIMPLE MIL RESULT [MAX] ========='\n",
    "AUC = []\n",
    "ACCURACIE=[]\n",
    "for i in range(runs):\n",
    "    print '\\n run #'+ str(i)\n",
    "    #Shuffle Data\n",
    "    bags,labels = shuffle(bags, labels, random_state=rand.randint(0, 100))\n",
    "    accuracie, results_accuracie, auc,results_auc, elapsed  = mil_cross_val(bags=bags,labels=labels.ravel(), model=SMILa, folds=folds, parameters=parameters_smil, timer = True)\n",
    "    print '\\n'+'AUC: ' + str(auc)+'\\n'+'Accuracie: '+ str(accuracie)+'\\n'+'Elapsed: '+ str(round(elapsed,2))\n",
    "    AUC.append(auc)\n",
    "    ACCURACIE.append(accuracie)\n",
    "print '\\n MEAN AUC: '+ str(np.mean(AUC)) + '\\n MEAN ACCURACIE: '+ str(np.mean(ACCURACIE))"
   ]
  },
  {
   "cell_type": "markdown",
   "metadata": {},
   "source": [
    "#### Simple MIL [min]"
   ]
  },
  {
   "cell_type": "code",
   "execution_count": 4,
   "metadata": {
    "collapsed": false
   },
   "outputs": [
    {
     "name": "stdout",
     "output_type": "stream",
     "text": [
      "\n",
      "========= SIMPLE MIL RESULT [MIN] =========\n",
      "\n",
      " run #0\n",
      "Fold# 0...Fold# 1...Fold# 2...Fold# 3...Fold# 4...\n",
      "AUC: 68.2463369963\n",
      "Accuracie: 71.64160401\n",
      "Elapsed: 0.03\n",
      "\n",
      " run #1\n",
      "Fold# 0...Fold# 1...Fold# 2...Fold# 3...Fold# 4...\n",
      "AUC: 77.1611721612\n",
      "Accuracie: 79.5614035088\n",
      "Elapsed: 0.03\n",
      "\n",
      " run #2\n",
      "Fold# 0...Fold# 1...Fold# 2...Fold# 3...Fold# 4...\n",
      "AUC: 70.6181318681\n",
      "Accuracie: 73.2556390977\n",
      "Elapsed: 0.03\n",
      "\n",
      " run #3\n",
      "Fold# 0...Fold# 1...Fold# 2...Fold# 3...Fold# 4...\n",
      "AUC: 72.7655677656\n",
      "Accuracie: 75.4035087719\n",
      "Elapsed: 0.03\n",
      "\n",
      " run #4\n",
      "Fold# 0...Fold# 1...Fold# 2...Fold# 3...Fold# 4...\n",
      "AUC: 75.4441391941\n",
      "Accuracie: 77.4035087719\n",
      "Elapsed: 0.03\n",
      "\n",
      " MEAN AUC: 72.8470695971\n",
      " MEAN ACCURACIE: 75.4531328321\n"
     ]
    }
   ],
   "source": [
    "parameters_smil = {'type': 'min'}\n",
    "print '\\n========= SIMPLE MIL RESULT [MIN] ========='\n",
    "AUC = []\n",
    "ACCURACIE=[]\n",
    "for i in range(runs):\n",
    "    print '\\n run #'+ str(i)\n",
    "    bags,labels = shuffle(bags, labels, random_state=rand.randint(0, 100))\n",
    "    accuracie, results_accuracie, auc,results_auc, elapsed   = mil_cross_val(bags=bags,labels=labels.ravel(), model=SMILa, folds=folds,parameters=parameters_smil, timer=True)\n",
    "    print '\\n'+'AUC: ' + str(auc)+'\\n'+'Accuracie: '+ str(accuracie)+'\\n'+'Elapsed: '+ str(round(elapsed,2))\n",
    "    AUC.append(auc)\n",
    "    ACCURACIE.append(accuracie)\n",
    "print '\\n MEAN AUC: '+ str(np.mean(AUC)) + '\\n MEAN ACCURACIE: '+ str(np.mean(ACCURACIE))"
   ]
  },
  {
   "cell_type": "markdown",
   "metadata": {},
   "source": [
    "#### Simple MIL [extreme]"
   ]
  },
  {
   "cell_type": "code",
   "execution_count": 5,
   "metadata": {
    "collapsed": false
   },
   "outputs": [
    {
     "name": "stdout",
     "output_type": "stream",
     "text": [
      "\n",
      "========= SIMPLE MIL RESULT [MIN] =========\n",
      "\n",
      " run #0\n",
      "Fold# 0...Fold# 1...Fold# 2...Fold# 3...Fold# 4...\n",
      "AUC: 76.510989011\n",
      "Accuracie: 78.007518797\n",
      "Elapsed: 0.05\n",
      "\n",
      " run #1\n",
      "Fold# 0...Fold# 1...Fold# 2...Fold# 3...Fold# 4...\n",
      "AUC: 81.6987179487\n",
      "Accuracie: 82.5664160401\n",
      "Elapsed: 0.05\n",
      "\n",
      " run #2\n",
      "Fold# 0...Fold# 1...Fold# 2...Fold# 3...Fold# 4...\n",
      "AUC: 77.8159340659\n",
      "Accuracie: 79.3609022556\n",
      "Elapsed: 0.05\n",
      "\n",
      " run #3\n",
      "Fold# 0...Fold# 1...Fold# 2...Fold# 3...Fold# 4...\n",
      "AUC: 80.8608058608\n",
      "Accuracie: 82.313283208\n",
      "Elapsed: 0.05\n",
      "\n",
      " run #4\n",
      "Fold# 0...Fold# 1...Fold# 2...Fold# 3...Fold# 4...\n",
      "AUC: 82.5915750916\n",
      "Accuracie: 82.1654135338\n",
      "Elapsed: 0.06\n",
      "\n",
      " MEAN AUC: 79.8956043956\n",
      " MEAN ACCURACIE: 80.8827067669\n"
     ]
    }
   ],
   "source": [
    "parameters_smil = {'type': 'extreme'}\n",
    "print '\\n========= SIMPLE MIL RESULT [MIN] ========='\n",
    "AUC = []\n",
    "ACCURACIE=[]\n",
    "for i in range(runs):\n",
    "    print '\\n run #'+ str(i)\n",
    "    #Shuffle Data\n",
    "    bags,labels = shuffle(bags, labels, random_state=rand.randint(0, 100))\n",
    "    accuracie, results_accuracie, auc,results_auc, elapsed = mil_cross_val(bags=bags,labels=labels.ravel(), model=SMILa, folds=folds,parameters=parameters_smil, timer=True)\n",
    "    print '\\n'+'AUC: ' + str(auc)+'\\n'+'Accuracie: '+ str(accuracie)+'\\n'+'Elapsed: '+ str(round(elapsed,2))\n",
    "    AUC.append(auc)\n",
    "    ACCURACIE.append(accuracie)\n",
    "print '\\n MEAN AUC: '+ str(np.mean(AUC)) + '\\n MEAN ACCURACIE: '+ str(np.mean(ACCURACIE))"
   ]
  },
  {
   "cell_type": "markdown",
   "metadata": {},
   "source": [
    "#### Simple MIL [average]"
   ]
  },
  {
   "cell_type": "code",
   "execution_count": 6,
   "metadata": {
    "collapsed": false
   },
   "outputs": [
    {
     "name": "stdout",
     "output_type": "stream",
     "text": [
      "\n",
      "========= SIMPLE MIL RESULT [AVERAGE] =========\n",
      "\n",
      " run #0\n",
      "Fold# 0...Fold# 1...Fold# 2...Fold# 3...Fold# 4...\n",
      "AUC: 76.3873626374\n",
      "Accuracie: 78.1553884712\n",
      "Elapsed: 0.05\n",
      "\n",
      " run #1\n",
      "Fold# 0...Fold# 1...Fold# 2...Fold# 3...Fold# 4...\n",
      "AUC: 80.1373626374\n",
      "Accuracie: 82.2180451128\n",
      "Elapsed: 0.03\n",
      "\n",
      " run #2\n",
      "Fold# 0...Fold# 1...Fold# 2...Fold# 3...Fold# 4...\n",
      "AUC: 81.2133699634\n",
      "Accuracie: 82.2130325815\n",
      "Elapsed: 0.03\n",
      "\n",
      " run #3\n",
      "Fold# 0...Fold# 1...Fold# 2...Fold# 3...Fold# 4...\n",
      "AUC: 80.8608058608\n",
      "Accuracie: 82.4135338346\n",
      "Elapsed: 0.03\n",
      "\n",
      " run #4\n",
      "Fold# 0...Fold# 1...Fold# 2...Fold# 3...Fold# 4...\n",
      "AUC: 72.7793040293\n",
      "Accuracie: 74.350877193\n",
      "Elapsed: 0.02\n",
      "\n",
      " MEAN AUC: 78.2756410256\n",
      " MEAN ACCURACIE: 79.8701754386\n"
     ]
    }
   ],
   "source": [
    "parameters_smil = {'type': 'average'}\n",
    "print '\\n========= SIMPLE MIL RESULT [AVERAGE] ========='\n",
    "AUC = []\n",
    "ACCURACIE=[]\n",
    "for i in range(runs):\n",
    "    print '\\n run #'+ str(i)\n",
    "    bags,labels = shuffle(bags, labels, random_state=rand.randint(0, 100))\n",
    "    accuracie, results_accuracie, auc,results_auc, elapsed   = mil_cross_val(bags=bags,labels=labels.ravel(), model=SMILa, folds=folds,parameters=parameters_smil, timer=True)\n",
    "    print '\\n'+'AUC: ' + str(auc)+'\\n'+'Accuracie: '+ str(accuracie)+'\\n'+'Elapsed: '+ str(round(elapsed,2))\n",
    "    AUC.append(auc)\n",
    "    ACCURACIE.append(accuracie)\n",
    "print '\\n MEAN AUC: '+ str(np.mean(AUC)) + '\\n MEAN ACCURACIE: '+ str(np.mean(ACCURACIE))"
   ]
  },
  {
   "cell_type": "markdown",
   "metadata": {},
   "source": [
    "#### Bag of Words "
   ]
  },
  {
   "cell_type": "code",
   "execution_count": 7,
   "metadata": {
    "collapsed": false
   },
   "outputs": [
    {
     "name": "stdout",
     "output_type": "stream",
     "text": [
      "\n",
      "========= BAG OF WORDS RESULT =========\n",
      "\n",
      " run #0\n",
      "Fold# 0...Fold# 1...Fold# 2...Fold# 3...Fold# 4...\n",
      "AUC: 65.7417582418\n",
      "Accuracie: 69.335839599\n",
      "Elapsed: 31.72\n",
      "\n",
      " run #1\n",
      "Fold# 0...Fold# 1...Fold# 2...Fold# 3...Fold# 4...\n",
      "AUC: 67.5412087912\n",
      "Accuracie: 70.7418546366\n",
      "Elapsed: 42.54\n",
      "\n",
      " run #2\n",
      "Fold# 0...Fold# 1...Fold# 2...Fold# 3...Fold# 4...\n",
      "AUC: 65.5677655678\n",
      "Accuracie: 69.7368421053\n",
      "Elapsed: 55.75\n",
      "\n",
      " run #3\n",
      "Fold# 0...Fold# 1...Fold# 2...Fold# 3...Fold# 4...\n",
      "AUC: 72.4633699634\n",
      "Accuracie: 75.4987468672\n",
      "Elapsed: 62.19\n",
      "\n",
      " run #4\n",
      "Fold# 0...Fold# 1...Fold# 2...Fold# 3...Fold# 4...\n",
      "AUC: 70.7967032967\n",
      "Accuracie: 74.5989974937\n",
      "Elapsed: 49.78\n",
      "\n",
      " MEAN AUC: 68.4221611722\n",
      " MEAN ACCURACIE: 71.9824561404\n"
     ]
    }
   ],
   "source": [
    "bow_classifier = BOW() \n",
    "parameters_bow = {'k':100,'covar_type':'diag','n_iter':20}\n",
    "print '\\n========= BAG OF WORDS RESULT ========='\n",
    "AUC = []\n",
    "ACCURACIE=[]\n",
    "for i in range(runs):\n",
    "    print '\\n run #'+ str(i)\n",
    "    bags,labels = shuffle(bags, labels, random_state=rand.randint(0, 100))\n",
    "    accuracie, results_accuracie, auc,results_auc, elapsed = mil_cross_val(bags=bags,labels=labels.ravel(), model=bow_classifier, folds=folds,parameters=parameters_bow, timer=True)\n",
    "    print '\\n'+'AUC: ' + str(auc)+'\\n'+'Accuracie: '+ str(accuracie)+'\\n'+'Elapsed: '+ str(round(elapsed,2))\n",
    "    AUC.append(auc)\n",
    "    ACCURACIE.append(accuracie)\n",
    "print '\\n MEAN AUC: '+ str(np.mean(AUC)) + '\\n MEAN ACCURACIE: '+ str(np.mean(ACCURACIE))"
   ]
  },
  {
   "cell_type": "markdown",
   "metadata": {},
   "source": [
    "#### Citation KNN "
   ]
  },
  {
   "cell_type": "code",
   "execution_count": null,
   "metadata": {
    "collapsed": false
   },
   "outputs": [
    {
     "name": "stdout",
     "output_type": "stream",
     "text": [
      "\n",
      "========= CKNN RESULT =========\n",
      "\n",
      " run #0\n",
      "Fold# 0...Fold# 1...Fold# 2...Fold# 3...Fold# 4...\n",
      "AUC: 76.0989010989\n",
      "Accuracie: 78.3609022556\n",
      "Elapsed: 11592.75\n",
      "\n",
      " run #1\n",
      "Fold# 0...Fold# 1...Fold# 2...Fold# 3...Fold# 4...\n",
      "AUC: 80.7967032967\n",
      "Accuracie: 83.4661654135\n",
      "Elapsed: 20601.28\n",
      "\n",
      " run #2\n",
      "Fold# 0...Fold# 1...Fold# 2..."
     ]
    }
   ],
   "source": [
    "cknn_classifier = CKNN() \n",
    "parameters_cknn = {'references': 3, 'citers': 5}\n",
    "print '\\n========= CKNN RESULT ========='\n",
    "AUC = []\n",
    "ACCURACIE=[]\n",
    "for i in range(runs):\n",
    "    print '\\n run #'+ str(i)\n",
    "    bags,labels = shuffle(bags, labels, random_state=rand.randint(0, 100))\n",
    "    accuracie, results_accuracie, auc,results_auc, elapsed   = mil_cross_val(bags=bags,labels=labels.ravel(), model=cknn_classifier, folds=folds,parameters=parameters_cknn, timer=True)\n",
    "    print '\\n'+'AUC: ' + str(auc)+'\\n'+'Accuracie: '+ str(accuracie)+'\\n'+'Elapsed: '+ str(round(elapsed,2))\n",
    "    AUC.append(auc)\n",
    "    ACCURACIE.append(accuracie)\n",
    "print '\\n MEAN AUC: '+ str(np.mean(AUC)) + '\\n MEAN ACCURACIE: '+ str(np.mean(ACCURACIE))"
   ]
  },
  {
   "cell_type": "markdown",
   "metadata": {},
   "source": [
    "#### Diverse Density"
   ]
  },
  {
   "cell_type": "code",
   "execution_count": 8,
   "metadata": {
    "collapsed": false
   },
   "outputs": [
    {
     "name": "stdout",
     "output_type": "stream",
     "text": [
      "\n",
      "========= DIVERSE DENSITY RESULT=========\n",
      "\n",
      " run #0\n",
      "Fold# 0...Fold# 1...Fold# 2...Fold# 3...Fold# 4...\n",
      "AUC: 51.25\n",
      "Accuracie: 62.7268170426\n",
      "Elapsed: 132.95\n",
      "\n",
      " run #1\n",
      "Fold# 0...Fold# 1...Fold# 2...Fold# 3...Fold# 4...\n",
      "AUC: 52.2115384615\n",
      "Accuracie: 62.7268170426\n",
      "Elapsed: 417.98\n",
      "\n",
      " run #2\n",
      "Fold# 0...Fold# 1...Fold# 2...Fold# 3...Fold# 4...\n",
      "AUC: 50.0\n",
      "Accuracie: 61.7744360902\n",
      "Elapsed: 434.17\n",
      "\n",
      " run #3\n",
      "Fold# 0...Fold# 1...Fold# 2...Fold# 3...Fold# 4...\n",
      "AUC: 52.4542124542\n",
      "Accuracie: 61.8746867168\n",
      "Elapsed: 727.4\n",
      "\n",
      " run #4\n",
      "Fold# 0...Fold# 1...Fold# 2...Fold# 3...Fold# 4...\n",
      "AUC: 52.3901098901\n",
      "Accuracie: 61.7318295739\n",
      "Elapsed: 154.61\n",
      "\n",
      " MEAN AUC: 51.6611721612\n",
      " MEAN ACCURACIE: 62.1669172932\n"
     ]
    }
   ],
   "source": [
    "maxDD_classifier = maxDD()\n",
    "print '\\n========= DIVERSE DENSITY RESULT========='\n",
    "AUC = []\n",
    "ACCURACIE=[]\n",
    "for i in range(runs):\n",
    "    print '\\n run #'+ str(i)\n",
    "    bags,labels = shuffle(bags, labels, random_state=rand.randint(0, 100))\n",
    "    accuracie, results_accuracie, auc,results_auc, elapsed = mil_cross_val(bags=bags,labels=labels.ravel(), model=maxDD_classifier, folds=folds,parameters={}, timer=True)\n",
    "    print '\\n'+'AUC: ' + str(auc)+'\\n'+'Accuracie: '+ str(accuracie)+'\\n'+'Elapsed: '+ str(round(elapsed,2))\n",
    "    AUC.append(auc)\n",
    "    ACCURACIE.append(accuracie)\n",
    "print '\\n MEAN AUC: '+ str(np.mean(AUC)) + '\\n MEAN ACCURACIE: '+ str(np.mean(ACCURACIE))"
   ]
  },
  {
   "cell_type": "markdown",
   "metadata": {},
   "source": [
    "#### EM-DD"
   ]
  },
  {
   "cell_type": "code",
   "execution_count": 9,
   "metadata": {
    "collapsed": false
   },
   "outputs": [
    {
     "name": "stdout",
     "output_type": "stream",
     "text": [
      "\n",
      "========= EM-DD RESULT =========\n",
      "\n",
      " run #0\n",
      "Fold# 0...Fold# 1...Fold# 2...Fold# 3...Fold# 4...\n",
      "AUC: 82.1932234432\n",
      "Accuracie: 79.3082706767\n",
      "Elapsed: 244.04\n",
      "\n",
      " run #1\n",
      "Fold# 0...Fold# 1...Fold# 2...Fold# 3...Fold# 4...\n",
      "AUC: 80.2380952381\n",
      "Accuracie: 77.5037593985\n",
      "Elapsed: 227.54\n",
      "\n",
      " run #2\n",
      "Fold# 0...Fold# 1...Fold# 2...Fold# 3...Fold# 4...\n",
      "AUC: 85.4807692308\n",
      "Accuracie: 82.5614035088\n",
      "Elapsed: 233.21\n",
      "\n",
      " run #3\n",
      "Fold# 0...Fold# 1...Fold# 2...Fold# 3...Fold# 4...\n",
      "AUC: 82.0146520147\n",
      "Accuracie: 79.2080200501\n",
      "Elapsed: 226.89\n",
      "\n",
      " run #4\n",
      "Fold# 0...Fold# 1...Fold# 2...Fold# 3...Fold# 4...\n",
      "AUC: 85.0\n",
      "Accuracie: 81.4085213033\n",
      "Elapsed: 226.29\n",
      "\n",
      " MEAN AUC: 82.9853479853\n",
      " MEAN ACCURACIE: 79.9979949875\n"
     ]
    }
   ],
   "source": [
    "emdd_classifier = EMDD()\n",
    "print '\\n========= EM-DD RESULT ========='\n",
    "AUC = []\n",
    "ACCURACIE=[]\n",
    "for i in range(runs):\n",
    "    print '\\n run #'+ str(i)\n",
    "    bags,labels = shuffle(bags, labels, random_state=rand.randint(0, 100))\n",
    "    accuracie, results_accuracie, auc,results_auc, elapsed = mil_cross_val(bags=bags,labels=labels.ravel(), model=emdd_classifier, folds=folds,parameters={}, timer=True)\n",
    "    print '\\n'+'AUC: ' + str(auc)+'\\n'+'Accuracie: '+ str(accuracie)+'\\n'+'Elapsed: '+ str(round(elapsed,2))\n",
    "    AUC.append(auc)\n",
    "    ACCURACIE.append(accuracie)\n",
    "print '\\n MEAN AUC: '+ str(np.mean(AUC)) + '\\n MEAN ACCURACIE: '+ str(np.mean(ACCURACIE))"
   ]
  },
  {
   "cell_type": "markdown",
   "metadata": {},
   "source": [
    "#### MILBoost"
   ]
  },
  {
   "cell_type": "code",
   "execution_count": null,
   "metadata": {
    "collapsed": false
   },
   "outputs": [
    {
     "name": "stdout",
     "output_type": "stream",
     "text": [
      "\n",
      "========= MILBOOST RESULT =========\n",
      "\n",
      " run #0\n",
      "Fold# 0...Fold# 1...Fold# 2...Fold# 3...Fold# 4...\n",
      "AUC: 61.095467033\n",
      "Accuracie: 39.3828443289\n",
      "Elapsed: 349.56\n",
      "\n",
      " run #1\n",
      "Fold# 0...Fold# 1...Fold# 2...Fold# 3...Fold# 4...\n",
      "AUC: 59.4963369963\n",
      "Accuracie: 39.3828443289\n",
      "Elapsed: 320.16\n",
      "\n",
      " run #2\n",
      "Fold# 0...Fold# 1...Fold# 2...Fold# 3...Fold# 4...\n",
      "AUC: 77.2355769231\n",
      "Accuracie: 39.3828443289\n",
      "Elapsed: 302.44\n",
      "\n",
      " run #3\n",
      "Fold# 0...Fold# 1...Fold# 2...Fold# 3...Fold# 4...\n",
      "AUC: 71.5750915751\n",
      "Accuracie: 39.3828443289\n",
      "Elapsed: 488.84\n",
      "\n",
      " run #4\n",
      "Fold# 0...Fold# 1...Fold# 2...Fold# 3...Fold# 4...\n",
      "AUC: 70.2220695971\n",
      "Accuracie: 39.3828443289\n",
      "Elapsed: 311.0\n",
      "\n",
      " MEAN AUC: 67.9249084249\n",
      " MEAN ACCURACIE: 39.3828443289\n"
     ]
    }
   ],
   "source": [
    "milboost_classifier = MILBoost()\n",
    "print '\\n========= MILBOOST RESULT ========='\n",
    "AUC = []\n",
    "ACCURACIE=[]\n",
    "for i in range(runs):\n",
    "    print '\\n run #'+ str(i)\n",
    "    bags,labels = shuffle(bags, labels, random_state=rand.randint(0, 100))\n",
    "    accuracie, results_accuracie, auc,results_auc, elapsed = mil_cross_val(bags=bags,labels=labels, model=milboost_classifier, folds=folds,parameters={}, timer=True)\n",
    "    print '\\n'+'AUC: ' + str(auc)+'\\n'+'Accuracie: '+ str(accuracie)+'\\n'+'Elapsed: '+ str(round(elapsed,2))\n",
    "    AUC.append(auc)\n",
    "    ACCURACIE.append(accuracie)\n",
    "print '\\n MEAN AUC: '+ str(np.mean(AUC)) + '\\n MEAN ACCURACIE: '+ str(np.mean(ACCURACIE))"
   ]
  },
  {
   "cell_type": "markdown",
   "metadata": {},
   "source": [
    "#### Miles"
   ]
  },
  {
   "cell_type": "code",
   "execution_count": null,
   "metadata": {
    "collapsed": true
   },
   "outputs": [],
   "source": [
    "#Pending"
   ]
  },
  {
   "cell_type": "code",
   "execution_count": null,
   "metadata": {
    "collapsed": true
   },
   "outputs": [],
   "source": []
  }
 ],
 "metadata": {
  "kernelspec": {
   "display_name": "Python 2",
   "language": "python",
   "name": "python2"
  },
  "language_info": {
   "codemirror_mode": {
    "name": "ipython",
    "version": 2
   },
   "file_extension": ".py",
   "mimetype": "text/x-python",
   "name": "python",
   "nbconvert_exporter": "python",
   "pygments_lexer": "ipython2",
   "version": "2.7.12"
  }
 },
 "nbformat": 4,
 "nbformat_minor": 0
}
