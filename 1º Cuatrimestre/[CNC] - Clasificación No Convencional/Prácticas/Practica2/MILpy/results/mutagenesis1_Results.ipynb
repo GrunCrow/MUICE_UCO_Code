{
 "cells": [
  {
   "cell_type": "markdown",
   "metadata": {},
   "source": [
    "# Results: mutagenesis1 Original"
   ]
  },
  {
   "cell_type": "markdown",
   "metadata": {},
   "source": [
    "<b> MIL </b>  <i>stratified k fold Validation</i>  is performed.\n",
    "Metrics: <br>\n",
    "    - AUC \n",
    "    - Accuracie"
   ]
  },
  {
   "cell_type": "markdown",
   "metadata": {},
   "source": [
    "### Import Libraries"
   ]
  },
  {
   "cell_type": "code",
   "execution_count": 1,
   "metadata": {
    "collapsed": true
   },
   "outputs": [],
   "source": [
    "import sys,os\n",
    "import warnings\n",
    "os.chdir('/Users/josemiguelarrieta/Documents/MILpy')\n",
    "sys.path.append(os.path.realpath('..'))\n",
    "from sklearn.utils import shuffle\n",
    "import random as rand\n",
    "import numpy as np\n",
    "from data import load_data\n",
    "warnings.filterwarnings('ignore')\n",
    "from MILpy.functions.mil_cross_val import mil_cross_val\n",
    "\n",
    "#Import Algorithms \n",
    "from MILpy.Algorithms.simpleMIL import simpleMIL\n",
    "from MILpy.Algorithms.MILBoost import MILBoost\n",
    "from MILpy.Algorithms.maxDD import maxDD\n",
    "from MILpy.Algorithms.CKNN import CKNN\n",
    "from MILpy.Algorithms.EMDD import EMDD\n",
    "from MILpy.Algorithms.MILES import MILES\n",
    "from MILpy.Algorithms.BOW import BOW"
   ]
  },
  {
   "cell_type": "markdown",
   "metadata": {},
   "source": [
    "### Load data"
   ]
  },
  {
   "cell_type": "code",
   "execution_count": 10,
   "metadata": {
    "collapsed": false
   },
   "outputs": [],
   "source": [
    "bags,labels,X = load_data('mutagenesis1_original')\n",
    "folds = 5\n",
    "runs = 5"
   ]
  },
  {
   "cell_type": "markdown",
   "metadata": {},
   "source": [
    "#### Simple MIL [max]"
   ]
  },
  {
   "cell_type": "code",
   "execution_count": 11,
   "metadata": {
    "collapsed": false
   },
   "outputs": [
    {
     "name": "stdout",
     "output_type": "stream",
     "text": [
      "\n",
      "========= SIMPLE MIL RESULT [MAX] =========\n",
      "\n",
      " run #0\n",
      "Fold# 0...Fold# 1...Fold# 2...Fold# 3...Fold# 4...\n",
      "AUC: 61.4641025641\n",
      "Accuracie: 71.8065433855\n",
      "Elapsed: 0.03\n",
      "\n",
      " run #1\n",
      "Fold# 0...Fold# 1...Fold# 2...Fold# 3...Fold# 4...\n",
      "AUC: 62.3282051282\n",
      "Accuracie: 72.9302987198\n",
      "Elapsed: 0.03\n",
      "\n",
      " run #2\n",
      "Fold# 0...Fold# 1...Fold# 2...Fold# 3...Fold# 4...\n",
      "AUC: 61.1923076923\n",
      "Accuracie: 71.2944523471\n",
      "Elapsed: 0.03\n",
      "\n",
      " run #3\n",
      "Fold# 0...Fold# 1...Fold# 2...Fold# 3...Fold# 4...\n",
      "AUC: 61.5282051282\n",
      "Accuracie: 71.7923186344\n",
      "Elapsed: 0.03\n",
      "\n",
      " run #4\n",
      "Fold# 0...Fold# 1...Fold# 2...Fold# 3...Fold# 4...\n",
      "AUC: 60.8897435897\n",
      "Accuracie: 70.2702702703\n",
      "Elapsed: 0.04\n",
      "\n",
      " MEAN AUC: 61.4805128205\n",
      " MEAN ACCURACIE: 71.6187766714\n"
     ]
    }
   ],
   "source": [
    "SMILa = simpleMIL()\n",
    "parameters_smil = {'type': 'max'}\n",
    "print '\\n========= SIMPLE MIL RESULT [MAX] ========='\n",
    "AUC = []\n",
    "ACCURACIE=[]\n",
    "for i in range(runs):\n",
    "    print '\\n run #'+ str(i)\n",
    "    #Shuffle Data\n",
    "    bags,labels = shuffle(bags, labels, random_state=rand.randint(0, 100))\n",
    "    accuracie, results_accuracie, auc,results_auc, elapsed  = mil_cross_val(bags=bags,labels=labels.ravel(), model=SMILa, folds=folds, parameters=parameters_smil, timer = True)\n",
    "    print '\\n'+'AUC: ' + str(auc)+'\\n'+'Accuracie: '+ str(accuracie)+'\\n'+'Elapsed: '+ str(round(elapsed,2))\n",
    "    AUC.append(auc)\n",
    "    ACCURACIE.append(accuracie)\n",
    "print '\\n MEAN AUC: '+ str(np.mean(AUC)) + '\\n MEAN ACCURACIE: '+ str(np.mean(ACCURACIE))"
   ]
  },
  {
   "cell_type": "markdown",
   "metadata": {},
   "source": [
    "#### Simple MIL [min]"
   ]
  },
  {
   "cell_type": "code",
   "execution_count": 12,
   "metadata": {
    "collapsed": false
   },
   "outputs": [
    {
     "name": "stdout",
     "output_type": "stream",
     "text": [
      "\n",
      "========= SIMPLE MIL RESULT [MIN] =========\n",
      "\n",
      " run #0\n",
      "Fold# 0...Fold# 1...Fold# 2...Fold# 3...Fold# 4...\n",
      "AUC: 55.2794871795\n",
      "Accuracie: 67.0412517781\n",
      "Elapsed: 0.03\n",
      "\n",
      " run #1\n",
      "Fold# 0...Fold# 1...Fold# 2...Fold# 3...Fold# 4...\n",
      "AUC: 53.0538461538\n",
      "Accuracie: 64.9217638691\n",
      "Elapsed: 0.03\n",
      "\n",
      " run #2\n",
      "Fold# 0...Fold# 1...Fold# 2...Fold# 3...Fold# 4...\n",
      "AUC: 53.5794871795\n",
      "Accuracie: 66.5007112376\n",
      "Elapsed: 0.03\n",
      "\n",
      " run #3\n",
      "Fold# 0...Fold# 1...Fold# 2...Fold# 3...Fold# 4...\n",
      "AUC: 53.8051282051\n",
      "Accuracie: 65.9317211949\n",
      "Elapsed: 0.03\n",
      "\n",
      " run #4\n",
      "Fold# 0...Fold# 1...Fold# 2...Fold# 3...Fold# 4...\n",
      "AUC: 52.6512820513\n",
      "Accuracie: 65.4480796586\n",
      "Elapsed: 0.03\n",
      "\n",
      " MEAN AUC: 53.6738461538\n",
      " MEAN ACCURACIE: 65.9687055477\n"
     ]
    }
   ],
   "source": [
    "parameters_smil = {'type': 'min'}\n",
    "print '\\n========= SIMPLE MIL RESULT [MIN] ========='\n",
    "AUC = []\n",
    "ACCURACIE=[]\n",
    "for i in range(runs):\n",
    "    print '\\n run #'+ str(i)\n",
    "    bags,labels = shuffle(bags, labels, random_state=rand.randint(0, 100))\n",
    "    accuracie, results_accuracie, auc,results_auc, elapsed   = mil_cross_val(bags=bags,labels=labels.ravel(), model=SMILa, folds=folds,parameters=parameters_smil, timer=True)\n",
    "    print '\\n'+'AUC: ' + str(auc)+'\\n'+'Accuracie: '+ str(accuracie)+'\\n'+'Elapsed: '+ str(round(elapsed,2))\n",
    "    AUC.append(auc)\n",
    "    ACCURACIE.append(accuracie)\n",
    "print '\\n MEAN AUC: '+ str(np.mean(AUC)) + '\\n MEAN ACCURACIE: '+ str(np.mean(ACCURACIE))"
   ]
  },
  {
   "cell_type": "markdown",
   "metadata": {},
   "source": [
    "#### Simple MIL [extreme]"
   ]
  },
  {
   "cell_type": "code",
   "execution_count": 13,
   "metadata": {
    "collapsed": false
   },
   "outputs": [
    {
     "name": "stdout",
     "output_type": "stream",
     "text": [
      "\n",
      "========= SIMPLE MIL RESULT [MIN] =========\n",
      "\n",
      " run #0\n",
      "Fold# 0...Fold# 1...Fold# 2...Fold# 3...Fold# 4...\n",
      "AUC: 56.5692307692\n",
      "Accuracie: 64.9359886202\n",
      "Elapsed: 0.04\n",
      "\n",
      " run #1\n",
      "Fold# 0...Fold# 1...Fold# 2...Fold# 3...Fold# 4...\n",
      "AUC: 57.8\n",
      "Accuracie: 66.9701280228\n",
      "Elapsed: 0.04\n",
      "\n",
      " run #2\n",
      "Fold# 0...Fold# 1...Fold# 2...Fold# 3...Fold# 4...\n",
      "AUC: 59.7717948718\n",
      "Accuracie: 68.079658606\n",
      "Elapsed: 0.05\n",
      "\n",
      " run #3\n",
      "Fold# 0...Fold# 1...Fold# 2...Fold# 3...Fold# 4...\n",
      "AUC: 57.0615384615\n",
      "Accuracie: 66.9985775249\n",
      "Elapsed: 0.05\n",
      "\n",
      " run #4\n",
      "Fold# 0...Fold# 1...Fold# 2...Fold# 3...Fold# 4...\n",
      "AUC: 60.7666666667\n",
      "Accuracie: 68.093883357\n",
      "Elapsed: 0.04\n",
      "\n",
      " MEAN AUC: 58.3938461538\n",
      " MEAN ACCURACIE: 67.0156472262\n"
     ]
    }
   ],
   "source": [
    "parameters_smil = {'type': 'extreme'}\n",
    "print '\\n========= SIMPLE MIL RESULT [MIN] ========='\n",
    "AUC = []\n",
    "ACCURACIE=[]\n",
    "for i in range(runs):\n",
    "    print '\\n run #'+ str(i)\n",
    "    #Shuffle Data\n",
    "    bags,labels = shuffle(bags, labels, random_state=rand.randint(0, 100))\n",
    "    accuracie, results_accuracie, auc,results_auc, elapsed = mil_cross_val(bags=bags,labels=labels.ravel(), model=SMILa, folds=folds,parameters=parameters_smil, timer=True)\n",
    "    print '\\n'+'AUC: ' + str(auc)+'\\n'+'Accuracie: '+ str(accuracie)+'\\n'+'Elapsed: '+ str(round(elapsed,2))\n",
    "    AUC.append(auc)\n",
    "    ACCURACIE.append(accuracie)\n",
    "print '\\n MEAN AUC: '+ str(np.mean(AUC)) + '\\n MEAN ACCURACIE: '+ str(np.mean(ACCURACIE))"
   ]
  },
  {
   "cell_type": "markdown",
   "metadata": {},
   "source": [
    "#### Simple MIL [average]"
   ]
  },
  {
   "cell_type": "code",
   "execution_count": 14,
   "metadata": {
    "collapsed": false
   },
   "outputs": [
    {
     "name": "stdout",
     "output_type": "stream",
     "text": [
      "\n",
      "========= SIMPLE MIL RESULT [AVERAGE] =========\n",
      "\n",
      " run #0\n",
      "Fold# 0...Fold# 1...Fold# 2...Fold# 3...Fold# 4...\n",
      "AUC: 60.6948717949\n",
      "Accuracie: 71.280227596\n",
      "Elapsed: 0.05\n",
      "\n",
      " run #1\n",
      "Fold# 0...Fold# 1...Fold# 2...Fold# 3...Fold# 4...\n",
      "AUC: 61.1282051282\n",
      "Accuracie: 71.3086770982\n",
      "Elapsed: 0.04\n",
      "\n",
      " run #2\n",
      "Fold# 0...Fold# 1...Fold# 2...Fold# 3...Fold# 4...\n",
      "AUC: 61.3358974359\n",
      "Accuracie: 71.7923186344\n",
      "Elapsed: 0.05\n",
      "\n",
      " run #3\n",
      "Fold# 0...Fold# 1...Fold# 2...Fold# 3...Fold# 4...\n",
      "AUC: 63.8512820513\n",
      "Accuracie: 73.4708392603\n",
      "Elapsed: 0.11\n",
      "\n",
      " run #4\n",
      "Fold# 0...Fold# 1...Fold# 2...Fold# 3...Fold# 4...\n",
      "AUC: 61.4641025641\n",
      "Accuracie: 71.8207681366\n",
      "Elapsed: 0.09\n",
      "\n",
      " MEAN AUC: 61.6948717949\n",
      " MEAN ACCURACIE: 71.9345661451\n"
     ]
    }
   ],
   "source": [
    "parameters_smil = {'type': 'average'}\n",
    "print '\\n========= SIMPLE MIL RESULT [AVERAGE] ========='\n",
    "AUC = []\n",
    "ACCURACIE=[]\n",
    "for i in range(runs):\n",
    "    print '\\n run #'+ str(i)\n",
    "    bags,labels = shuffle(bags, labels, random_state=rand.randint(0, 100))\n",
    "    accuracie, results_accuracie, auc,results_auc, elapsed   = mil_cross_val(bags=bags,labels=labels.ravel(), model=SMILa, folds=folds,parameters=parameters_smil, timer=True)\n",
    "    print '\\n'+'AUC: ' + str(auc)+'\\n'+'Accuracie: '+ str(accuracie)+'\\n'+'Elapsed: '+ str(round(elapsed,2))\n",
    "    AUC.append(auc)\n",
    "    ACCURACIE.append(accuracie)\n",
    "print '\\n MEAN AUC: '+ str(np.mean(AUC)) + '\\n MEAN ACCURACIE: '+ str(np.mean(ACCURACIE))"
   ]
  },
  {
   "cell_type": "markdown",
   "metadata": {},
   "source": [
    "#### Bag of Words "
   ]
  },
  {
   "cell_type": "code",
   "execution_count": 15,
   "metadata": {
    "collapsed": false
   },
   "outputs": [
    {
     "name": "stdout",
     "output_type": "stream",
     "text": [
      "\n",
      "========= BAG OF WORDS RESULT =========\n",
      "\n",
      " run #0\n",
      "Fold# 0...Fold# 1...Fold# 2...Fold# 3...Fold# 4...\n",
      "AUC: 50.0\n",
      "Accuracie: 66.5007112376\n",
      "Elapsed: 32.5\n",
      "\n",
      " run #1\n",
      "Fold# 0...Fold# 1...Fold# 2...Fold# 3...Fold# 4...\n",
      "AUC: 50.0\n",
      "Accuracie: 66.5007112376\n",
      "Elapsed: 63.21\n",
      "\n",
      " run #2\n",
      "Fold# 0...Fold# 1...Fold# 2...Fold# 3...Fold# 4...\n",
      "AUC: 50.0\n",
      "Accuracie: 66.5007112376\n",
      "Elapsed: 41.01\n",
      "\n",
      " run #3\n",
      "Fold# 0...Fold# 1...Fold# 2...Fold# 3...Fold# 4...\n",
      "AUC: 50.0\n",
      "Accuracie: 66.5007112376\n",
      "Elapsed: 52.51\n",
      "\n",
      " run #4\n",
      "Fold# 0...Fold# 1...Fold# 2...Fold# 3...Fold# 4...\n",
      "AUC: 50.0\n",
      "Accuracie: 66.5007112376\n",
      "Elapsed: 56.03\n",
      "\n",
      " MEAN AUC: 50.0\n",
      " MEAN ACCURACIE: 66.5007112376\n"
     ]
    }
   ],
   "source": [
    "bow_classifier = BOW() \n",
    "parameters_bow = {'k':100,'covar_type':'diag','n_iter':20}\n",
    "print '\\n========= BAG OF WORDS RESULT ========='\n",
    "AUC = []\n",
    "ACCURACIE=[]\n",
    "for i in range(runs):\n",
    "    print '\\n run #'+ str(i)\n",
    "    bags,labels = shuffle(bags, labels, random_state=rand.randint(0, 100))\n",
    "    accuracie, results_accuracie, auc,results_auc, elapsed = mil_cross_val(bags=bags,labels=labels.ravel(), model=bow_classifier, folds=folds,parameters=parameters_bow, timer=True)\n",
    "    print '\\n'+'AUC: ' + str(auc)+'\\n'+'Accuracie: '+ str(accuracie)+'\\n'+'Elapsed: '+ str(round(elapsed,2))\n",
    "    AUC.append(auc)\n",
    "    ACCURACIE.append(accuracie)\n",
    "print '\\n MEAN AUC: '+ str(np.mean(AUC)) + '\\n MEAN ACCURACIE: '+ str(np.mean(ACCURACIE))"
   ]
  },
  {
   "cell_type": "markdown",
   "metadata": {},
   "source": [
    "#### Citation KNN "
   ]
  },
  {
   "cell_type": "code",
   "execution_count": null,
   "metadata": {
    "collapsed": false
   },
   "outputs": [],
   "source": [
    "cknn_classifier = CKNN() \n",
    "parameters_cknn = {'references': 3, 'citers': 5}\n",
    "print '\\n========= CKNN RESULT ========='\n",
    "AUC = []\n",
    "ACCURACIE=[]\n",
    "for i in range(runs):\n",
    "    print '\\n run #'+ str(i)\n",
    "    bags,labels = shuffle(bags, labels, random_state=rand.randint(0, 100))\n",
    "    accuracie, results_accuracie, auc,results_auc, elapsed   = mil_cross_val(bags=bags,labels=labels.ravel(), model=cknn_classifier, folds=folds,parameters=parameters_cknn, timer=True)\n",
    "    print '\\n'+'AUC: ' + str(auc)+'\\n'+'Accuracie: '+ str(accuracie)+'\\n'+'Elapsed: '+ str(round(elapsed,2))\n",
    "    AUC.append(auc)\n",
    "    ACCURACIE.append(accuracie)\n",
    "print '\\n MEAN AUC: '+ str(np.mean(AUC)) + '\\n MEAN ACCURACIE: '+ str(np.mean(ACCURACIE))"
   ]
  },
  {
   "cell_type": "markdown",
   "metadata": {},
   "source": [
    "#### Diverse Density"
   ]
  },
  {
   "cell_type": "code",
   "execution_count": 16,
   "metadata": {
    "collapsed": false
   },
   "outputs": [
    {
     "name": "stdout",
     "output_type": "stream",
     "text": [
      "\n",
      "========= DIVERSE DENSITY RESULT=========\n",
      "\n",
      " run #0\n",
      "Fold# 0...Fold# 1...Fold# 2...Fold# 3...Fold# 4...\n",
      "AUC: 50.4333333333\n",
      "Accuracie: 66.5007112376\n",
      "Elapsed: 173.47\n",
      "\n",
      " run #1\n",
      "Fold# 0...Fold# 1...Fold# 2...Fold# 3...Fold# 4...\n",
      "AUC: 50.0\n",
      "Accuracie: 66.5007112376\n",
      "Elapsed: 151.42\n",
      "\n",
      " run #2\n",
      "Fold# 0...Fold# 1...Fold# 2...Fold# 3...Fold# 4...\n",
      "AUC: 50.0\n",
      "Accuracie: 66.5007112376\n",
      "Elapsed: 154.8\n",
      "\n",
      " run #3\n",
      "Fold# 0...Fold# 1...Fold# 2...Fold# 3...Fold# 4...\n",
      "AUC: 50.7692307692\n",
      "Accuracie: 67.027027027\n",
      "Elapsed: 101.59\n",
      "\n",
      " run #4\n",
      "Fold# 0...Fold# 1...Fold# 2...Fold# 3...Fold# 4...\n",
      "AUC: 50.0\n",
      "Accuracie: 66.5007112376\n",
      "Elapsed: 118.52\n",
      "\n",
      " MEAN AUC: 50.2405128205\n",
      " MEAN ACCURACIE: 66.6059743954\n"
     ]
    }
   ],
   "source": [
    "maxDD_classifier = maxDD()\n",
    "print '\\n========= DIVERSE DENSITY RESULT========='\n",
    "AUC = []\n",
    "ACCURACIE=[]\n",
    "for i in range(runs):\n",
    "    print '\\n run #'+ str(i)\n",
    "    bags,labels = shuffle(bags, labels, random_state=rand.randint(0, 100))\n",
    "    accuracie, results_accuracie, auc,results_auc, elapsed = mil_cross_val(bags=bags,labels=labels.ravel(), model=maxDD_classifier, folds=folds,parameters={}, timer=True)\n",
    "    print '\\n'+'AUC: ' + str(auc)+'\\n'+'Accuracie: '+ str(accuracie)+'\\n'+'Elapsed: '+ str(round(elapsed,2))\n",
    "    AUC.append(auc)\n",
    "    ACCURACIE.append(accuracie)\n",
    "print '\\n MEAN AUC: '+ str(np.mean(AUC)) + '\\n MEAN ACCURACIE: '+ str(np.mean(ACCURACIE))"
   ]
  },
  {
   "cell_type": "markdown",
   "metadata": {},
   "source": [
    "#### EM-DD"
   ]
  },
  {
   "cell_type": "code",
   "execution_count": null,
   "metadata": {
    "collapsed": false
   },
   "outputs": [],
   "source": [
    "emdd_classifier = EMDD()\n",
    "print '\\n========= EM-DD RESULT ========='\n",
    "AUC = []\n",
    "ACCURACIE=[]\n",
    "for i in range(runs):\n",
    "    print '\\n run #'+ str(i)\n",
    "    bags,labels = shuffle(bags, labels, random_state=rand.randint(0, 100))\n",
    "    accuracie, results_accuracie, auc,results_auc, elapsed = mil_cross_val(bags=bags,labels=labels.ravel(), model=emdd_classifier, folds=folds,parameters={}, timer=True)\n",
    "    print '\\n'+'AUC: ' + str(auc)+'\\n'+'Accuracie: '+ str(accuracie)+'\\n'+'Elapsed: '+ str(round(elapsed,2))\n",
    "    AUC.append(auc)\n",
    "    ACCURACIE.append(accuracie)\n",
    "print '\\n MEAN AUC: '+ str(np.mean(AUC)) + '\\n MEAN ACCURACIE: '+ str(np.mean(ACCURACIE))"
   ]
  },
  {
   "cell_type": "markdown",
   "metadata": {},
   "source": [
    "#### MILBoost"
   ]
  },
  {
   "cell_type": "code",
   "execution_count": 23,
   "metadata": {
    "collapsed": false
   },
   "outputs": [
    {
     "name": "stdout",
     "output_type": "stream",
     "text": [
      "\n",
      "========= MILBOOST RESULT =========\n",
      "\n",
      " run #0\n",
      "Fold# 0...Fold# 1...Fold# 2...Fold# 3...Fold# 4...\n",
      "AUC: 88.3897435897\n",
      "Accuracie: 65.6222569803\n",
      "Elapsed: 255.02\n",
      "\n",
      " run #1\n",
      "Fold# 0...Fold# 1...Fold# 2...Fold# 3...Fold# 4...\n",
      "AUC: 48.1538461538\n",
      "Accuracie: 65.6222569803\n",
      "Elapsed: 274.93\n",
      "\n",
      " run #2\n",
      "Fold# 0...Fold# 1...Fold# 2...Fold# 3...Fold# 4...\n",
      "AUC: 85.7512820513\n",
      "Accuracie: 65.6222569803\n",
      "Elapsed: 299.56\n",
      "\n",
      " run #3\n",
      "Fold# 0...Fold# 1...Fold# 2...Fold# 3...Fold# 4...\n",
      "AUC: 88.1948717949\n",
      "Accuracie: 65.6222569803\n",
      "Elapsed: 7127.93\n",
      "\n",
      " run #4\n",
      "Fold# 0..."
     ]
    },
    {
     "ename": "IndexError",
     "evalue": "list index out of range",
     "output_type": "error",
     "traceback": [
      "\u001b[0;31m---------------------------------------------------------------------------\u001b[0m",
      "\u001b[0;31mIndexError\u001b[0m                                Traceback (most recent call last)",
      "\u001b[0;32m<ipython-input-23-04dd369fb52f>\u001b[0m in \u001b[0;36m<module>\u001b[0;34m()\u001b[0m\n\u001b[1;32m      6\u001b[0m     \u001b[0;32mprint\u001b[0m \u001b[0;34m'\\n run #'\u001b[0m\u001b[0;34m+\u001b[0m \u001b[0mstr\u001b[0m\u001b[0;34m(\u001b[0m\u001b[0mi\u001b[0m\u001b[0;34m)\u001b[0m\u001b[0;34m\u001b[0m\u001b[0m\n\u001b[1;32m      7\u001b[0m     \u001b[0mbags\u001b[0m\u001b[0;34m,\u001b[0m\u001b[0mlabels\u001b[0m \u001b[0;34m=\u001b[0m \u001b[0mshuffle\u001b[0m\u001b[0;34m(\u001b[0m\u001b[0mbags\u001b[0m\u001b[0;34m,\u001b[0m \u001b[0mlabels\u001b[0m\u001b[0;34m,\u001b[0m \u001b[0mrandom_state\u001b[0m\u001b[0;34m=\u001b[0m\u001b[0mrand\u001b[0m\u001b[0;34m.\u001b[0m\u001b[0mrandint\u001b[0m\u001b[0;34m(\u001b[0m\u001b[0;36m0\u001b[0m\u001b[0;34m,\u001b[0m \u001b[0;36m100\u001b[0m\u001b[0;34m)\u001b[0m\u001b[0;34m)\u001b[0m\u001b[0;34m\u001b[0m\u001b[0m\n\u001b[0;32m----> 8\u001b[0;31m     \u001b[0maccuracie\u001b[0m\u001b[0;34m,\u001b[0m \u001b[0mresults_accuracie\u001b[0m\u001b[0;34m,\u001b[0m \u001b[0mauc\u001b[0m\u001b[0;34m,\u001b[0m\u001b[0mresults_auc\u001b[0m\u001b[0;34m,\u001b[0m \u001b[0melapsed\u001b[0m \u001b[0;34m=\u001b[0m \u001b[0mmil_cross_val\u001b[0m\u001b[0;34m(\u001b[0m\u001b[0mbags\u001b[0m\u001b[0;34m=\u001b[0m\u001b[0mbags\u001b[0m\u001b[0;34m,\u001b[0m\u001b[0mlabels\u001b[0m\u001b[0;34m=\u001b[0m\u001b[0mlabels\u001b[0m\u001b[0;34m,\u001b[0m \u001b[0mmodel\u001b[0m\u001b[0;34m=\u001b[0m\u001b[0mmilboost_classifier\u001b[0m\u001b[0;34m,\u001b[0m \u001b[0mfolds\u001b[0m\u001b[0;34m=\u001b[0m\u001b[0mfolds\u001b[0m\u001b[0;34m,\u001b[0m\u001b[0mparameters\u001b[0m\u001b[0;34m=\u001b[0m\u001b[0;34m{\u001b[0m\u001b[0;34m}\u001b[0m\u001b[0;34m,\u001b[0m \u001b[0mtimer\u001b[0m\u001b[0;34m=\u001b[0m\u001b[0mTrue\u001b[0m\u001b[0;34m)\u001b[0m\u001b[0;34m\u001b[0m\u001b[0m\n\u001b[0m\u001b[1;32m      9\u001b[0m     \u001b[0;32mprint\u001b[0m \u001b[0;34m'\\n'\u001b[0m\u001b[0;34m+\u001b[0m\u001b[0;34m'AUC: '\u001b[0m \u001b[0;34m+\u001b[0m \u001b[0mstr\u001b[0m\u001b[0;34m(\u001b[0m\u001b[0mauc\u001b[0m\u001b[0;34m)\u001b[0m\u001b[0;34m+\u001b[0m\u001b[0;34m'\\n'\u001b[0m\u001b[0;34m+\u001b[0m\u001b[0;34m'Accuracie: '\u001b[0m\u001b[0;34m+\u001b[0m \u001b[0mstr\u001b[0m\u001b[0;34m(\u001b[0m\u001b[0maccuracie\u001b[0m\u001b[0;34m)\u001b[0m\u001b[0;34m+\u001b[0m\u001b[0;34m'\\n'\u001b[0m\u001b[0;34m+\u001b[0m\u001b[0;34m'Elapsed: '\u001b[0m\u001b[0;34m+\u001b[0m \u001b[0mstr\u001b[0m\u001b[0;34m(\u001b[0m\u001b[0mround\u001b[0m\u001b[0;34m(\u001b[0m\u001b[0melapsed\u001b[0m\u001b[0;34m,\u001b[0m\u001b[0;36m2\u001b[0m\u001b[0;34m)\u001b[0m\u001b[0;34m)\u001b[0m\u001b[0;34m\u001b[0m\u001b[0m\n\u001b[1;32m     10\u001b[0m     \u001b[0mAUC\u001b[0m\u001b[0;34m.\u001b[0m\u001b[0mappend\u001b[0m\u001b[0;34m(\u001b[0m\u001b[0mauc\u001b[0m\u001b[0;34m)\u001b[0m\u001b[0;34m\u001b[0m\u001b[0m\n",
      "\u001b[0;32m/Users/josemiguelarrieta/Documents/MILpy/functions/mil_cross_val.pyc\u001b[0m in \u001b[0;36mmil_cross_val\u001b[0;34m(bags, labels, model, folds, parameters, timer)\u001b[0m\n\u001b[1;32m     30\u001b[0m         \u001b[0;32melse\u001b[0m\u001b[0;34m:\u001b[0m\u001b[0;34m\u001b[0m\u001b[0m\n\u001b[1;32m     31\u001b[0m             \u001b[0mmodel\u001b[0m\u001b[0;34m.\u001b[0m\u001b[0mfit\u001b[0m\u001b[0;34m(\u001b[0m\u001b[0mbags\u001b[0m\u001b[0;34m,\u001b[0m \u001b[0mlabels\u001b[0m\u001b[0;34m)\u001b[0m\u001b[0;34m\u001b[0m\u001b[0m\n\u001b[0;32m---> 32\u001b[0;31m         \u001b[0mpredictions\u001b[0m \u001b[0;34m=\u001b[0m \u001b[0mmodel\u001b[0m\u001b[0;34m.\u001b[0m\u001b[0mpredict\u001b[0m\u001b[0;34m(\u001b[0m\u001b[0mX_test\u001b[0m\u001b[0;34m)\u001b[0m\u001b[0;34m\u001b[0m\u001b[0m\n\u001b[0m\u001b[1;32m     33\u001b[0m         \u001b[0;32mif\u001b[0m \u001b[0;34m(\u001b[0m\u001b[0misinstance\u001b[0m\u001b[0;34m(\u001b[0m\u001b[0mpredictions\u001b[0m\u001b[0;34m,\u001b[0m \u001b[0mtuple\u001b[0m\u001b[0;34m)\u001b[0m\u001b[0;34m)\u001b[0m\u001b[0;34m:\u001b[0m\u001b[0;34m\u001b[0m\u001b[0m\n\u001b[1;32m     34\u001b[0m             \u001b[0mpredictions\u001b[0m \u001b[0;34m=\u001b[0m \u001b[0mpredictions\u001b[0m\u001b[0;34m[\u001b[0m\u001b[0;36m0\u001b[0m\u001b[0;34m]\u001b[0m\u001b[0;34m\u001b[0m\u001b[0m\n",
      "\u001b[0;32m/Users/josemiguelarrieta/Documents/MILpy/Algorithms/MILBoost.pyc\u001b[0m in \u001b[0;36mpredict\u001b[0;34m(self, test_bags)\u001b[0m\n\u001b[1;32m     96\u001b[0m         \u001b[0mout\u001b[0m \u001b[0;34m=\u001b[0m \u001b[0mnp\u001b[0m\u001b[0;34m.\u001b[0m\u001b[0mzeros\u001b[0m\u001b[0;34m(\u001b[0m\u001b[0;34m(\u001b[0m\u001b[0mn\u001b[0m\u001b[0;34m,\u001b[0m\u001b[0;36m1\u001b[0m\u001b[0;34m)\u001b[0m\u001b[0;34m)\u001b[0m\u001b[0;34m\u001b[0m\u001b[0m\n\u001b[1;32m     97\u001b[0m         \u001b[0;32mfor\u001b[0m \u001b[0mi\u001b[0m \u001b[0;32min\u001b[0m \u001b[0mrange\u001b[0m\u001b[0;34m(\u001b[0m\u001b[0;36m0\u001b[0m\u001b[0;34m,\u001b[0m\u001b[0mT\u001b[0m\u001b[0;34m-\u001b[0m\u001b[0;36m1\u001b[0m\u001b[0;34m)\u001b[0m\u001b[0;34m:\u001b[0m\u001b[0;34m\u001b[0m\u001b[0m\n\u001b[0;32m---> 98\u001b[0;31m              \u001b[0mout\u001b[0m \u001b[0;34m=\u001b[0m \u001b[0mout\u001b[0m \u001b[0;34m+\u001b[0m \u001b[0mfloat\u001b[0m\u001b[0;34m(\u001b[0m\u001b[0mself\u001b[0m\u001b[0;34m.\u001b[0m\u001b[0m_alpha\u001b[0m\u001b[0;34m[\u001b[0m\u001b[0mi\u001b[0m\u001b[0;34m]\u001b[0m\u001b[0;34m)\u001b[0m\u001b[0;34m*\u001b[0m\u001b[0mH\u001b[0m\u001b[0;34m[\u001b[0m\u001b[0mi\u001b[0m\u001b[0;34m]\u001b[0m\u001b[0;34m[\u001b[0m\u001b[0;34m'bestsgn'\u001b[0m\u001b[0;34m]\u001b[0m\u001b[0;34m*\u001b[0m\u001b[0mnp\u001b[0m\u001b[0;34m.\u001b[0m\u001b[0msign\u001b[0m\u001b[0;34m(\u001b[0m\u001b[0mZ\u001b[0m\u001b[0;34m[\u001b[0m\u001b[0;34m:\u001b[0m\u001b[0;34m,\u001b[0m\u001b[0mH\u001b[0m\u001b[0;34m[\u001b[0m\u001b[0mi\u001b[0m\u001b[0;34m]\u001b[0m\u001b[0;34m[\u001b[0m\u001b[0;34m'bestfeat'\u001b[0m\u001b[0;34m]\u001b[0m\u001b[0;34m]\u001b[0m\u001b[0;34m-\u001b[0m\u001b[0mH\u001b[0m\u001b[0;34m[\u001b[0m\u001b[0mi\u001b[0m\u001b[0;34m]\u001b[0m\u001b[0;34m[\u001b[0m\u001b[0;34m'bestthr'\u001b[0m\u001b[0;34m]\u001b[0m\u001b[0;34m)\u001b[0m\u001b[0;34m\u001b[0m\u001b[0m\n\u001b[0m\u001b[1;32m     99\u001b[0m              \u001b[0mpij\u001b[0m \u001b[0;34m=\u001b[0m \u001b[0;36m1\u001b[0m\u001b[0;34m/\u001b[0m\u001b[0;34m(\u001b[0m\u001b[0;36m1\u001b[0m\u001b[0;34m+\u001b[0m\u001b[0mnp\u001b[0m\u001b[0;34m.\u001b[0m\u001b[0mexp\u001b[0m\u001b[0;34m(\u001b[0m\u001b[0;34m-\u001b[0m\u001b[0mout\u001b[0m\u001b[0;34m)\u001b[0m\u001b[0;34m)\u001b[0m\u001b[0;34m\u001b[0m\u001b[0m\n\u001b[1;32m    100\u001b[0m \u001b[0;34m\u001b[0m\u001b[0m\n",
      "\u001b[0;31mIndexError\u001b[0m: list index out of range"
     ]
    }
   ],
   "source": [
    "milboost_classifier = MILBoost()\n",
    "print '\\n========= MILBOOST RESULT ========='\n",
    "AUC = []\n",
    "ACCURACIE=[]\n",
    "for i in range(runs):\n",
    "    print '\\n run #'+ str(i)\n",
    "    bags,labels = shuffle(bags, labels, random_state=rand.randint(0, 100))\n",
    "    accuracie, results_accuracie, auc,results_auc, elapsed = mil_cross_val(bags=bags,labels=labels, model=milboost_classifier, folds=folds,parameters={}, timer=True)\n",
    "    print '\\n'+'AUC: ' + str(auc)+'\\n'+'Accuracie: '+ str(accuracie)+'\\n'+'Elapsed: '+ str(round(elapsed,2))\n",
    "    AUC.append(auc)\n",
    "    ACCURACIE.append(accuracie)\n",
    "print '\\n MEAN AUC: '+ str(np.mean(AUC)) + '\\n MEAN ACCURACIE: '+ str(np.mean(ACCURACIE))"
   ]
  },
  {
   "cell_type": "markdown",
   "metadata": {},
   "source": [
    "#### Miles"
   ]
  },
  {
   "cell_type": "code",
   "execution_count": null,
   "metadata": {
    "collapsed": true
   },
   "outputs": [],
   "source": [
    "#Pending"
   ]
  }
 ],
 "metadata": {
  "kernelspec": {
   "display_name": "Python 2",
   "language": "python",
   "name": "python2"
  },
  "language_info": {
   "codemirror_mode": {
    "name": "ipython",
    "version": 2
   },
   "file_extension": ".py",
   "mimetype": "text/x-python",
   "name": "python",
   "nbconvert_exporter": "python",
   "pygments_lexer": "ipython2",
   "version": "2.7.12"
  }
 },
 "nbformat": 4,
 "nbformat_minor": 0
}
