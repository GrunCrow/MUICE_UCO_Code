{
 "cells": [
  {
   "cell_type": "markdown",
   "metadata": {},
   "source": [
    "# Results: Fox Scaled"
   ]
  },
  {
   "cell_type": "markdown",
   "metadata": {},
   "source": [
    "<b> MIL </b>  <i>stratified k fold Validation</i>  is performed.\n",
    "Metrics: <br>\n",
    "    - AUC \n",
    "    - Accuracie"
   ]
  },
  {
   "cell_type": "markdown",
   "metadata": {},
   "source": [
    "### Import Libraries"
   ]
  },
  {
   "cell_type": "code",
   "execution_count": 1,
   "metadata": {
    "collapsed": true
   },
   "outputs": [],
   "source": [
    "import sys,os\n",
    "import warnings\n",
    "os.chdir('/Users/josemiguelarrieta/Documents/MILpy')\n",
    "sys.path.append(os.path.realpath('..'))\n",
    "from sklearn.utils import shuffle\n",
    "import random as rand\n",
    "import numpy as np\n",
    "from data import load_data\n",
    "warnings.filterwarnings('ignore')\n",
    "from MILpy.functions.mil_cross_val import mil_cross_val\n",
    "\n",
    "#Import Algorithms \n",
    "from MILpy.Algorithms.simpleMIL import simpleMIL\n",
    "from MILpy.Algorithms.MILBoost import MILBoost\n",
    "from MILpy.Algorithms.maxDD import maxDD\n",
    "from MILpy.Algorithms.CKNN import CKNN\n",
    "from MILpy.Algorithms.EMDD import EMDD\n",
    "from MILpy.Algorithms.MILES import MILES\n",
    "from MILpy.Algorithms.BOW import BOW"
   ]
  },
  {
   "cell_type": "markdown",
   "metadata": {},
   "source": [
    "### Load data"
   ]
  },
  {
   "cell_type": "code",
   "execution_count": 2,
   "metadata": {
    "collapsed": false
   },
   "outputs": [],
   "source": [
    "bags,labels,X = load_data('Fox_scaled')\n",
    "folds = 5\n",
    "runs = 5"
   ]
  },
  {
   "cell_type": "markdown",
   "metadata": {},
   "source": [
    "#### Simple MIL [max]"
   ]
  },
  {
   "cell_type": "code",
   "execution_count": 3,
   "metadata": {
    "collapsed": false
   },
   "outputs": [
    {
     "name": "stdout",
     "output_type": "stream",
     "text": [
      "\n",
      "========= SIMPLE MIL RESULT [MAX] =========\n",
      "\n",
      " run #0\n",
      "Fold# 0...Fold# 1...Fold# 2...Fold# 3...Fold# 4...\n",
      "AUC: 63.5\n",
      "Accuracie: 63.5\n",
      "Elapsed: 0.11\n",
      "\n",
      " run #1\n",
      "Fold# 0...Fold# 1...Fold# 2...Fold# 3...Fold# 4...\n",
      "AUC: 64.5\n",
      "Accuracie: 64.5\n",
      "Elapsed: 0.1\n",
      "\n",
      " run #2\n",
      "Fold# 0...Fold# 1...Fold# 2...Fold# 3...Fold# 4...\n",
      "AUC: 63.5\n",
      "Accuracie: 63.5\n",
      "Elapsed: 0.11\n",
      "\n",
      " run #3\n",
      "Fold# 0...Fold# 1...Fold# 2...Fold# 3...Fold# 4...\n",
      "AUC: 66.5\n",
      "Accuracie: 66.5\n",
      "Elapsed: 0.21\n",
      "\n",
      " run #4\n",
      "Fold# 0...Fold# 1...Fold# 2...Fold# 3...Fold# 4...\n",
      "AUC: 67.5\n",
      "Accuracie: 67.5\n",
      "Elapsed: 0.16\n",
      "\n",
      " MEAN AUC: 65.1\n",
      " MEAN ACCURACIE: 65.1\n"
     ]
    }
   ],
   "source": [
    "SMILa = simpleMIL()\n",
    "parameters_smil = {'type': 'max'}\n",
    "print '\\n========= SIMPLE MIL RESULT [MAX] ========='\n",
    "AUC = []\n",
    "ACCURACIE=[]\n",
    "for i in range(runs):\n",
    "    print '\\n run #'+ str(i)\n",
    "    #Shuffle Data\n",
    "    bags,labels = shuffle(bags, labels, random_state=rand.randint(0, 100))\n",
    "    accuracie, results_accuracie, auc,results_auc, elapsed  = mil_cross_val(bags=bags,labels=labels.ravel(), model=SMILa, folds=folds, parameters=parameters_smil, timer = True)\n",
    "    print '\\n'+'AUC: ' + str(auc)+'\\n'+'Accuracie: '+ str(accuracie)+'\\n'+'Elapsed: '+ str(round(elapsed,2))\n",
    "    AUC.append(auc)\n",
    "    ACCURACIE.append(accuracie)\n",
    "print '\\n MEAN AUC: '+ str(np.mean(AUC)) + '\\n MEAN ACCURACIE: '+ str(np.mean(ACCURACIE))"
   ]
  },
  {
   "cell_type": "markdown",
   "metadata": {},
   "source": [
    "#### Simple MIL [min]"
   ]
  },
  {
   "cell_type": "code",
   "execution_count": 4,
   "metadata": {
    "collapsed": false
   },
   "outputs": [
    {
     "name": "stdout",
     "output_type": "stream",
     "text": [
      "\n",
      "========= SIMPLE MIL RESULT [MIN] =========\n",
      "\n",
      " run #0\n",
      "Fold# 0...Fold# 1...Fold# 2...Fold# 3...Fold# 4...\n",
      "AUC: 56.5\n",
      "Accuracie: 56.5\n",
      "Elapsed: 0.1\n",
      "\n",
      " run #1\n",
      "Fold# 0...Fold# 1...Fold# 2...Fold# 3...Fold# 4...\n",
      "AUC: 56.0\n",
      "Accuracie: 56.0\n",
      "Elapsed: 0.14\n",
      "\n",
      " run #2\n",
      "Fold# 0...Fold# 1...Fold# 2...Fold# 3...Fold# 4...\n",
      "AUC: 55.5\n",
      "Accuracie: 55.5\n",
      "Elapsed: 0.11\n",
      "\n",
      " run #3\n",
      "Fold# 0...Fold# 1...Fold# 2...Fold# 3...Fold# 4...\n",
      "AUC: 55.0\n",
      "Accuracie: 55.0\n",
      "Elapsed: 0.26\n",
      "\n",
      " run #4\n",
      "Fold# 0...Fold# 1...Fold# 2...Fold# 3...Fold# 4...\n",
      "AUC: 55.0\n",
      "Accuracie: 55.0\n",
      "Elapsed: 0.23\n",
      "\n",
      " MEAN AUC: 55.6\n",
      " MEAN ACCURACIE: 55.6\n"
     ]
    }
   ],
   "source": [
    "parameters_smil = {'type': 'min'}\n",
    "print '\\n========= SIMPLE MIL RESULT [MIN] ========='\n",
    "AUC = []\n",
    "ACCURACIE=[]\n",
    "for i in range(runs):\n",
    "    print '\\n run #'+ str(i)\n",
    "    bags,labels = shuffle(bags, labels, random_state=rand.randint(0, 100))\n",
    "    accuracie, results_accuracie, auc,results_auc, elapsed   = mil_cross_val(bags=bags,labels=labels.ravel(), model=SMILa, folds=folds,parameters=parameters_smil, timer=True)\n",
    "    print '\\n'+'AUC: ' + str(auc)+'\\n'+'Accuracie: '+ str(accuracie)+'\\n'+'Elapsed: '+ str(round(elapsed,2))\n",
    "    AUC.append(auc)\n",
    "    ACCURACIE.append(accuracie)\n",
    "print '\\n MEAN AUC: '+ str(np.mean(AUC)) + '\\n MEAN ACCURACIE: '+ str(np.mean(ACCURACIE))"
   ]
  },
  {
   "cell_type": "markdown",
   "metadata": {},
   "source": [
    "#### Simple MIL [extreme]"
   ]
  },
  {
   "cell_type": "code",
   "execution_count": 5,
   "metadata": {
    "collapsed": false
   },
   "outputs": [
    {
     "name": "stdout",
     "output_type": "stream",
     "text": [
      "\n",
      "========= SIMPLE MIL RESULT [MIN] =========\n",
      "\n",
      " run #0\n",
      "Fold# 0...Fold# 1...Fold# 2...Fold# 3...Fold# 4...\n",
      "AUC: 64.0\n",
      "Accuracie: 64.0\n",
      "Elapsed: 0.19\n",
      "\n",
      " run #1\n",
      "Fold# 0...Fold# 1...Fold# 2...Fold# 3...Fold# 4...\n",
      "AUC: 63.5\n",
      "Accuracie: 63.5\n",
      "Elapsed: 0.2\n",
      "\n",
      " run #2\n",
      "Fold# 0...Fold# 1...Fold# 2...Fold# 3...Fold# 4...\n",
      "AUC: 60.5\n",
      "Accuracie: 60.5\n",
      "Elapsed: 0.44\n",
      "\n",
      " run #3\n",
      "Fold# 0...Fold# 1...Fold# 2...Fold# 3...Fold# 4...\n",
      "AUC: 64.0\n",
      "Accuracie: 64.0\n",
      "Elapsed: 0.32\n",
      "\n",
      " run #4\n",
      "Fold# 0...Fold# 1...Fold# 2...Fold# 3...Fold# 4...\n",
      "AUC: 61.5\n",
      "Accuracie: 61.5\n",
      "Elapsed: 0.26\n",
      "\n",
      " MEAN AUC: 62.7\n",
      " MEAN ACCURACIE: 62.7\n"
     ]
    }
   ],
   "source": [
    "parameters_smil = {'type': 'extreme'}\n",
    "print '\\n========= SIMPLE MIL RESULT [MIN] ========='\n",
    "AUC = []\n",
    "ACCURACIE=[]\n",
    "for i in range(runs):\n",
    "    print '\\n run #'+ str(i)\n",
    "    #Shuffle Data\n",
    "    bags,labels = shuffle(bags, labels, random_state=rand.randint(0, 100))\n",
    "    accuracie, results_accuracie, auc,results_auc, elapsed = mil_cross_val(bags=bags,labels=labels.ravel(), model=SMILa, folds=folds,parameters=parameters_smil, timer=True)\n",
    "    print '\\n'+'AUC: ' + str(auc)+'\\n'+'Accuracie: '+ str(accuracie)+'\\n'+'Elapsed: '+ str(round(elapsed,2))\n",
    "    AUC.append(auc)\n",
    "    ACCURACIE.append(accuracie)\n",
    "print '\\n MEAN AUC: '+ str(np.mean(AUC)) + '\\n MEAN ACCURACIE: '+ str(np.mean(ACCURACIE))"
   ]
  },
  {
   "cell_type": "markdown",
   "metadata": {},
   "source": [
    "#### Simple MIL [average]"
   ]
  },
  {
   "cell_type": "code",
   "execution_count": 6,
   "metadata": {
    "collapsed": false
   },
   "outputs": [
    {
     "name": "stdout",
     "output_type": "stream",
     "text": [
      "\n",
      "========= SIMPLE MIL RESULT [AVERAGE] =========\n",
      "\n",
      " run #0\n",
      "Fold# 0...Fold# 1...Fold# 2...Fold# 3...Fold# 4...\n",
      "AUC: 61.5\n",
      "Accuracie: 61.5\n",
      "Elapsed: 0.15\n",
      "\n",
      " run #1\n",
      "Fold# 0...Fold# 1...Fold# 2...Fold# 3...Fold# 4...\n",
      "AUC: 61.5\n",
      "Accuracie: 61.5\n",
      "Elapsed: 0.15\n",
      "\n",
      " run #2\n",
      "Fold# 0...Fold# 1...Fold# 2...Fold# 3...Fold# 4...\n",
      "AUC: 61.5\n",
      "Accuracie: 61.5\n",
      "Elapsed: 0.13\n",
      "\n",
      " run #3\n",
      "Fold# 0...Fold# 1...Fold# 2...Fold# 3...Fold# 4...\n",
      "AUC: 59.0\n",
      "Accuracie: 59.0\n",
      "Elapsed: 0.18\n",
      "\n",
      " run #4\n",
      "Fold# 0...Fold# 1...Fold# 2...Fold# 3...Fold# 4...\n",
      "AUC: 59.0\n",
      "Accuracie: 59.0\n",
      "Elapsed: 0.24\n",
      "\n",
      " MEAN AUC: 60.5\n",
      " MEAN ACCURACIE: 60.5\n"
     ]
    }
   ],
   "source": [
    "parameters_smil = {'type': 'average'}\n",
    "print '\\n========= SIMPLE MIL RESULT [AVERAGE] ========='\n",
    "AUC = []\n",
    "ACCURACIE=[]\n",
    "for i in range(runs):\n",
    "    print '\\n run #'+ str(i)\n",
    "    bags,labels = shuffle(bags, labels, random_state=rand.randint(0, 100))\n",
    "    accuracie, results_accuracie, auc,results_auc, elapsed   = mil_cross_val(bags=bags,labels=labels.ravel(), model=SMILa, folds=folds,parameters=parameters_smil, timer=True)\n",
    "    print '\\n'+'AUC: ' + str(auc)+'\\n'+'Accuracie: '+ str(accuracie)+'\\n'+'Elapsed: '+ str(round(elapsed,2))\n",
    "    AUC.append(auc)\n",
    "    ACCURACIE.append(accuracie)\n",
    "print '\\n MEAN AUC: '+ str(np.mean(AUC)) + '\\n MEAN ACCURACIE: '+ str(np.mean(ACCURACIE))"
   ]
  },
  {
   "cell_type": "markdown",
   "metadata": {},
   "source": [
    "#### Bag of Words "
   ]
  },
  {
   "cell_type": "code",
   "execution_count": 7,
   "metadata": {
    "collapsed": false
   },
   "outputs": [
    {
     "name": "stdout",
     "output_type": "stream",
     "text": [
      "\n",
      "========= BAG OF WORDS RESULT =========\n",
      "\n",
      " run #0\n",
      "Fold# 0...Fold# 1...Fold# 2...Fold# 3...Fold# 4...\n",
      "AUC: 58.0\n",
      "Accuracie: 58.0\n",
      "Elapsed: 23.83\n",
      "\n",
      " run #1\n",
      "Fold# 0...Fold# 1...Fold# 2...Fold# 3...Fold# 4...\n",
      "AUC: 61.5\n",
      "Accuracie: 61.5\n",
      "Elapsed: 19.4\n",
      "\n",
      " run #2\n",
      "Fold# 0...Fold# 1...Fold# 2...Fold# 3...Fold# 4...\n",
      "AUC: 60.0\n",
      "Accuracie: 60.0\n",
      "Elapsed: 20.89\n",
      "\n",
      " run #3\n",
      "Fold# 0...Fold# 1...Fold# 2...Fold# 3...Fold# 4...\n",
      "AUC: 53.0\n",
      "Accuracie: 53.0\n",
      "Elapsed: 19.01\n",
      "\n",
      " run #4\n",
      "Fold# 0...Fold# 1...Fold# 2...Fold# 3...Fold# 4...\n",
      "AUC: 61.0\n",
      "Accuracie: 61.0\n",
      "Elapsed: 13.93\n",
      "\n",
      " MEAN AUC: 58.7\n",
      " MEAN ACCURACIE: 58.7\n"
     ]
    }
   ],
   "source": [
    "bow_classifier = BOW() \n",
    "parameters_bow = {'k':100,'covar_type':'diag','n_iter':20}\n",
    "print '\\n========= BAG OF WORDS RESULT ========='\n",
    "AUC = []\n",
    "ACCURACIE=[]\n",
    "for i in range(runs):\n",
    "    print '\\n run #'+ str(i)\n",
    "    bags,labels = shuffle(bags, labels, random_state=rand.randint(0, 100))\n",
    "    accuracie, results_accuracie, auc,results_auc, elapsed = mil_cross_val(bags=bags,labels=labels.ravel(), model=bow_classifier, folds=folds,parameters=parameters_bow, timer=True)\n",
    "    print '\\n'+'AUC: ' + str(auc)+'\\n'+'Accuracie: '+ str(accuracie)+'\\n'+'Elapsed: '+ str(round(elapsed,2))\n",
    "    AUC.append(auc)\n",
    "    ACCURACIE.append(accuracie)\n",
    "print '\\n MEAN AUC: '+ str(np.mean(AUC)) + '\\n MEAN ACCURACIE: '+ str(np.mean(ACCURACIE))"
   ]
  },
  {
   "cell_type": "markdown",
   "metadata": {},
   "source": [
    "#### Citation KNN "
   ]
  },
  {
   "cell_type": "code",
   "execution_count": 11,
   "metadata": {
    "collapsed": false
   },
   "outputs": [
    {
     "name": "stdout",
     "output_type": "stream",
     "text": [
      "\n",
      "========= CKNN RESULT =========\n",
      "\n",
      " run #0\n",
      "Fold# 0...Fold# 1...Fold# 2...Fold# 3...Fold# 4...\n",
      "AUC: 60.5\n",
      "Accuracie: 60.5\n",
      "Elapsed: 1517.44\n",
      "\n",
      " run #1\n",
      "Fold# 0...Fold# 1...Fold# 2...Fold# 3...Fold# 4...\n",
      "AUC: 66.5\n",
      "Accuracie: 66.5\n",
      "Elapsed: 5149.05\n",
      "\n",
      " run #2\n",
      "Fold# 0...Fold# 1...Fold# 2...Fold# 3...Fold# 4...\n",
      "AUC: 64.5\n",
      "Accuracie: 64.5\n",
      "Elapsed: 1387.98\n",
      "\n",
      " run #3\n",
      "Fold# 0...Fold# 1...Fold# 2...Fold# 3...Fold# 4...\n",
      "AUC: 60.5\n",
      "Accuracie: 60.5\n",
      "Elapsed: 1168.37\n",
      "\n",
      " run #4\n",
      "Fold# 0...Fold# 1...Fold# 2...Fold# 3...Fold# 4...\n",
      "AUC: 65.0\n",
      "Accuracie: 65.0\n",
      "Elapsed: 1182.64\n",
      "\n",
      " MEAN AUC: 63.4\n",
      " MEAN ACCURACIE: 63.4\n"
     ]
    }
   ],
   "source": [
    "cknn_classifier = CKNN() \n",
    "parameters_cknn = {'references': 3, 'citers': 5}\n",
    "print '\\n========= CKNN RESULT ========='\n",
    "AUC = []\n",
    "ACCURACIE=[]\n",
    "for i in range(runs):\n",
    "    print '\\n run #'+ str(i)\n",
    "    bags,labels = shuffle(bags, labels, random_state=rand.randint(0, 100))\n",
    "    accuracie, results_accuracie, auc,results_auc, elapsed   = mil_cross_val(bags=bags,labels=labels.ravel(), model=cknn_classifier, folds=folds,parameters=parameters_cknn, timer=True)\n",
    "    print '\\n'+'AUC: ' + str(auc)+'\\n'+'Accuracie: '+ str(accuracie)+'\\n'+'Elapsed: '+ str(round(elapsed,2))\n",
    "    AUC.append(auc)\n",
    "    ACCURACIE.append(accuracie)\n",
    "print '\\n MEAN AUC: '+ str(np.mean(AUC)) + '\\n MEAN ACCURACIE: '+ str(np.mean(ACCURACIE))"
   ]
  },
  {
   "cell_type": "markdown",
   "metadata": {},
   "source": [
    "#### Diverse Density"
   ]
  },
  {
   "cell_type": "code",
   "execution_count": 8,
   "metadata": {
    "collapsed": false
   },
   "outputs": [
    {
     "name": "stdout",
     "output_type": "stream",
     "text": [
      "\n",
      "========= DIVERSE DENSITY RESULT=========\n",
      "\n",
      " run #0\n",
      "Fold# 0...Fold# 1...Fold# 2...Fold# 3...Fold# 4...\n",
      "AUC: 52.0\n",
      "Accuracie: 52.0\n",
      "Elapsed: 71.0\n",
      "\n",
      " run #1\n",
      "Fold# 0...Fold# 1...Fold# 2...Fold# 3...Fold# 4...\n",
      "AUC: 53.0\n",
      "Accuracie: 53.0\n",
      "Elapsed: 70.14\n",
      "\n",
      " run #2\n",
      "Fold# 0...Fold# 1...Fold# 2...Fold# 3...Fold# 4...\n",
      "AUC: 59.5\n",
      "Accuracie: 59.5\n",
      "Elapsed: 26.78\n",
      "\n",
      " run #3\n",
      "Fold# 0...Fold# 1...Fold# 2...Fold# 3...Fold# 4...\n",
      "AUC: 55.0\n",
      "Accuracie: 55.0\n",
      "Elapsed: 136.16\n",
      "\n",
      " run #4\n",
      "Fold# 0...Fold# 1...Fold# 2...Fold# 3...Fold# 4...\n",
      "AUC: 52.0\n",
      "Accuracie: 52.0\n",
      "Elapsed: 112.15\n",
      "\n",
      " MEAN AUC: 54.3\n",
      " MEAN ACCURACIE: 54.3\n"
     ]
    }
   ],
   "source": [
    "maxDD_classifier = maxDD()\n",
    "print '\\n========= DIVERSE DENSITY RESULT========='\n",
    "AUC = []\n",
    "ACCURACIE=[]\n",
    "for i in range(runs):\n",
    "    print '\\n run #'+ str(i)\n",
    "    bags,labels = shuffle(bags, labels, random_state=rand.randint(0, 100))\n",
    "    accuracie, results_accuracie, auc,results_auc, elapsed = mil_cross_val(bags=bags,labels=labels.ravel(), model=maxDD_classifier, folds=folds,parameters={}, timer=True)\n",
    "    print '\\n'+'AUC: ' + str(auc)+'\\n'+'Accuracie: '+ str(accuracie)+'\\n'+'Elapsed: '+ str(round(elapsed,2))\n",
    "    AUC.append(auc)\n",
    "    ACCURACIE.append(accuracie)\n",
    "print '\\n MEAN AUC: '+ str(np.mean(AUC)) + '\\n MEAN ACCURACIE: '+ str(np.mean(ACCURACIE))"
   ]
  },
  {
   "cell_type": "markdown",
   "metadata": {},
   "source": [
    "#### EM-DD"
   ]
  },
  {
   "cell_type": "code",
   "execution_count": 13,
   "metadata": {
    "collapsed": false
   },
   "outputs": [
    {
     "name": "stdout",
     "output_type": "stream",
     "text": [
      "\n",
      "========= EM-DD RESULT =========\n",
      "\n",
      " run #0\n",
      "Fold# 0...Fold# 1...Fold# 2...Fold# 3...Fold# 4...\n",
      "AUC: 71.5\n",
      "Accuracie: 71.5\n",
      "Elapsed: 520.46\n",
      "\n",
      " run #1\n",
      "Fold# 0...Fold# 1...Fold# 2...Fold# 3...Fold# 4...\n",
      "AUC: 67.0\n",
      "Accuracie: 67.0\n",
      "Elapsed: 524.05\n",
      "\n",
      " run #2\n",
      "Fold# 0...Fold# 1...Fold# 2...Fold# 3...Fold# 4...\n",
      "AUC: 66.5\n",
      "Accuracie: 66.5\n",
      "Elapsed: 518.03\n",
      "\n",
      " run #3\n",
      "Fold# 0...Fold# 1...Fold# 2...Fold# 3...Fold# 4...\n",
      "AUC: 69.0\n",
      "Accuracie: 69.0\n",
      "Elapsed: 706.25\n",
      "\n",
      " run #4\n",
      "Fold# 0...Fold# 1...Fold# 2...Fold# 3...Fold# 4...\n",
      "AUC: 68.5\n",
      "Accuracie: 68.5\n",
      "Elapsed: 740.04\n",
      "\n",
      " MEAN AUC: 68.5\n",
      " MEAN ACCURACIE: 68.5\n"
     ]
    }
   ],
   "source": [
    "emdd_classifier = EMDD()\n",
    "print '\\n========= EM-DD RESULT ========='\n",
    "AUC = []\n",
    "ACCURACIE=[]\n",
    "for i in range(runs):\n",
    "    print '\\n run #'+ str(i)\n",
    "    bags,labels = shuffle(bags, labels, random_state=rand.randint(0, 100))\n",
    "    accuracie, results_accuracie, auc,results_auc, elapsed = mil_cross_val(bags=bags,labels=labels.ravel(), model=emdd_classifier, folds=folds,parameters={}, timer=True)\n",
    "    print '\\n'+'AUC: ' + str(auc)+'\\n'+'Accuracie: '+ str(accuracie)+'\\n'+'Elapsed: '+ str(round(elapsed,2))\n",
    "    AUC.append(auc)\n",
    "    ACCURACIE.append(accuracie)\n",
    "print '\\n MEAN AUC: '+ str(np.mean(AUC)) + '\\n MEAN ACCURACIE: '+ str(np.mean(ACCURACIE))"
   ]
  },
  {
   "cell_type": "markdown",
   "metadata": {},
   "source": [
    "#### MILBoost"
   ]
  },
  {
   "cell_type": "code",
   "execution_count": 12,
   "metadata": {
    "collapsed": false
   },
   "outputs": [
    {
     "name": "stdout",
     "output_type": "stream",
     "text": [
      "\n",
      "========= MILBOOST RESULT =========\n",
      "\n",
      " run #0\n",
      "Fold# 0...Fold# 1...Fold# 2...Fold# 3...Fold# 4...\n",
      "AUC: 49.3\n",
      "Accuracie: 50.0\n",
      "Elapsed: 472.18\n",
      "\n",
      " run #1\n",
      "Fold# 0...Fold# 1...Fold# 2...Fold# 3...Fold# 4...\n",
      "AUC: 49.025\n",
      "Accuracie: 50.0\n",
      "Elapsed: 370.26\n",
      "\n",
      " run #2\n",
      "Fold# 0...Fold# 1...Fold# 2...Fold# 3...Fold# 4...\n",
      "AUC: 56.85\n",
      "Accuracie: 50.0\n",
      "Elapsed: 338.96\n",
      "\n",
      " run #3\n",
      "Fold# 0...Fold# 1...Fold# 2...Fold# 3...Fold# 4...\n",
      "AUC: 66.2\n",
      "Accuracie: 50.0\n",
      "Elapsed: 356.52\n",
      "\n",
      " run #4\n",
      "Fold# 0...Fold# 1...Fold# 2...Fold# 3...Fold# 4...\n",
      "AUC: 60.575\n",
      "Accuracie: 50.0\n",
      "Elapsed: 316.71\n",
      "\n",
      " MEAN AUC: 56.39\n",
      " MEAN ACCURACIE: 50.0\n"
     ]
    }
   ],
   "source": [
    "milboost_classifier = MILBoost()\n",
    "print '\\n========= MILBOOST RESULT ========='\n",
    "AUC = []\n",
    "ACCURACIE=[]\n",
    "for i in range(runs):\n",
    "    print '\\n run #'+ str(i)\n",
    "    bags,labels = shuffle(bags, labels, random_state=rand.randint(0, 100))\n",
    "    accuracie, results_accuracie, auc,results_auc, elapsed = mil_cross_val(bags=bags,labels=labels, model=milboost_classifier, folds=folds,parameters={}, timer=True)\n",
    "    print '\\n'+'AUC: ' + str(auc)+'\\n'+'Accuracie: '+ str(accuracie)+'\\n'+'Elapsed: '+ str(round(elapsed,2))\n",
    "    AUC.append(auc)\n",
    "    ACCURACIE.append(accuracie)\n",
    "print '\\n MEAN AUC: '+ str(np.mean(AUC)) + '\\n MEAN ACCURACIE: '+ str(np.mean(ACCURACIE))"
   ]
  },
  {
   "cell_type": "markdown",
   "metadata": {},
   "source": [
    "#### Miles"
   ]
  },
  {
   "cell_type": "code",
   "execution_count": null,
   "metadata": {
    "collapsed": true
   },
   "outputs": [],
   "source": [
    "#Pending"
   ]
  }
 ],
 "metadata": {
  "kernelspec": {
   "display_name": "Python 2",
   "language": "python",
   "name": "python2"
  },
  "language_info": {
   "codemirror_mode": {
    "name": "ipython",
    "version": 2
   },
   "file_extension": ".py",
   "mimetype": "text/x-python",
   "name": "python",
   "nbconvert_exporter": "python",
   "pygments_lexer": "ipython2",
   "version": "2.7.12"
  }
 },
 "nbformat": 4,
 "nbformat_minor": 0
}
