{
 "cells": [
  {
   "cell_type": "markdown",
   "metadata": {
    "id": "9Milce9fxVDh"
   },
   "source": [
    "# Práctica 3: Clasificación jerárquica\n",
    "\n",
    "## **Objetivo**: El objetivo de esta práctica es introducir los conceptos de clasificación jerárquica\n",
    "\n",
    "La práctica se ha realizado siguiendo la opción siguiente:\n",
    "\n",
    "**OPCIÓN 2: Comparación de métodos**\n",
    "\n",
    "Seleccione al menos dos algoritmos de los disponibles en la bibliotecas indicadas. Seleccione al menos tres problemas\n",
    "de clasificación jerárquica de los repositorios indicados.\n",
    "Realice las siguientes tareas:\n",
    "1. Aplique los algoritmos seleccionados a los datasets\n",
    "2. Compare los resultados y explique qué conclusiones se podrían obtener"
   ]
  },
  {
   "cell_type": "code",
   "execution_count": 32,
   "metadata": {
    "id": "diGfzSiCx1Ya"
   },
   "outputs": [],
   "source": [
    "from hiclass import LocalClassifierPerNode\n",
    "from sklearn.ensemble import RandomForestClassifier, AdaBoostClassifier, GradientBoostingClassifier\n",
    "from sklearn.metrics import accuracy_score, precision_score, recall_score, f1_score\n",
    "from hiclass import metrics\n",
    "import pandas as pd\n",
    "import arff"
   ]
  },
  {
   "cell_type": "code",
   "execution_count": 2,
   "metadata": {},
   "outputs": [],
   "source": [
    "# Establecer semilla para reproducibilidad\n",
    "SEED = 751"
   ]
  },
  {
   "cell_type": "markdown",
   "metadata": {},
   "source": [
    "### Preparación de datos\n",
    "\n",
    "Se van a utilizar los datasets facilitados en las diapositivas del tema de clasificación jerárquica:\n",
    "- [TEsHierarchicaldatasets](https://github.com/geantrindade/TEsHierarchicalDatasets)\n",
    "    - repbase\n",
    "    - mips\n",
    "- [lshtc](https://www.kaggle.com/competitions/lshtc/data): Large Scale Hierarchical Text Classification (LSHTC) Challenge.  El LSHTC Challenge es una competición de clasificación de textos jerárquicos que utiliza conjuntos de datos muy grandes.\n",
    "    - train - Training set\n",
    "    - test - Test set\n",
    "    - hierarchy - Wikipedia hierarchy\n",
    "    - AllZerosBenchmark - example submission file\n",
    "    - knn-baseline - A simple flat kNN baseline\n",
    "    - train-remapped, test-remapped - Training and Test sets reformatted per this forum thread\n",
    "\n",
    "\n",
    "\n",
    "Que son dos datasets preparados para aplicar clasificación jerárquica."
   ]
  },
  {
   "cell_type": "markdown",
   "metadata": {},
   "source": [
    "### TEsHierarchicalDatasets\n",
    "\n",
    "#### MIPS"
   ]
  },
  {
   "cell_type": "code",
   "execution_count": 4,
   "metadata": {},
   "outputs": [],
   "source": [
    "train_data_path = \"TEsHierarchicalDatasets/TEsHierarchicalDatasets-master/arff/mips1trainatt.arff\"\n",
    "test_data_path = \"TEsHierarchicalDatasets/TEsHierarchicalDatasets-master/arff/mips1testatt.arff\"\n",
    "\n",
    "# Cargar los datos de entrenamiento y prueba\n",
    "with open(train_data_path, 'r') as f:\n",
    "        train_MIPS = arff.load(f)\n",
    "\n",
    "with open(test_data_path, 'r') as f:\n",
    "        test_MIPS = arff.load(f)"
   ]
  },
  {
   "cell_type": "markdown",
   "metadata": {},
   "source": [
    "#### Extracción de datos"
   ]
  },
  {
   "cell_type": "code",
   "execution_count": 9,
   "metadata": {},
   "outputs": [
    {
     "name": "stdout",
     "output_type": "stream",
     "text": [
      "Classification\n",
      "[]\n",
      "[('AA', 'NUMERIC'), ('AT', 'NUMERIC'), ('AC', 'NUMERIC'), ('AG', 'NUMERIC'), ('TT', 'NUMERIC'), ('TA', 'NUMERIC'), ('TC', 'NUMERIC'), ('TG', 'NUMERIC'), ('CC', 'NUMERIC'), ('CA', 'NUMERIC'), ('CG', 'NUMERIC'), ('CT', 'NUMERIC'), ('GG', 'NUMERIC'), ('GA', 'NUMERIC'), ('GT', 'NUMERIC'), ('GC', 'NUMERIC'), ('AAA', 'NUMERIC'), ('AAT', 'NUMERIC'), ('AAC', 'NUMERIC'), ('AAG', 'NUMERIC'), ('ATA', 'NUMERIC'), ('ACA', 'NUMERIC'), ('AGA', 'NUMERIC'), ('ATT', 'NUMERIC'), ('ATC', 'NUMERIC'), ('ATG', 'NUMERIC'), ('ACC', 'NUMERIC'), ('ACT', 'NUMERIC'), ('ACG', 'NUMERIC'), ('AGG', 'NUMERIC'), ('AGC', 'NUMERIC'), ('AGT', 'NUMERIC'), ('CCC', 'NUMERIC'), ('CCT', 'NUMERIC'), ('CCA', 'NUMERIC'), ('CCG', 'NUMERIC'), ('CTC', 'NUMERIC'), ('CAC', 'NUMERIC'), ('CGC', 'NUMERIC'), ('CTT', 'NUMERIC'), ('CTA', 'NUMERIC'), ('CTG', 'NUMERIC'), ('CGG', 'NUMERIC'), ('CGA', 'NUMERIC'), ('CGT', 'NUMERIC'), ('CAA', 'NUMERIC'), ('CAT', 'NUMERIC'), ('CAG', 'NUMERIC'), ('GGG', 'NUMERIC'), ('GGT', 'NUMERIC'), ('GGA', 'NUMERIC'), ('GGC', 'NUMERIC'), ('GTG', 'NUMERIC'), ('GAG', 'NUMERIC'), ('GCG', 'NUMERIC'), ('GTT', 'NUMERIC'), ('GTA', 'NUMERIC'), ('GTC', 'NUMERIC'), ('GCC', 'NUMERIC'), ('GCA', 'NUMERIC'), ('GCT', 'NUMERIC'), ('GAA', 'NUMERIC'), ('GAT', 'NUMERIC'), ('GAC', 'NUMERIC'), ('TTT', 'NUMERIC'), ('TTA', 'NUMERIC'), ('TTC', 'NUMERIC'), ('TTG', 'NUMERIC'), ('TAT', 'NUMERIC'), ('TCT', 'NUMERIC'), ('TGT', 'NUMERIC'), ('TGG', 'NUMERIC'), ('TGA', 'NUMERIC'), ('TGC', 'NUMERIC'), ('TAA', 'NUMERIC'), ('TAC', 'NUMERIC'), ('TAG', 'NUMERIC'), ('TCC', 'NUMERIC'), ('TCA', 'NUMERIC'), ('TCG', 'NUMERIC'), ('AAAA', 'NUMERIC'), ('AAAT', 'NUMERIC'), ('AAAC', 'NUMERIC'), ('AAAG', 'NUMERIC'), ('AATA', 'NUMERIC'), ('AACA', 'NUMERIC'), ('AAGA', 'NUMERIC'), ('AATT', 'NUMERIC'), ('AATC', 'NUMERIC'), ('AATG', 'NUMERIC'), ('AACC', 'NUMERIC'), ('AACT', 'NUMERIC'), ('AACG', 'NUMERIC'), ('AAGG', 'NUMERIC'), ('AAGC', 'NUMERIC'), ('AAGT', 'NUMERIC'), ('ACCC', 'NUMERIC'), ('ACCT', 'NUMERIC'), ('ACCA', 'NUMERIC'), ('ACCG', 'NUMERIC'), ('ACTC', 'NUMERIC'), ('ACAC', 'NUMERIC'), ('ACGC', 'NUMERIC'), ('ACTT', 'NUMERIC'), ('ACTA', 'NUMERIC'), ('ACTG', 'NUMERIC'), ('ACGG', 'NUMERIC'), ('ACGA', 'NUMERIC'), ('ACGT', 'NUMERIC'), ('ACAA', 'NUMERIC'), ('ACAT', 'NUMERIC'), ('ACAG', 'NUMERIC'), ('AGGG', 'NUMERIC'), ('AGGT', 'NUMERIC'), ('AGGA', 'NUMERIC'), ('AGGC', 'NUMERIC'), ('AGTG', 'NUMERIC'), ('AGAG', 'NUMERIC'), ('AGCG', 'NUMERIC'), ('AGTT', 'NUMERIC'), ('AGTA', 'NUMERIC'), ('AGTC', 'NUMERIC'), ('AGCC', 'NUMERIC'), ('AGCA', 'NUMERIC'), ('AGCT', 'NUMERIC'), ('AGAA', 'NUMERIC'), ('AGAT', 'NUMERIC'), ('AGAC', 'NUMERIC'), ('ATTT', 'NUMERIC'), ('ATTA', 'NUMERIC'), ('ATTC', 'NUMERIC'), ('ATTG', 'NUMERIC'), ('ATAT', 'NUMERIC'), ('ATCT', 'NUMERIC'), ('ATGT', 'NUMERIC'), ('ATGG', 'NUMERIC'), ('ATGA', 'NUMERIC'), ('ATGC', 'NUMERIC'), ('ATAA', 'NUMERIC'), ('ATAC', 'NUMERIC'), ('ATAG', 'NUMERIC'), ('ATCC', 'NUMERIC'), ('ATCA', 'NUMERIC'), ('ATCG', 'NUMERIC'), ('CAAA', 'NUMERIC'), ('CAAT', 'NUMERIC'), ('CAAC', 'NUMERIC'), ('CAAG', 'NUMERIC'), ('CATA', 'NUMERIC'), ('CACA', 'NUMERIC'), ('CAGA', 'NUMERIC'), ('CATT', 'NUMERIC'), ('CATC', 'NUMERIC'), ('CATG', 'NUMERIC'), ('CACC', 'NUMERIC'), ('CACT', 'NUMERIC'), ('CACG', 'NUMERIC'), ('CAGG', 'NUMERIC'), ('CAGC', 'NUMERIC'), ('CAGT', 'NUMERIC'), ('CCCC', 'NUMERIC'), ('CCCT', 'NUMERIC'), ('CCCA', 'NUMERIC'), ('CCCG', 'NUMERIC'), ('CCTC', 'NUMERIC'), ('CCAC', 'NUMERIC'), ('CCGC', 'NUMERIC'), ('CCTT', 'NUMERIC'), ('CCTA', 'NUMERIC'), ('CCTG', 'NUMERIC'), ('CCGG', 'NUMERIC'), ('CCGA', 'NUMERIC'), ('CCGT', 'NUMERIC'), ('CCAA', 'NUMERIC'), ('CCAT', 'NUMERIC'), ('CCAG', 'NUMERIC'), ('CGGG', 'NUMERIC'), ('CGGT', 'NUMERIC'), ('CGGA', 'NUMERIC'), ('CGGC', 'NUMERIC'), ('CGTG', 'NUMERIC'), ('CGAG', 'NUMERIC'), ('CGCG', 'NUMERIC'), ('CGTT', 'NUMERIC'), ('CGTA', 'NUMERIC'), ('CGTC', 'NUMERIC'), ('CGCC', 'NUMERIC'), ('CGCA', 'NUMERIC'), ('CGCT', 'NUMERIC'), ('CGAA', 'NUMERIC'), ('CGAT', 'NUMERIC'), ('CGAC', 'NUMERIC'), ('CTTT', 'NUMERIC'), ('CTTA', 'NUMERIC'), ('CTTC', 'NUMERIC'), ('CTTG', 'NUMERIC'), ('CTAT', 'NUMERIC'), ('CTCT', 'NUMERIC'), ('CTGT', 'NUMERIC'), ('CTGG', 'NUMERIC'), ('CTGA', 'NUMERIC'), ('CTGC', 'NUMERIC'), ('CTAA', 'NUMERIC'), ('CTAC', 'NUMERIC'), ('CTAG', 'NUMERIC'), ('CTCC', 'NUMERIC'), ('CTCA', 'NUMERIC'), ('CTCG', 'NUMERIC'), ('GAAA', 'NUMERIC'), ('GAAT', 'NUMERIC'), ('GAAC', 'NUMERIC'), ('GAAG', 'NUMERIC'), ('GATA', 'NUMERIC'), ('GACA', 'NUMERIC'), ('GAGA', 'NUMERIC'), ('GATT', 'NUMERIC'), ('GATC', 'NUMERIC'), ('GATG', 'NUMERIC'), ('GACC', 'NUMERIC'), ('GACT', 'NUMERIC'), ('GACG', 'NUMERIC'), ('GAGG', 'NUMERIC'), ('GAGC', 'NUMERIC'), ('GAGT', 'NUMERIC'), ('GCCC', 'NUMERIC'), ('GCCT', 'NUMERIC'), ('GCCA', 'NUMERIC'), ('GCCG', 'NUMERIC'), ('GCTC', 'NUMERIC'), ('GCAC', 'NUMERIC'), ('GCGC', 'NUMERIC'), ('GCTT', 'NUMERIC'), ('GCTA', 'NUMERIC'), ('GCTG', 'NUMERIC'), ('GCGG', 'NUMERIC'), ('GCGA', 'NUMERIC'), ('GCGT', 'NUMERIC'), ('GCAA', 'NUMERIC'), ('GCAT', 'NUMERIC'), ('GCAG', 'NUMERIC'), ('GGGG', 'NUMERIC'), ('GGGT', 'NUMERIC'), ('GGGA', 'NUMERIC'), ('GGGC', 'NUMERIC'), ('GGTG', 'NUMERIC'), ('GGAG', 'NUMERIC'), ('GGCG', 'NUMERIC'), ('GGTT', 'NUMERIC'), ('GGTA', 'NUMERIC'), ('GGTC', 'NUMERIC'), ('GGCC', 'NUMERIC'), ('GGCA', 'NUMERIC'), ('GGCT', 'NUMERIC'), ('GGAA', 'NUMERIC'), ('GGAT', 'NUMERIC'), ('GGAC', 'NUMERIC'), ('GTTT', 'NUMERIC'), ('GTTA', 'NUMERIC'), ('GTTC', 'NUMERIC'), ('GTTG', 'NUMERIC'), ('GTAT', 'NUMERIC'), ('GTCT', 'NUMERIC'), ('GTGT', 'NUMERIC'), ('GTGG', 'NUMERIC'), ('GTGA', 'NUMERIC'), ('GTGC', 'NUMERIC'), ('GTAA', 'NUMERIC'), ('GTAC', 'NUMERIC'), ('GTAG', 'NUMERIC'), ('GTCC', 'NUMERIC'), ('GTCA', 'NUMERIC'), ('GTCG', 'NUMERIC'), ('TAAA', 'NUMERIC'), ('TAAT', 'NUMERIC'), ('TAAC', 'NUMERIC'), ('TAAG', 'NUMERIC'), ('TATA', 'NUMERIC'), ('TACA', 'NUMERIC'), ('TAGA', 'NUMERIC'), ('TATT', 'NUMERIC'), ('TATC', 'NUMERIC'), ('TATG', 'NUMERIC'), ('TACC', 'NUMERIC'), ('TACT', 'NUMERIC'), ('TACG', 'NUMERIC'), ('TAGG', 'NUMERIC'), ('TAGC', 'NUMERIC'), ('TAGT', 'NUMERIC'), ('TCCC', 'NUMERIC'), ('TCCT', 'NUMERIC'), ('TCCA', 'NUMERIC'), ('TCCG', 'NUMERIC'), ('TCTC', 'NUMERIC'), ('TCAC', 'NUMERIC'), ('TCGC', 'NUMERIC'), ('TCTT', 'NUMERIC'), ('TCTA', 'NUMERIC'), ('TCTG', 'NUMERIC'), ('TCGG', 'NUMERIC'), ('TCGA', 'NUMERIC'), ('TCGT', 'NUMERIC'), ('TCAA', 'NUMERIC'), ('TCAT', 'NUMERIC'), ('TCAG', 'NUMERIC'), ('TGGG', 'NUMERIC'), ('TGGT', 'NUMERIC'), ('TGGA', 'NUMERIC'), ('TGGC', 'NUMERIC'), ('TGTG', 'NUMERIC'), ('TGAG', 'NUMERIC'), ('TGCG', 'NUMERIC'), ('TGTT', 'NUMERIC'), ('TGTA', 'NUMERIC'), ('TGTC', 'NUMERIC'), ('TGCC', 'NUMERIC'), ('TGCA', 'NUMERIC'), ('TGCT', 'NUMERIC'), ('TGAA', 'NUMERIC'), ('TGAT', 'NUMERIC'), ('TGAC', 'NUMERIC'), ('TTTT', 'NUMERIC'), ('TTTA', 'NUMERIC'), ('TTTC', 'NUMERIC'), ('TTTG', 'NUMERIC'), ('TTAT', 'NUMERIC'), ('TTCT', 'NUMERIC'), ('TTGT', 'NUMERIC'), ('TTGG', 'NUMERIC'), ('TTGA', 'NUMERIC'), ('TTGC', 'NUMERIC'), ('TTAA', 'NUMERIC'), ('TTAC', 'NUMERIC'), ('TTAG', 'NUMERIC'), ('TTCC', 'NUMERIC'), ('TTCA', 'NUMERIC'), ('TTCG', 'NUMERIC'), ('classification_hierarchical', ['1', '1/1', '1/1/1', '1/1/2', '1/4', '1/5', '2', '2/1', '2/1/1', '2/1/1/1', '2/1/1/2', '2/1/1/3', '2/1/1/8', '2/1/1/9'])]\n"
     ]
    }
   ],
   "source": [
    "# Train\n",
    "train_MIPS_metadata = train_MIPS.get('attributes', [])\n",
    "train_MIPS_data = train_MIPS.get('data', [])\n",
    "train_MIPS_classification = train_MIPS.get('classification_hierarchical', [])\n",
    "\n",
    "print('Classification')\n",
    "print(train_MIPS_classification)\n",
    "print(train_MIPS_metadata)\n",
    "df_train_MIPS = pd.DataFrame(train_MIPS_data, columns=[attr[0] for attr in train_MIPS_metadata])\n",
    "\n",
    "# Test\n",
    "test_MIPS_metadata = test_MIPS.get('attributes', [])\n",
    "test_MIPS_data = test_MIPS.get('data', [])\n",
    "test_MIPS_classification = test_MIPS.get('classification_hierarchical', [])\n",
    "df_test_MIPS = pd.DataFrame(test_MIPS_data, columns=[attr[0] for attr in test_MIPS_metadata])"
   ]
  },
  {
   "cell_type": "markdown",
   "metadata": {},
   "source": [
    "#### Separación de atributos y etiqueta (X e y)"
   ]
  },
  {
   "cell_type": "code",
   "execution_count": 24,
   "metadata": {},
   "outputs": [],
   "source": [
    "X_train_MIPS =df_train_MIPS[df_train_MIPS.columns[:-1]]\n",
    "y_train_MIPS =df_train_MIPS[df_train_MIPS.columns[-1]]\n",
    "y_train_MIPS = pd.DataFrame(y_train_MIPS)\n",
    "\n",
    "X_test_MIPS =df_test_MIPS[df_train_MIPS.columns[:-1]]\n",
    "y_test_MIPS =df_test_MIPS[df_train_MIPS.columns[-1]]\n",
    "y_test_MIPS = pd.DataFrame(y_test_MIPS)"
   ]
  },
  {
   "cell_type": "markdown",
   "metadata": {},
   "source": [
    "#### Jerarquía"
   ]
  },
  {
   "cell_type": "code",
   "execution_count": 25,
   "metadata": {},
   "outputs": [
    {
     "name": "stdout",
     "output_type": "stream",
     "text": [
      "columns y_train Index(['level1', 'level2', 'level3', 'level4'], dtype='object')\n"
     ]
    },
    {
     "data": {
      "text/html": [
       "<div>\n",
       "<style scoped>\n",
       "    .dataframe tbody tr th:only-of-type {\n",
       "        vertical-align: middle;\n",
       "    }\n",
       "\n",
       "    .dataframe tbody tr th {\n",
       "        vertical-align: top;\n",
       "    }\n",
       "\n",
       "    .dataframe thead th {\n",
       "        text-align: right;\n",
       "    }\n",
       "</style>\n",
       "<table border=\"1\" class=\"dataframe\">\n",
       "  <thead>\n",
       "    <tr style=\"text-align: right;\">\n",
       "      <th></th>\n",
       "      <th>level1</th>\n",
       "      <th>level2</th>\n",
       "      <th>level3</th>\n",
       "      <th>level4</th>\n",
       "    </tr>\n",
       "  </thead>\n",
       "  <tbody>\n",
       "    <tr>\n",
       "      <th>0</th>\n",
       "      <td>1</td>\n",
       "      <td>4</td>\n",
       "      <td>None</td>\n",
       "      <td>None</td>\n",
       "    </tr>\n",
       "    <tr>\n",
       "      <th>1</th>\n",
       "      <td>1</td>\n",
       "      <td>4</td>\n",
       "      <td>None</td>\n",
       "      <td>None</td>\n",
       "    </tr>\n",
       "    <tr>\n",
       "      <th>2</th>\n",
       "      <td>1</td>\n",
       "      <td>4</td>\n",
       "      <td>None</td>\n",
       "      <td>None</td>\n",
       "    </tr>\n",
       "    <tr>\n",
       "      <th>3</th>\n",
       "      <td>1</td>\n",
       "      <td>4</td>\n",
       "      <td>None</td>\n",
       "      <td>None</td>\n",
       "    </tr>\n",
       "    <tr>\n",
       "      <th>4</th>\n",
       "      <td>1</td>\n",
       "      <td>4</td>\n",
       "      <td>None</td>\n",
       "      <td>None</td>\n",
       "    </tr>\n",
       "    <tr>\n",
       "      <th>...</th>\n",
       "      <td>...</td>\n",
       "      <td>...</td>\n",
       "      <td>...</td>\n",
       "      <td>...</td>\n",
       "    </tr>\n",
       "    <tr>\n",
       "      <th>16800</th>\n",
       "      <td>2</td>\n",
       "      <td>1</td>\n",
       "      <td>None</td>\n",
       "      <td>None</td>\n",
       "    </tr>\n",
       "    <tr>\n",
       "      <th>16801</th>\n",
       "      <td>2</td>\n",
       "      <td>1</td>\n",
       "      <td>None</td>\n",
       "      <td>None</td>\n",
       "    </tr>\n",
       "    <tr>\n",
       "      <th>16802</th>\n",
       "      <td>2</td>\n",
       "      <td>1</td>\n",
       "      <td>None</td>\n",
       "      <td>None</td>\n",
       "    </tr>\n",
       "    <tr>\n",
       "      <th>16803</th>\n",
       "      <td>2</td>\n",
       "      <td>1</td>\n",
       "      <td>1</td>\n",
       "      <td>2</td>\n",
       "    </tr>\n",
       "    <tr>\n",
       "      <th>16804</th>\n",
       "      <td>2</td>\n",
       "      <td>1</td>\n",
       "      <td>1</td>\n",
       "      <td>3</td>\n",
       "    </tr>\n",
       "  </tbody>\n",
       "</table>\n",
       "<p>16805 rows × 4 columns</p>\n",
       "</div>"
      ],
      "text/plain": [
       "      level1 level2 level3 level4\n",
       "0          1      4   None   None\n",
       "1          1      4   None   None\n",
       "2          1      4   None   None\n",
       "3          1      4   None   None\n",
       "4          1      4   None   None\n",
       "...      ...    ...    ...    ...\n",
       "16800      2      1   None   None\n",
       "16801      2      1   None   None\n",
       "16802      2      1   None   None\n",
       "16803      2      1      1      2\n",
       "16804      2      1      1      3\n",
       "\n",
       "[16805 rows x 4 columns]"
      ]
     },
     "execution_count": 25,
     "metadata": {},
     "output_type": "execute_result"
    }
   ],
   "source": [
    "y_train_MIPS[['level1', 'level2', 'level3','level4']] = y_train_MIPS['classification_hierarchical'].str.split('/', expand=True)\n",
    "y_train_MIPS = y_train_MIPS.drop('classification_hierarchical', axis=1)\n",
    "print('columns y_train',y_train_MIPS.columns)\n",
    "y_train_MIPS"
   ]
  },
  {
   "cell_type": "code",
   "execution_count": 28,
   "metadata": {},
   "outputs": [
    {
     "name": "stdout",
     "output_type": "stream",
     "text": [
      "columns y_test Index(['level1', 'level2', 'level3', 'level4'], dtype='object')\n"
     ]
    },
    {
     "data": {
      "text/html": [
       "<div>\n",
       "<style scoped>\n",
       "    .dataframe tbody tr th:only-of-type {\n",
       "        vertical-align: middle;\n",
       "    }\n",
       "\n",
       "    .dataframe tbody tr th {\n",
       "        vertical-align: top;\n",
       "    }\n",
       "\n",
       "    .dataframe thead th {\n",
       "        text-align: right;\n",
       "    }\n",
       "</style>\n",
       "<table border=\"1\" class=\"dataframe\">\n",
       "  <thead>\n",
       "    <tr style=\"text-align: right;\">\n",
       "      <th></th>\n",
       "      <th>level1</th>\n",
       "      <th>level2</th>\n",
       "      <th>level3</th>\n",
       "      <th>level4</th>\n",
       "    </tr>\n",
       "  </thead>\n",
       "  <tbody>\n",
       "    <tr>\n",
       "      <th>0</th>\n",
       "      <td>1</td>\n",
       "      <td>4</td>\n",
       "      <td>None</td>\n",
       "      <td>None</td>\n",
       "    </tr>\n",
       "    <tr>\n",
       "      <th>1</th>\n",
       "      <td>1</td>\n",
       "      <td>4</td>\n",
       "      <td>None</td>\n",
       "      <td>None</td>\n",
       "    </tr>\n",
       "    <tr>\n",
       "      <th>2</th>\n",
       "      <td>1</td>\n",
       "      <td>4</td>\n",
       "      <td>None</td>\n",
       "      <td>None</td>\n",
       "    </tr>\n",
       "    <tr>\n",
       "      <th>3</th>\n",
       "      <td>1</td>\n",
       "      <td>4</td>\n",
       "      <td>None</td>\n",
       "      <td>None</td>\n",
       "    </tr>\n",
       "    <tr>\n",
       "      <th>4</th>\n",
       "      <td>1</td>\n",
       "      <td>4</td>\n",
       "      <td>None</td>\n",
       "      <td>None</td>\n",
       "    </tr>\n",
       "    <tr>\n",
       "      <th>...</th>\n",
       "      <td>...</td>\n",
       "      <td>...</td>\n",
       "      <td>...</td>\n",
       "      <td>...</td>\n",
       "    </tr>\n",
       "    <tr>\n",
       "      <th>1868</th>\n",
       "      <td>2</td>\n",
       "      <td>1</td>\n",
       "      <td>1</td>\n",
       "      <td>9</td>\n",
       "    </tr>\n",
       "    <tr>\n",
       "      <th>1869</th>\n",
       "      <td>2</td>\n",
       "      <td>1</td>\n",
       "      <td>None</td>\n",
       "      <td>None</td>\n",
       "    </tr>\n",
       "    <tr>\n",
       "      <th>1870</th>\n",
       "      <td>2</td>\n",
       "      <td>1</td>\n",
       "      <td>None</td>\n",
       "      <td>None</td>\n",
       "    </tr>\n",
       "    <tr>\n",
       "      <th>1871</th>\n",
       "      <td>2</td>\n",
       "      <td>1</td>\n",
       "      <td>None</td>\n",
       "      <td>None</td>\n",
       "    </tr>\n",
       "    <tr>\n",
       "      <th>1872</th>\n",
       "      <td>2</td>\n",
       "      <td>1</td>\n",
       "      <td>None</td>\n",
       "      <td>None</td>\n",
       "    </tr>\n",
       "  </tbody>\n",
       "</table>\n",
       "<p>1873 rows × 4 columns</p>\n",
       "</div>"
      ],
      "text/plain": [
       "     level1 level2 level3 level4\n",
       "0         1      4   None   None\n",
       "1         1      4   None   None\n",
       "2         1      4   None   None\n",
       "3         1      4   None   None\n",
       "4         1      4   None   None\n",
       "...     ...    ...    ...    ...\n",
       "1868      2      1      1      9\n",
       "1869      2      1   None   None\n",
       "1870      2      1   None   None\n",
       "1871      2      1   None   None\n",
       "1872      2      1   None   None\n",
       "\n",
       "[1873 rows x 4 columns]"
      ]
     },
     "execution_count": 28,
     "metadata": {},
     "output_type": "execute_result"
    }
   ],
   "source": [
    "y_test_MIPS[['level1', 'level2', 'level3','level4']] = y_test_MIPS['classification_hierarchical'].str.split('/', expand=True)\n",
    "y_test_MIPS = y_test_MIPS.drop('classification_hierarchical', axis=1)\n",
    "print('columns y_test',y_test_MIPS.columns)\n",
    "y_test_MIPS"
   ]
  },
  {
   "cell_type": "markdown",
   "metadata": {},
   "source": [
    "### REPBASE"
   ]
  },
  {
   "cell_type": "code",
   "execution_count": 5,
   "metadata": {},
   "outputs": [],
   "source": [
    "train_data_path = \"TEsHierarchicalDatasets/TEsHierarchicalDatasets-master/arff/repbase1trainatt.arff\"\n",
    "test_data_path = \"TEsHierarchicalDatasets/TEsHierarchicalDatasets-master/arff/repbase1testatt.arff\"\n",
    "\n",
    "# Cargar los datos de entrenamiento y prueba\n",
    "with open(train_data_path, 'r') as f:\n",
    "    train_REPBASE = arff.load(f)\n",
    "\n",
    "with open(test_data_path, 'r') as f:\n",
    "    test_REPBASE = arff.load(f)"
   ]
  },
  {
   "cell_type": "markdown",
   "metadata": {},
   "source": [
    "#### Extracción de Datos"
   ]
  },
  {
   "cell_type": "code",
   "execution_count": 12,
   "metadata": {},
   "outputs": [
    {
     "name": "stdout",
     "output_type": "stream",
     "text": [
      "Classification\n",
      "[]\n",
      "[('AA', 'NUMERIC'), ('AT', 'NUMERIC'), ('AC', 'NUMERIC'), ('AG', 'NUMERIC'), ('TT', 'NUMERIC'), ('TA', 'NUMERIC'), ('TC', 'NUMERIC'), ('TG', 'NUMERIC'), ('CC', 'NUMERIC'), ('CA', 'NUMERIC'), ('CG', 'NUMERIC'), ('CT', 'NUMERIC'), ('GG', 'NUMERIC'), ('GA', 'NUMERIC'), ('GT', 'NUMERIC'), ('GC', 'NUMERIC'), ('AAA', 'NUMERIC'), ('AAT', 'NUMERIC'), ('AAC', 'NUMERIC'), ('AAG', 'NUMERIC'), ('ATA', 'NUMERIC'), ('ACA', 'NUMERIC'), ('AGA', 'NUMERIC'), ('ATT', 'NUMERIC'), ('ATC', 'NUMERIC'), ('ATG', 'NUMERIC'), ('ACC', 'NUMERIC'), ('ACT', 'NUMERIC'), ('ACG', 'NUMERIC'), ('AGG', 'NUMERIC'), ('AGC', 'NUMERIC'), ('AGT', 'NUMERIC'), ('CCC', 'NUMERIC'), ('CCT', 'NUMERIC'), ('CCA', 'NUMERIC'), ('CCG', 'NUMERIC'), ('CTC', 'NUMERIC'), ('CAC', 'NUMERIC'), ('CGC', 'NUMERIC'), ('CTT', 'NUMERIC'), ('CTA', 'NUMERIC'), ('CTG', 'NUMERIC'), ('CGG', 'NUMERIC'), ('CGA', 'NUMERIC'), ('CGT', 'NUMERIC'), ('CAA', 'NUMERIC'), ('CAT', 'NUMERIC'), ('CAG', 'NUMERIC'), ('GGG', 'NUMERIC'), ('GGT', 'NUMERIC'), ('GGA', 'NUMERIC'), ('GGC', 'NUMERIC'), ('GTG', 'NUMERIC'), ('GAG', 'NUMERIC'), ('GCG', 'NUMERIC'), ('GTT', 'NUMERIC'), ('GTA', 'NUMERIC'), ('GTC', 'NUMERIC'), ('GCC', 'NUMERIC'), ('GCA', 'NUMERIC'), ('GCT', 'NUMERIC'), ('GAA', 'NUMERIC'), ('GAT', 'NUMERIC'), ('GAC', 'NUMERIC'), ('TTT', 'NUMERIC'), ('TTA', 'NUMERIC'), ('TTC', 'NUMERIC'), ('TTG', 'NUMERIC'), ('TAT', 'NUMERIC'), ('TCT', 'NUMERIC'), ('TGT', 'NUMERIC'), ('TGG', 'NUMERIC'), ('TGA', 'NUMERIC'), ('TGC', 'NUMERIC'), ('TAA', 'NUMERIC'), ('TAC', 'NUMERIC'), ('TAG', 'NUMERIC'), ('TCC', 'NUMERIC'), ('TCA', 'NUMERIC'), ('TCG', 'NUMERIC'), ('AAAA', 'NUMERIC'), ('AAAT', 'NUMERIC'), ('AAAC', 'NUMERIC'), ('AAAG', 'NUMERIC'), ('AATA', 'NUMERIC'), ('AACA', 'NUMERIC'), ('AAGA', 'NUMERIC'), ('AATT', 'NUMERIC'), ('AATC', 'NUMERIC'), ('AATG', 'NUMERIC'), ('AACC', 'NUMERIC'), ('AACT', 'NUMERIC'), ('AACG', 'NUMERIC'), ('AAGG', 'NUMERIC'), ('AAGC', 'NUMERIC'), ('AAGT', 'NUMERIC'), ('ACCC', 'NUMERIC'), ('ACCT', 'NUMERIC'), ('ACCA', 'NUMERIC'), ('ACCG', 'NUMERIC'), ('ACTC', 'NUMERIC'), ('ACAC', 'NUMERIC'), ('ACGC', 'NUMERIC'), ('ACTT', 'NUMERIC'), ('ACTA', 'NUMERIC'), ('ACTG', 'NUMERIC'), ('ACGG', 'NUMERIC'), ('ACGA', 'NUMERIC'), ('ACGT', 'NUMERIC'), ('ACAA', 'NUMERIC'), ('ACAT', 'NUMERIC'), ('ACAG', 'NUMERIC'), ('AGGG', 'NUMERIC'), ('AGGT', 'NUMERIC'), ('AGGA', 'NUMERIC'), ('AGGC', 'NUMERIC'), ('AGTG', 'NUMERIC'), ('AGAG', 'NUMERIC'), ('AGCG', 'NUMERIC'), ('AGTT', 'NUMERIC'), ('AGTA', 'NUMERIC'), ('AGTC', 'NUMERIC'), ('AGCC', 'NUMERIC'), ('AGCA', 'NUMERIC'), ('AGCT', 'NUMERIC'), ('AGAA', 'NUMERIC'), ('AGAT', 'NUMERIC'), ('AGAC', 'NUMERIC'), ('ATTT', 'NUMERIC'), ('ATTA', 'NUMERIC'), ('ATTC', 'NUMERIC'), ('ATTG', 'NUMERIC'), ('ATAT', 'NUMERIC'), ('ATCT', 'NUMERIC'), ('ATGT', 'NUMERIC'), ('ATGG', 'NUMERIC'), ('ATGA', 'NUMERIC'), ('ATGC', 'NUMERIC'), ('ATAA', 'NUMERIC'), ('ATAC', 'NUMERIC'), ('ATAG', 'NUMERIC'), ('ATCC', 'NUMERIC'), ('ATCA', 'NUMERIC'), ('ATCG', 'NUMERIC'), ('CAAA', 'NUMERIC'), ('CAAT', 'NUMERIC'), ('CAAC', 'NUMERIC'), ('CAAG', 'NUMERIC'), ('CATA', 'NUMERIC'), ('CACA', 'NUMERIC'), ('CAGA', 'NUMERIC'), ('CATT', 'NUMERIC'), ('CATC', 'NUMERIC'), ('CATG', 'NUMERIC'), ('CACC', 'NUMERIC'), ('CACT', 'NUMERIC'), ('CACG', 'NUMERIC'), ('CAGG', 'NUMERIC'), ('CAGC', 'NUMERIC'), ('CAGT', 'NUMERIC'), ('CCCC', 'NUMERIC'), ('CCCT', 'NUMERIC'), ('CCCA', 'NUMERIC'), ('CCCG', 'NUMERIC'), ('CCTC', 'NUMERIC'), ('CCAC', 'NUMERIC'), ('CCGC', 'NUMERIC'), ('CCTT', 'NUMERIC'), ('CCTA', 'NUMERIC'), ('CCTG', 'NUMERIC'), ('CCGG', 'NUMERIC'), ('CCGA', 'NUMERIC'), ('CCGT', 'NUMERIC'), ('CCAA', 'NUMERIC'), ('CCAT', 'NUMERIC'), ('CCAG', 'NUMERIC'), ('CGGG', 'NUMERIC'), ('CGGT', 'NUMERIC'), ('CGGA', 'NUMERIC'), ('CGGC', 'NUMERIC'), ('CGTG', 'NUMERIC'), ('CGAG', 'NUMERIC'), ('CGCG', 'NUMERIC'), ('CGTT', 'NUMERIC'), ('CGTA', 'NUMERIC'), ('CGTC', 'NUMERIC'), ('CGCC', 'NUMERIC'), ('CGCA', 'NUMERIC'), ('CGCT', 'NUMERIC'), ('CGAA', 'NUMERIC'), ('CGAT', 'NUMERIC'), ('CGAC', 'NUMERIC'), ('CTTT', 'NUMERIC'), ('CTTA', 'NUMERIC'), ('CTTC', 'NUMERIC'), ('CTTG', 'NUMERIC'), ('CTAT', 'NUMERIC'), ('CTCT', 'NUMERIC'), ('CTGT', 'NUMERIC'), ('CTGG', 'NUMERIC'), ('CTGA', 'NUMERIC'), ('CTGC', 'NUMERIC'), ('CTAA', 'NUMERIC'), ('CTAC', 'NUMERIC'), ('CTAG', 'NUMERIC'), ('CTCC', 'NUMERIC'), ('CTCA', 'NUMERIC'), ('CTCG', 'NUMERIC'), ('GAAA', 'NUMERIC'), ('GAAT', 'NUMERIC'), ('GAAC', 'NUMERIC'), ('GAAG', 'NUMERIC'), ('GATA', 'NUMERIC'), ('GACA', 'NUMERIC'), ('GAGA', 'NUMERIC'), ('GATT', 'NUMERIC'), ('GATC', 'NUMERIC'), ('GATG', 'NUMERIC'), ('GACC', 'NUMERIC'), ('GACT', 'NUMERIC'), ('GACG', 'NUMERIC'), ('GAGG', 'NUMERIC'), ('GAGC', 'NUMERIC'), ('GAGT', 'NUMERIC'), ('GCCC', 'NUMERIC'), ('GCCT', 'NUMERIC'), ('GCCA', 'NUMERIC'), ('GCCG', 'NUMERIC'), ('GCTC', 'NUMERIC'), ('GCAC', 'NUMERIC'), ('GCGC', 'NUMERIC'), ('GCTT', 'NUMERIC'), ('GCTA', 'NUMERIC'), ('GCTG', 'NUMERIC'), ('GCGG', 'NUMERIC'), ('GCGA', 'NUMERIC'), ('GCGT', 'NUMERIC'), ('GCAA', 'NUMERIC'), ('GCAT', 'NUMERIC'), ('GCAG', 'NUMERIC'), ('GGGG', 'NUMERIC'), ('GGGT', 'NUMERIC'), ('GGGA', 'NUMERIC'), ('GGGC', 'NUMERIC'), ('GGTG', 'NUMERIC'), ('GGAG', 'NUMERIC'), ('GGCG', 'NUMERIC'), ('GGTT', 'NUMERIC'), ('GGTA', 'NUMERIC'), ('GGTC', 'NUMERIC'), ('GGCC', 'NUMERIC'), ('GGCA', 'NUMERIC'), ('GGCT', 'NUMERIC'), ('GGAA', 'NUMERIC'), ('GGAT', 'NUMERIC'), ('GGAC', 'NUMERIC'), ('GTTT', 'NUMERIC'), ('GTTA', 'NUMERIC'), ('GTTC', 'NUMERIC'), ('GTTG', 'NUMERIC'), ('GTAT', 'NUMERIC'), ('GTCT', 'NUMERIC'), ('GTGT', 'NUMERIC'), ('GTGG', 'NUMERIC'), ('GTGA', 'NUMERIC'), ('GTGC', 'NUMERIC'), ('GTAA', 'NUMERIC'), ('GTAC', 'NUMERIC'), ('GTAG', 'NUMERIC'), ('GTCC', 'NUMERIC'), ('GTCA', 'NUMERIC'), ('GTCG', 'NUMERIC'), ('TAAA', 'NUMERIC'), ('TAAT', 'NUMERIC'), ('TAAC', 'NUMERIC'), ('TAAG', 'NUMERIC'), ('TATA', 'NUMERIC'), ('TACA', 'NUMERIC'), ('TAGA', 'NUMERIC'), ('TATT', 'NUMERIC'), ('TATC', 'NUMERIC'), ('TATG', 'NUMERIC'), ('TACC', 'NUMERIC'), ('TACT', 'NUMERIC'), ('TACG', 'NUMERIC'), ('TAGG', 'NUMERIC'), ('TAGC', 'NUMERIC'), ('TAGT', 'NUMERIC'), ('TCCC', 'NUMERIC'), ('TCCT', 'NUMERIC'), ('TCCA', 'NUMERIC'), ('TCCG', 'NUMERIC'), ('TCTC', 'NUMERIC'), ('TCAC', 'NUMERIC'), ('TCGC', 'NUMERIC'), ('TCTT', 'NUMERIC'), ('TCTA', 'NUMERIC'), ('TCTG', 'NUMERIC'), ('TCGG', 'NUMERIC'), ('TCGA', 'NUMERIC'), ('TCGT', 'NUMERIC'), ('TCAA', 'NUMERIC'), ('TCAT', 'NUMERIC'), ('TCAG', 'NUMERIC'), ('TGGG', 'NUMERIC'), ('TGGT', 'NUMERIC'), ('TGGA', 'NUMERIC'), ('TGGC', 'NUMERIC'), ('TGTG', 'NUMERIC'), ('TGAG', 'NUMERIC'), ('TGCG', 'NUMERIC'), ('TGTT', 'NUMERIC'), ('TGTA', 'NUMERIC'), ('TGTC', 'NUMERIC'), ('TGCC', 'NUMERIC'), ('TGCA', 'NUMERIC'), ('TGCT', 'NUMERIC'), ('TGAA', 'NUMERIC'), ('TGAT', 'NUMERIC'), ('TGAC', 'NUMERIC'), ('TTTT', 'NUMERIC'), ('TTTA', 'NUMERIC'), ('TTTC', 'NUMERIC'), ('TTTG', 'NUMERIC'), ('TTAT', 'NUMERIC'), ('TTCT', 'NUMERIC'), ('TTGT', 'NUMERIC'), ('TTGG', 'NUMERIC'), ('TTGA', 'NUMERIC'), ('TTGC', 'NUMERIC'), ('TTAA', 'NUMERIC'), ('TTAC', 'NUMERIC'), ('TTAG', 'NUMERIC'), ('TTCC', 'NUMERIC'), ('TTCA', 'NUMERIC'), ('TTCG', 'NUMERIC'), ('classification_hierarchical', ['1', '1/1', '1/1/1', '1/1/2', '1/1/3', '1/1/5', '1/2', '1/3', '1/3/1', '1/4', '1/4/1', '1/4/2', '1/4/3', '1/4/4', '1/4/5', '1/5', '1/5/1', '1/5/2', '1/5/3', '2', '2/1', '2/1/1', '2/1/1/1', '2/1/1/2', '2/1/1/3', '2/1/1/4', '2/1/1/5', '2/1/1/6', '2/1/1/7', '2/1/1/8', '2/1/1/9'])]\n"
     ]
    }
   ],
   "source": [
    "# Train\n",
    "train_REPBASE_metadata = train_REPBASE.get('attributes', [])\n",
    "train_REPBASE_data = train_REPBASE.get('data', [])\n",
    "train_REPBASE_classification = train_REPBASE.get('classification_hierarchical', [])\n",
    "\n",
    "print('Classification')\n",
    "print(train_REPBASE_classification)\n",
    "print(train_REPBASE_metadata)\n",
    "df_train_REPBASE = pd.DataFrame(train_REPBASE_data, columns=[attr[0] for attr in train_REPBASE_metadata])\n",
    "\n",
    "# Test\n",
    "test_REPBASE_metadata = test_REPBASE.get('attributes', [])\n",
    "test_REPBASE_data = test_REPBASE.get('data', [])\n",
    "test_REPBASE_classification = test_REPBASE.get('classification_hierarchical', [])\n",
    "df_test_REPBASE = pd.DataFrame(test_REPBASE_data, columns=[attr[0] for attr in test_REPBASE_metadata])"
   ]
  },
  {
   "cell_type": "markdown",
   "metadata": {},
   "source": [
    "#### Separación de atributos y etiqueta (X e y)"
   ]
  },
  {
   "cell_type": "code",
   "execution_count": 14,
   "metadata": {},
   "outputs": [],
   "source": [
    "X_train_REPBASE =df_train_REPBASE[df_train_REPBASE.columns[:-1]]\n",
    "y_train_REPBASE =df_train_REPBASE[df_train_REPBASE.columns[-1]]\n",
    "y_train_REPBASE = pd.DataFrame(y_train_REPBASE)\n",
    "\n",
    "X_test_REPBASE =df_test_REPBASE[df_train_REPBASE.columns[:-1]]\n",
    "y_test_REPBASE =df_test_REPBASE[df_train_REPBASE.columns[-1]]\n",
    "y_test_REPBASE = pd.DataFrame(y_test_REPBASE)"
   ]
  },
  {
   "cell_type": "markdown",
   "metadata": {},
   "source": [
    "#### Jerarquía"
   ]
  },
  {
   "cell_type": "code",
   "execution_count": 26,
   "metadata": {},
   "outputs": [
    {
     "name": "stdout",
     "output_type": "stream",
     "text": [
      "columns y_train Index(['level1', 'level2', 'level3', 'level4'], dtype='object')\n"
     ]
    },
    {
     "data": {
      "text/html": [
       "<div>\n",
       "<style scoped>\n",
       "    .dataframe tbody tr th:only-of-type {\n",
       "        vertical-align: middle;\n",
       "    }\n",
       "\n",
       "    .dataframe tbody tr th {\n",
       "        vertical-align: top;\n",
       "    }\n",
       "\n",
       "    .dataframe thead th {\n",
       "        text-align: right;\n",
       "    }\n",
       "</style>\n",
       "<table border=\"1\" class=\"dataframe\">\n",
       "  <thead>\n",
       "    <tr style=\"text-align: right;\">\n",
       "      <th></th>\n",
       "      <th>level1</th>\n",
       "      <th>level2</th>\n",
       "      <th>level3</th>\n",
       "      <th>level4</th>\n",
       "    </tr>\n",
       "  </thead>\n",
       "  <tbody>\n",
       "    <tr>\n",
       "      <th>0</th>\n",
       "      <td>1</td>\n",
       "      <td>4</td>\n",
       "      <td>3</td>\n",
       "      <td>None</td>\n",
       "    </tr>\n",
       "    <tr>\n",
       "      <th>1</th>\n",
       "      <td>1</td>\n",
       "      <td>4</td>\n",
       "      <td>3</td>\n",
       "      <td>None</td>\n",
       "    </tr>\n",
       "    <tr>\n",
       "      <th>2</th>\n",
       "      <td>1</td>\n",
       "      <td>4</td>\n",
       "      <td>3</td>\n",
       "      <td>None</td>\n",
       "    </tr>\n",
       "    <tr>\n",
       "      <th>3</th>\n",
       "      <td>1</td>\n",
       "      <td>4</td>\n",
       "      <td>3</td>\n",
       "      <td>None</td>\n",
       "    </tr>\n",
       "    <tr>\n",
       "      <th>4</th>\n",
       "      <td>1</td>\n",
       "      <td>4</td>\n",
       "      <td>3</td>\n",
       "      <td>None</td>\n",
       "    </tr>\n",
       "    <tr>\n",
       "      <th>...</th>\n",
       "      <td>...</td>\n",
       "      <td>...</td>\n",
       "      <td>...</td>\n",
       "      <td>...</td>\n",
       "    </tr>\n",
       "    <tr>\n",
       "      <th>31086</th>\n",
       "      <td>1</td>\n",
       "      <td>1</td>\n",
       "      <td>1</td>\n",
       "      <td>None</td>\n",
       "    </tr>\n",
       "    <tr>\n",
       "      <th>31087</th>\n",
       "      <td>1</td>\n",
       "      <td>1</td>\n",
       "      <td>1</td>\n",
       "      <td>None</td>\n",
       "    </tr>\n",
       "    <tr>\n",
       "      <th>31088</th>\n",
       "      <td>1</td>\n",
       "      <td>1</td>\n",
       "      <td>1</td>\n",
       "      <td>None</td>\n",
       "    </tr>\n",
       "    <tr>\n",
       "      <th>31089</th>\n",
       "      <td>1</td>\n",
       "      <td>1</td>\n",
       "      <td>1</td>\n",
       "      <td>None</td>\n",
       "    </tr>\n",
       "    <tr>\n",
       "      <th>31090</th>\n",
       "      <td>1</td>\n",
       "      <td>1</td>\n",
       "      <td>2</td>\n",
       "      <td>None</td>\n",
       "    </tr>\n",
       "  </tbody>\n",
       "</table>\n",
       "<p>31091 rows × 4 columns</p>\n",
       "</div>"
      ],
      "text/plain": [
       "      level1 level2 level3 level4\n",
       "0          1      4      3   None\n",
       "1          1      4      3   None\n",
       "2          1      4      3   None\n",
       "3          1      4      3   None\n",
       "4          1      4      3   None\n",
       "...      ...    ...    ...    ...\n",
       "31086      1      1      1   None\n",
       "31087      1      1      1   None\n",
       "31088      1      1      1   None\n",
       "31089      1      1      1   None\n",
       "31090      1      1      2   None\n",
       "\n",
       "[31091 rows x 4 columns]"
      ]
     },
     "execution_count": 26,
     "metadata": {},
     "output_type": "execute_result"
    }
   ],
   "source": [
    "y_train_REPBASE[['level1', 'level2', 'level3','level4']] = y_train_REPBASE['classification_hierarchical'].str.split('/', expand=True)\n",
    "y_train_REPBASE = y_train_REPBASE.drop('classification_hierarchical', axis=1)\n",
    "print('columns y_train',y_train_REPBASE.columns)\n",
    "y_train_REPBASE"
   ]
  },
  {
   "cell_type": "code",
   "execution_count": 27,
   "metadata": {},
   "outputs": [
    {
     "name": "stdout",
     "output_type": "stream",
     "text": [
      "columns y_test Index(['level1', 'level2', 'level3', 'level4'], dtype='object')\n"
     ]
    },
    {
     "data": {
      "text/html": [
       "<div>\n",
       "<style scoped>\n",
       "    .dataframe tbody tr th:only-of-type {\n",
       "        vertical-align: middle;\n",
       "    }\n",
       "\n",
       "    .dataframe tbody tr th {\n",
       "        vertical-align: top;\n",
       "    }\n",
       "\n",
       "    .dataframe thead th {\n",
       "        text-align: right;\n",
       "    }\n",
       "</style>\n",
       "<table border=\"1\" class=\"dataframe\">\n",
       "  <thead>\n",
       "    <tr style=\"text-align: right;\">\n",
       "      <th></th>\n",
       "      <th>level1</th>\n",
       "      <th>level2</th>\n",
       "      <th>level3</th>\n",
       "      <th>level4</th>\n",
       "    </tr>\n",
       "  </thead>\n",
       "  <tbody>\n",
       "    <tr>\n",
       "      <th>0</th>\n",
       "      <td>1</td>\n",
       "      <td>4</td>\n",
       "      <td>3</td>\n",
       "      <td>None</td>\n",
       "    </tr>\n",
       "    <tr>\n",
       "      <th>1</th>\n",
       "      <td>1</td>\n",
       "      <td>4</td>\n",
       "      <td>3</td>\n",
       "      <td>None</td>\n",
       "    </tr>\n",
       "    <tr>\n",
       "      <th>2</th>\n",
       "      <td>1</td>\n",
       "      <td>4</td>\n",
       "      <td>3</td>\n",
       "      <td>None</td>\n",
       "    </tr>\n",
       "    <tr>\n",
       "      <th>3</th>\n",
       "      <td>1</td>\n",
       "      <td>4</td>\n",
       "      <td>3</td>\n",
       "      <td>None</td>\n",
       "    </tr>\n",
       "    <tr>\n",
       "      <th>4</th>\n",
       "      <td>1</td>\n",
       "      <td>4</td>\n",
       "      <td>3</td>\n",
       "      <td>None</td>\n",
       "    </tr>\n",
       "    <tr>\n",
       "      <th>...</th>\n",
       "      <td>...</td>\n",
       "      <td>...</td>\n",
       "      <td>...</td>\n",
       "      <td>...</td>\n",
       "    </tr>\n",
       "    <tr>\n",
       "      <th>3463</th>\n",
       "      <td>1</td>\n",
       "      <td>1</td>\n",
       "      <td>None</td>\n",
       "      <td>None</td>\n",
       "    </tr>\n",
       "    <tr>\n",
       "      <th>3464</th>\n",
       "      <td>1</td>\n",
       "      <td>1</td>\n",
       "      <td>None</td>\n",
       "      <td>None</td>\n",
       "    </tr>\n",
       "    <tr>\n",
       "      <th>3465</th>\n",
       "      <td>1</td>\n",
       "      <td>1</td>\n",
       "      <td>2</td>\n",
       "      <td>None</td>\n",
       "    </tr>\n",
       "    <tr>\n",
       "      <th>3466</th>\n",
       "      <td>1</td>\n",
       "      <td>1</td>\n",
       "      <td>2</td>\n",
       "      <td>None</td>\n",
       "    </tr>\n",
       "    <tr>\n",
       "      <th>3467</th>\n",
       "      <td>1</td>\n",
       "      <td>1</td>\n",
       "      <td>2</td>\n",
       "      <td>None</td>\n",
       "    </tr>\n",
       "  </tbody>\n",
       "</table>\n",
       "<p>3468 rows × 4 columns</p>\n",
       "</div>"
      ],
      "text/plain": [
       "     level1 level2 level3 level4\n",
       "0         1      4      3   None\n",
       "1         1      4      3   None\n",
       "2         1      4      3   None\n",
       "3         1      4      3   None\n",
       "4         1      4      3   None\n",
       "...     ...    ...    ...    ...\n",
       "3463      1      1   None   None\n",
       "3464      1      1   None   None\n",
       "3465      1      1      2   None\n",
       "3466      1      1      2   None\n",
       "3467      1      1      2   None\n",
       "\n",
       "[3468 rows x 4 columns]"
      ]
     },
     "execution_count": 27,
     "metadata": {},
     "output_type": "execute_result"
    }
   ],
   "source": [
    "y_test_REPBASE[['level1', 'level2', 'level3','level4']] = y_test_REPBASE['classification_hierarchical'].str.split('/', expand=True)\n",
    "y_test_REPBASE = y_test_REPBASE.drop('classification_hierarchical', axis=1)\n",
    "print('columns y_test',y_test_REPBASE.columns)\n",
    "y_test_REPBASE"
   ]
  },
  {
   "cell_type": "markdown",
   "metadata": {},
   "source": [
    "## Modelos"
   ]
  },
  {
   "cell_type": "markdown",
   "metadata": {},
   "source": [
    "Función para mostrar las métricas obtenidas con las predicciones del modelo entrenado"
   ]
  },
  {
   "cell_type": "code",
   "execution_count": 29,
   "metadata": {},
   "outputs": [],
   "source": [
    "def metrics_calculation(Y_test, y_pred_df):\n",
    "    Y_test['level3'] = Y_test['level3'].replace({'None': '-1', None: '-1'})\n",
    "    Y_test['level4'] = Y_test['level4'].replace({'None': '-1', None: '-1'})\n",
    "\n",
    "    # Ensure the 'level3' and 'level4' columns contain integer values\n",
    "    Y_test['level3'] = Y_test['level3'].astype(int)\n",
    "    Y_test['level4'] = Y_test['level4'].astype(int)\n",
    "\n",
    "    # Replace 'None' values with -1 for level3 and level4 in y_pred_df\n",
    "    y_pred_df['level3'] = y_pred_df['level3'].replace({'None': -1, None: '-1'})\n",
    "    y_pred_df['level4'] = y_pred_df['level4'].replace({'None': -1, None: '-1'})\n",
    "\n",
    "    # Ensure the 'level3' and 'level4' columns contain integer values in y_pred_df\n",
    "    y_pred_df['level3'] = y_pred_df['level3'].astype(int)\n",
    "    y_pred_df['level4'] = y_pred_df['level4'].astype(int)\n",
    "\n",
    "    # Debugging code to print unique values in level3 and level4 columns\n",
    "    unique_values_level3 = Y_test['level3'].unique()\n",
    "    unique_values_level4 = Y_test['level4'].unique()\n",
    "    print(\"Unique values in Y_test['level3']:\", unique_values_level3)\n",
    "    print(\"Unique values in Y_test['level4']:\", unique_values_level4)\n",
    "\n",
    "    unique_values_level3 = y_pred_df['level3'].unique()\n",
    "    unique_values_level4 = y_pred_df['level4'].unique()\n",
    "    print(\"Unique values in y_pred['level3']:\", unique_values_level3)\n",
    "    print(\"Unique values in y_pred['level4']:\", unique_values_level4)\n",
    "\n",
    "    # Calculate metrics for level1\n",
    "    accuracy_score_level_1 = accuracy_score(Y_test['level1'], y_pred_df['level1'])\n",
    "    precision_score_level_1 = precision_score(Y_test['level1'], y_pred_df['level1'], average='weighted')\n",
    "    recall_score_level_1 = recall_score(Y_test['level1'], y_pred_df['level1'], average='weighted')\n",
    "    f1_score_level_1 = f1_score(Y_test['level1'], y_pred_df['level1'], average='weighted')\n",
    "\n",
    "    print(f'Metrics for level 1:')\n",
    "    print(f'Accuracy: {accuracy_score_level_1}')\n",
    "    print(f'Precision: {precision_score_level_1}')\n",
    "    print(f'Recall: {recall_score_level_1}')\n",
    "    print(f'F1 Score: {f1_score_level_1}')\n",
    "\n",
    "    # Calculate metrics for level2\n",
    "    accuracy_score_level_2 = accuracy_score(Y_test['level2'], y_pred_df['level2'])\n",
    "    precision_score_level_2 = precision_score(Y_test['level2'], y_pred_df['level2'], average='weighted')\n",
    "    recall_score_level_2 = recall_score(Y_test['level2'], y_pred_df['level2'], average='weighted')\n",
    "    f1_score_level_2 = f1_score(Y_test['level2'], y_pred_df['level2'], average='weighted')\n",
    "\n",
    "    print(f'Metrics for level 2:')\n",
    "    print(f'Accuracy: {accuracy_score_level_2}')\n",
    "    print(f'Precision: {precision_score_level_2}')\n",
    "    print(f'Recall: {recall_score_level_2}')\n",
    "    print(f'F1 Score: {f1_score_level_2}')\n",
    "\n",
    "    # Calculate metrics for level3\n",
    "    accuracy_score_level_3 = accuracy_score(Y_test['level3'].astype(int), y_pred_df['level3'].astype(int))\n",
    "    precision_score_level_3 = precision_score(Y_test['level3'].astype(int), y_pred_df['level3'].astype(int), average='weighted')\n",
    "    recall_score_level_3 = recall_score(Y_test['level3'].astype(int), y_pred_df['level3'].astype(int), average='weighted')\n",
    "    f1_score_level_3 = f1_score(Y_test['level3'].astype(int), y_pred_df['level3'].astype(int), average='weighted')\n",
    "\n",
    "    print(f'Metrics for level 3:')\n",
    "    print(f'Accuracy: {accuracy_score_level_3}')\n",
    "    print(f'Precision: {precision_score_level_3}')\n",
    "    print(f'Recall: {recall_score_level_3}')\n",
    "    print(f'F1 Score: {f1_score_level_3}')\n",
    "\n",
    "    # Calculate metrics for level4\n",
    "    accuracy_score_level_4 = accuracy_score(Y_test['level4'].astype(int), y_pred_df['level4'].astype(int))\n",
    "    precision_score_level_4 = precision_score(Y_test['level4'].astype(int), y_pred_df['level4'].astype(int), average='weighted')\n",
    "    recall_score_level_4 = recall_score(Y_test['level4'].astype(int), y_pred_df['level4'].astype(int), average='weighted')\n",
    "    f1_score_level_4 = f1_score(Y_test['level4'].astype(int), y_pred_df['level4'].astype(int), average='weighted')\n",
    "\n",
    "    print(f'Metrics for level 4:')\n",
    "    print(f'Accuracy: {accuracy_score_level_4}')\n",
    "    print(f'Precision: {precision_score_level_4}')\n",
    "    print(f'Recall: {recall_score_level_4}')\n",
    "    print(f'F1 Score: {f1_score_level_4}')\n",
    "\n",
    "    ######Métricas hiclass\n",
    "    ##accuracy_hc\n",
    "    precision_hc = metrics.precision(Y_test, y_pred_df)\n",
    "    precision_macro_hc = metrics._precision_macro(Y_test, y_pred_df)\n",
    "    precision_micro_hc = metrics._precision_micro(Y_test, y_pred_df)\n",
    "    print(\"precision_hc:  \", precision_hc,\" precision_macro_hc: \",precision_macro_hc,\"  precision_micro_hc: \", precision_micro_hc)\n",
    "\n",
    "    recall_hc = metrics.recall(Y_test, y_pred_df)\n",
    "    recall_macro_hc = metrics._recall_macro(Y_test, y_pred_df)\n",
    "    recall_micro_hc = metrics._recall_micro(Y_test, y_pred_df)\n",
    "    print(\"recall_hc:  \", recall_hc,\" recall_macro_hc: \",recall_macro_hc,\"  recall_micro_hc: \", recall_micro_hc)\n",
    "\n",
    "    f1_score_hc = metrics.f1(Y_test, y_pred_df)\n",
    "    f1_score_macro_hc = metrics._f_score_macro(Y_test, y_pred_df)\n",
    "    f1_score_micro_hc = metrics._f_score_micro(Y_test, y_pred_df)\n",
    "    print(\"f1_score_hc:  \", f1_score_hc,\" f1_score_macro_hc: \",f1_score_macro_hc,\"  f1_score_micro_hc: \", f1_score_micro_hc)"
   ]
  },
  {
   "cell_type": "markdown",
   "metadata": {},
   "source": [
    "## MIPS"
   ]
  },
  {
   "cell_type": "markdown",
   "metadata": {},
   "source": [
    "### RandomForest"
   ]
  },
  {
   "cell_type": "code",
   "execution_count": 30,
   "metadata": {},
   "outputs": [
    {
     "name": "stdout",
     "output_type": "stream",
     "text": [
      "Predictions:\n",
      "[['1' '1' '2' 'None']\n",
      " ['1' '4' 'None' 'None']\n",
      " ['1' '4' 'None' 'None']\n",
      " ...\n",
      " ['2' '1' 'None' 'None']\n",
      " ['1' '1' '2' 'None']\n",
      " ['1' '1' '1' 'None']]\n",
      "Unique values in Y_test['level3']: [-1  1  2]\n",
      "Unique values in Y_test['level4']: [-1  1  8  2  9  3]\n",
      "Unique values in y_pred['level3']: [ 2 -1  1]\n",
      "Unique values in y_pred['level4']: [-1  3  8  9  1]\n",
      "Metrics for level 1:\n",
      "Accuracy: 0.9386011745862253\n",
      "Precision: 0.9367612486110916\n",
      "Recall: 0.9386011745862253\n",
      "F1 Score: 0.9343514107365632\n",
      "Metrics for level 2:\n",
      "Accuracy: 0.9802455953016551\n",
      "Precision: 0.9806423993048249\n",
      "Recall: 0.9802455953016551\n",
      "F1 Score: 0.9764610619904538\n",
      "Metrics for level 3:\n",
      "Accuracy: 0.788574479444741\n",
      "Precision: 0.7899606228906733\n",
      "Recall: 0.788574479444741\n",
      "F1 Score: 0.7838892630904393\n",
      "Metrics for level 4:\n",
      "Accuracy: 0.9369994660971703\n",
      "Precision: 0.9240742069929473\n",
      "Recall: 0.9369994660971703\n",
      "F1 Score: 0.924882162293221\n"
     ]
    },
    {
     "name": "stderr",
     "output_type": "stream",
     "text": [
      "c:\\Users\\albam\\anaconda3\\envs\\MachineLearning\\lib\\site-packages\\sklearn\\metrics\\_classification.py:1245: UndefinedMetricWarning: Precision is ill-defined and being set to 0.0 in labels with no predicted samples. Use `zero_division` parameter to control this behavior.\n",
      "  _warn_prf(average, modifier, msg_start, len(result))\n"
     ]
    },
    {
     "name": "stdout",
     "output_type": "stream",
     "text": [
      "precision_hc:   0.9448091916290521  precision_macro_hc:  0.002135611318739989   precision_micro_hc:  1.0\n",
      "recall_hc:   0.9585761865112407  recall_macro_hc:  0.002135611318739989   recall_micro_hc:  1.0\n",
      "f1_score_hc:   0.9516429014259145  f1_score_macro_hc:  0.002135611318739989   f1_score_micro_hc:  0.9516429014259145\n"
     ]
    }
   ],
   "source": [
    "# Use random forest classifiers for every node\n",
    "rf = RandomForestClassifier()\n",
    "classifier = LocalClassifierPerNode(local_classifier=rf)\n",
    "\n",
    "# Train local classifier per node\n",
    "classifier.fit(X_train_MIPS, y_train_MIPS)\n",
    "\n",
    "# Predict\n",
    "y_pred = classifier.predict(X_test_MIPS)\n",
    "#print('Predictions:')\n",
    "#print(y_pred)\n",
    "\n",
    "###Calcula metricas por level de la jerarquia\n",
    "y_pred_df=pd.DataFrame(y_pred,columns=['level1','level2','level3','level4'])\n",
    "\n",
    "metrics_calculation(y_test_MIPS, y_pred_df)"
   ]
  },
  {
   "cell_type": "markdown",
   "metadata": {},
   "source": [
    "### AdaBoostClassifier"
   ]
  },
  {
   "cell_type": "code",
   "execution_count": 33,
   "metadata": {},
   "outputs": [
    {
     "name": "stdout",
     "output_type": "stream",
     "text": [
      "Unique values in Y_test['level3']: [-1  1  2]\n",
      "Unique values in Y_test['level4']: [-1  1  8  2  9  3]\n",
      "Unique values in y_pred['level3']: [ 2 -1  1]\n",
      "Unique values in y_pred['level4']: [-1  3  9  2  8  1]\n",
      "Metrics for level 1:\n",
      "Accuracy: 0.9167111585691404\n",
      "Precision: 0.9112002314323564\n",
      "Recall: 0.9167111585691404\n",
      "F1 Score: 0.9113986360865303\n",
      "Metrics for level 2:\n",
      "Accuracy: 0.9733048585157501\n",
      "Precision: 0.9697737786339952\n",
      "Recall: 0.9733048585157501\n",
      "F1 Score: 0.9705978810719436\n",
      "Metrics for level 3:\n",
      "Accuracy: 0.7197010144153764\n",
      "Precision: 0.7175238631094614\n",
      "Recall: 0.7197010144153764\n",
      "F1 Score: 0.7172283658110912\n",
      "Metrics for level 4:\n",
      "Accuracy: 0.9145755472504005\n",
      "Precision: 0.8886937402055967\n",
      "Recall: 0.9145755472504005\n",
      "F1 Score: 0.8969793044909753\n",
      "precision_hc:   0.9314784053156147  precision_macro_hc:  0.002135611318739989   precision_micro_hc:  1.0\n",
      "recall_hc:   0.9338051623646961  recall_macro_hc:  0.002135611318739989   recall_micro_hc:  1.0\n",
      "f1_score_hc:   0.9326403326403327  f1_score_macro_hc:  0.002135611318739989   f1_score_micro_hc:  0.9326403326403327\n"
     ]
    }
   ],
   "source": [
    "ada = AdaBoostClassifier()\n",
    "classifier = LocalClassifierPerNode(local_classifier=ada)\n",
    "\n",
    "# Train local classifier per node\n",
    "classifier.fit(X_train_MIPS, y_train_MIPS)\n",
    "\n",
    "# Predict\n",
    "y_pred = classifier.predict(X_test_MIPS)\n",
    "# print('Predictions:')\n",
    "# print(y_pred)\n",
    "\n",
    "# Calcula metricas por level de la jerarquia\n",
    "y_pred_df=pd.DataFrame(y_pred,columns=['level1','level2','level3','level4'])\n",
    "\n",
    "metrics_calculation(y_test_MIPS, y_pred_df)"
   ]
  },
  {
   "cell_type": "markdown",
   "metadata": {},
   "source": [
    "### Gradient Boosting"
   ]
  },
  {
   "cell_type": "code",
   "execution_count": 34,
   "metadata": {},
   "outputs": [],
   "source": [
    "grad = GradientBoostingClassifier()\n",
    "classifier = LocalClassifierPerNode(local_classifier=grad)\n",
    "\n",
    "# Train local classifier per node\n",
    "classifier.fit(X_train_MIPS, y_train_MIPS)\n",
    "\n",
    "# Predict\n",
    "y_pred = classifier.predict(X_test_MIPS)\n",
    "\n",
    "# print('Predictions:')\n",
    "# print(y_pred)\n",
    "\n",
    "# Calcula metricas por level de la jerarquia\n",
    "y_pred_df=pd.DataFrame(y_pred,columns=['level1','level2','level3','level4'])\n",
    "\n",
    "metrics_calculation(y_test_MIPS, y_pred_df)"
   ]
  },
  {
   "cell_type": "markdown",
   "metadata": {},
   "source": [
    "### REPBASE"
   ]
  },
  {
   "cell_type": "markdown",
   "metadata": {},
   "source": [
    "#### Random Forest"
   ]
  },
  {
   "cell_type": "code",
   "execution_count": 31,
   "metadata": {},
   "outputs": [
    {
     "name": "stdout",
     "output_type": "stream",
     "text": [
      "Predictions:\n",
      "[['1' '1' '2' 'None']\n",
      " ['1' '4' '3' 'None']\n",
      " ['1' '4' '3' 'None']\n",
      " ...\n",
      " ['1' '1' '2' 'None']\n",
      " ['1' '1' '2' 'None']\n",
      " ['1' '1' '2' 'None']]\n",
      "Unique values in Y_test['level3']: [ 3  1 -1  2  5  4]\n",
      "Unique values in Y_test['level4']: [-1  6  3  2  1  9  8  7  4  5]\n",
      "Unique values in y_pred['level3']: [ 2  3  1 -1  4  5]\n",
      "Unique values in y_pred['level4']: [-1  2  1  6  3  9  8  7]\n",
      "Metrics for level 1:\n",
      "Accuracy: 0.9025374855824683\n",
      "Precision: 0.9033175832871484\n",
      "Recall: 0.9025374855824683\n",
      "F1 Score: 0.9008468480450994\n",
      "Metrics for level 2:\n",
      "Accuracy: 0.9495386389850058\n",
      "Precision: 0.9495628345549899\n",
      "Recall: 0.9495386389850058\n",
      "F1 Score: 0.9434506927240034\n",
      "Metrics for level 3:\n",
      "Accuracy: 0.701845444059977\n",
      "Precision: 0.718658236878494\n",
      "Recall: 0.701845444059977\n",
      "F1 Score: 0.6877499337955144\n",
      "Metrics for level 4:\n",
      "Accuracy: 0.8143021914648212\n",
      "Precision: 0.8275831298149581\n",
      "Recall: 0.8143021914648212\n",
      "F1 Score: 0.8110791577916809\n",
      "precision_hc:   0.9234799694356511  precision_macro_hc:  0.0011534025374855825   precision_micro_hc:  1.0\n"
     ]
    },
    {
     "name": "stderr",
     "output_type": "stream",
     "text": [
      "c:\\Users\\albam\\anaconda3\\envs\\MachineLearning\\lib\\site-packages\\sklearn\\metrics\\_classification.py:1245: UndefinedMetricWarning: Precision is ill-defined and being set to 0.0 in labels with no predicted samples. Use `zero_division` parameter to control this behavior.\n",
      "  _warn_prf(average, modifier, msg_start, len(result))\n"
     ]
    },
    {
     "name": "stdout",
     "output_type": "stream",
     "text": [
      "recall_hc:   0.905975583636753  recall_macro_hc:  0.0011534025374855825   recall_micro_hc:  1.0\n",
      "f1_score_hc:   0.9146440348126926  f1_score_macro_hc:  0.0011534025374855825   f1_score_micro_hc:  0.9146440348126926\n"
     ]
    }
   ],
   "source": [
    "rf = RandomForestClassifier()\n",
    "classifier = LocalClassifierPerNode(local_classifier=rf)\n",
    "\n",
    "# Train local classifier per node\n",
    "classifier.fit(X_train_REPBASE, y_train_REPBASE)\n",
    "\n",
    "# Predict\n",
    "y_pred = classifier.predict(X_test_REPBASE)\n",
    "print('Predictions:')\n",
    "print(y_pred)\n",
    "\n",
    "###Calcula metricas por level de la jerarquia\n",
    "y_pred_df=pd.DataFrame(y_pred,columns=['level1','level2','level3','level4'])\n",
    "\n",
    "metrics_calculation(y_test_REPBASE, y_pred_df)"
   ]
  },
  {
   "cell_type": "markdown",
   "metadata": {},
   "source": [
    "#### Ada Boost"
   ]
  },
  {
   "cell_type": "code",
   "execution_count": null,
   "metadata": {},
   "outputs": [
    {
     "name": "stdout",
     "output_type": "stream",
     "text": [
      "{'<ROOT>': {}}\n"
     ]
    }
   ],
   "source": [
    "ada = AdaBoostClassifier()\n",
    "classifier = LocalClassifierPerNode(local_classifier=ada)\n",
    "\n",
    "# Train local classifier per node\n",
    "classifier.fit(X_train_REPBASE, y_train_REPBASE)\n",
    "\n",
    "# Predict\n",
    "y_pred = classifier.predict(X_test_REPBASE)\n",
    "# print('Predictions:')\n",
    "# print(y_pred)\n",
    "\n",
    "# Calcula metricas por level de la jerarquia\n",
    "y_pred_df=pd.DataFrame(y_pred,columns=['level1','level2','level3','level4'])\n",
    "\n",
    "metrics_calculation(y_test_REPBASE, y_pred_df)"
   ]
  },
  {
   "cell_type": "markdown",
   "metadata": {},
   "source": [
    "#### Gradient Boost"
   ]
  },
  {
   "cell_type": "code",
   "execution_count": null,
   "metadata": {},
   "outputs": [],
   "source": [
    "grad = GradientBoostingClassifier()\n",
    "classifier = LocalClassifierPerNode(local_classifier=grad)\n",
    "\n",
    "# Train local classifier per node\n",
    "classifier.fit(X_train_REPBASE, y_train_REPBASE)\n",
    "\n",
    "# Predict\n",
    "y_pred = classifier.predict(X_test_REPBASE)\n",
    "\n",
    "# print('Predictions:')\n",
    "# print(y_pred)\n",
    "\n",
    "# Calcula metricas por level de la jerarquia\n",
    "y_pred_df=pd.DataFrame(y_pred,columns=['level1','level2','level3','level4'])\n",
    "\n",
    "metrics_calculation(y_test_REPBASE, y_pred_df)"
   ]
  }
 ],
 "metadata": {
  "colab": {
   "provenance": []
  },
  "kernelspec": {
   "display_name": "Python 3 (ipykernel)",
   "language": "python",
   "name": "python3"
  },
  "language_info": {
   "codemirror_mode": {
    "name": "ipython",
    "version": 3
   },
   "file_extension": ".py",
   "mimetype": "text/x-python",
   "name": "python",
   "nbconvert_exporter": "python",
   "pygments_lexer": "ipython3",
   "version": "3.8.18"
  }
 },
 "nbformat": 4,
 "nbformat_minor": 1
}
