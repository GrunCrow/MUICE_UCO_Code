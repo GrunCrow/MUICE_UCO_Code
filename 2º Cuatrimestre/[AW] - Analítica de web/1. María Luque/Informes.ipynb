{
 "cells": [
  {
   "cell_type": "markdown",
   "metadata": {},
   "source": [
    "# Analítica Web - Cálculo de Métricas\n",
    "#### Alba Márquez Rodríguez\n",
    "\n",
    "A continuación se presenta la actividad *Cálculo de Métricas*"
   ]
  },
  {
   "cell_type": "markdown",
   "metadata": {},
   "source": [
    "## DATASET: LogsDataiku.csv\n",
    "\n",
    "Este dataset almacena información de acceso al sitio web de Dataiku, durante 2 meses. Contiene información sobre cada vista de página individual en el sitio web www.Dataiku.com\n",
    "\n",
    "## Estructura del dataset\n",
    "El dataset, está en un fichero csv con 18 campos:\n",
    "- server_ts: fecha de conexión al servidor\n",
    "- client_ts: fecha de conexión del usuario\n",
    "- client_addr: dirección IP del usuario\n",
    "- visitor_id: id asignado al usuario (~ _utma)\n",
    "- session_id: id de la sesión/visita (~ _utmb)\n",
    "- location: url de la página a la que se accede\n",
    "- referer: url de la página desde la que se accedió a location. Si está vacío se considera una búsqueda directa\n",
    "- user_agent: navegador desde el que se conectó el usuario\n",
    "- type: tipo de acceso\n",
    "- visitor_param\n",
    "- sesion_param:\n",
    "- event_param:\n",
    "- br_width: ancho del navegador del usuario\n",
    "- br_height: alto del navegador del usuario\n",
    "- sc_width: ancho de la pantalla del usuario (resolución)\n",
    "- sc_height: alto de la pantalla del usuario (resolución)\n",
    "- br_lan: idioma del navegador del usuario\n",
    "- tz_off: time zona. El número indica la diferencia en minutos con la hora GMT . -60 indica zona horaria GMT+1 y 60 indica zona horaria GMT-1\n",
    "\n",
    "## Ejercicio\n",
    "A partir del dataset anterior, calcula las siguientes métricas para el periodo de tiempo registrado\n",
    "- N.º de visitas → Número de visitas (sesiones que ha tenido el sitio web)\n",
    "- N.º de visitantes únicos → Número de usuarios diferentes que han visitado el sitio web\n",
    "- N.º medio de páginas/visitas →Para cada visita (sesión) cuántas páginas se han visitado. Media para todas las visitas\n",
    "- Tasa de rebote → Número de visitas (sesiones) que solo han accedido a una página\n",
    "- Tasa de salida para cada página → % de veces que cada página ha sido una página de salida\n",
    "- Tráfico directo → Número de visitas (sesiones) que provienen de escribir la url directamente\n",
    "- Tráfico de búsqueda → Número de visitas (sesiones) que provienen de pinchar en una búsqueda\n",
    "- Tráfico referido → Número de visitas (sesiones) que provienen de pinchar en un enlace de otra página\n"
   ]
  },
  {
   "cell_type": "markdown",
   "metadata": {},
   "source": [
    "#### Librerías"
   ]
  },
  {
   "cell_type": "code",
   "execution_count": 4,
   "metadata": {},
   "outputs": [],
   "source": [
    "import pandas as pd\n",
    "import numpy as np"
   ]
  },
  {
   "cell_type": "markdown",
   "metadata": {},
   "source": [
    "#### Carga de los datos\n",
    "\n",
    "Para comenzar cargaremos los datos desde el csv"
   ]
  },
  {
   "cell_type": "code",
   "execution_count": 5,
   "metadata": {},
   "outputs": [],
   "source": [
    "# Cargar dataset\n",
    "df = pd.read_csv('LogsDataiku/LogsDataiku.csv')"
   ]
  },
  {
   "cell_type": "markdown",
   "metadata": {},
   "source": [
    "### Número de visitas (sesiones que ha tenido el sitio web)\n",
    "\n",
    "Este código calcula el número de visitas únicas al sitio web. Para hacerlo, se selecciona la columna 'session_id', que contiene los identificadores de sesión únicos para cada visita al sitio web. Luego, se aplica el método nunique() que devuelve el número de valores únicos en esa columna, es decir, el número total de visitas únicas."
   ]
  },
  {
   "cell_type": "code",
   "execution_count": 6,
   "metadata": {},
   "outputs": [
    {
     "name": "stdout",
     "output_type": "stream",
     "text": [
      "Número de visitas: 3946\n"
     ]
    }
   ],
   "source": [
    "num_visits = df['session_id'].nunique()\n",
    "print(\"Número de visitas:\", num_visits)"
   ]
  },
  {
   "cell_type": "markdown",
   "metadata": {},
   "source": [
    "El *número de visitas* se refiere al total de sesiones que han tenido lugar en el sitio web durante el período de tiempo analizado. En este caso, el resultado indica que se han registrado un total de 3946 sesiones o visitas al sitio web durante el período de tiempo considerado. Cada vez que un usuario accede al sitio web se cuenta como una visita, independientemente de cuántas páginas visite o de la duración de la sesión.\n",
    "\n",
    "### Número de visitantes únicos\n",
    "\n",
    "Se extrae la columna 'visitor_id' del DataFrame df, que contiene identificadores únicos para cada visitante del sitio web. Luego, se utiliza el método nunique() para contar el número de valores únicos en esa columna, lo que da como resultado el número total de personas visitantes únicas al sitio web."
   ]
  },
  {
   "cell_type": "code",
   "execution_count": 7,
   "metadata": {},
   "outputs": [
    {
     "name": "stdout",
     "output_type": "stream",
     "text": [
      "Número de visitantes únicos: 2537\n"
     ]
    }
   ],
   "source": [
    "num_unique_visitors = df['visitor_id'].nunique()\n",
    "print(\"Número de visitantes únicos:\", num_unique_visitors)"
   ]
  },
  {
   "cell_type": "markdown",
   "metadata": {},
   "source": [
    "El *número de visitantes únicos* representa la cantidad total de personas usuarias individuales que han visitado el sitio web durante el período de tiempo analizado. En este contexto, el resultado de 2537 indica que durante el período registrado, 2537 personas usuarias únicas accedieron al sitio web al menos una vez.\n",
    "\n",
    "### Número medio de páginas/visitas\n",
    "\n",
    "Aquí se agrupa el DataFrame por el 'session_id' utilizando el método groupby(). Luego, se calcula el tamaño de cada grupo (es decir, el número de páginas visitadas en cada sesión) usando el método size(). Finalmente, se calcula la media de estos tamaños de grupo utilizando el método mean(), lo que nos da el número medio de páginas por visita."
   ]
  },
  {
   "cell_type": "code",
   "execution_count": 8,
   "metadata": {},
   "outputs": [
    {
     "name": "stdout",
     "output_type": "stream",
     "text": [
      "Número medio de páginas/visitas: 2.749366447034972\n"
     ]
    }
   ],
   "source": [
    "avg_pages_per_visit = df.groupby('session_id').size().mean()\n",
    "print(\"Número medio de páginas/visitas:\", avg_pages_per_visit)"
   ]
  },
  {
   "cell_type": "markdown",
   "metadata": {},
   "source": [
    "\n",
    "El *número medio de páginas por visita* indica la cantidad promedio de páginas que una persona usuaria ve durante una sesión en el sitio web. En este caso, el resultado de aproximadamente 2.75 significa que, en promedio, durante cada visita al sitio web, las personas usuarias navegan por alrededor de 2.75 páginas.\n",
    "\n",
    "### Tasa de rebote\n",
    "\n",
    "En esta parte del código, el DataFrame se agrupa por el 'session_id' con groupby(). Luego, se calcula el tamaño de cada grupo, que representa el número de páginas visitadas en cada sesión, utilizando el método size(). Después, se compara si el tamaño de cada grupo es igual a 1, lo que indica que la sesión consiste en una sola página vista. Esto devuelve una serie de booleanos donde True representa una tasa de rebote (sesión de una sola página) y False representa una sesión con más de una página visitada. Finalmente, se calcula la media de esta serie de booleanos utilizando el método mean(), lo que nos da la proporción de sesiones que resultaron en una tasa de rebote."
   ]
  },
  {
   "cell_type": "code",
   "execution_count": 9,
   "metadata": {},
   "outputs": [
    {
     "name": "stdout",
     "output_type": "stream",
     "text": [
      "Tasa de rebote: 0.5486568677141409\n"
     ]
    }
   ],
   "source": [
    "bounce_rate = (df.groupby('session_id').size() == 1).mean()\n",
    "print(\"Tasa de rebote:\", bounce_rate)"
   ]
  },
  {
   "cell_type": "markdown",
   "metadata": {},
   "source": [
    "La *tasa de rebote* se refiere al porcentaje de visitas que se realizaron en una interacción de una sola página, es decir, aquellas visitas en las que una persona usuaria accedió a una sola página del sitio web y luego abandonó el sitio sin interactuar más. En este caso, el resultado de aproximadamente 0.55, es decir, el 55%, indica que alrededor del 55% de las visitas al sitio web resultaron en una interacción de una sola página.\n",
    "\n",
    "### Tasa de salida para cada página\n",
    "\n",
    "Aquí, se filtran las filas del DataFrame donde la columna 'referer' es nula, lo que indica que es una página de salida. Luego, se agrupa este subconjunto de datos por la ubicación de la página ('location') utilizando el método groupby(). Se calcula el tamaño de cada grupo, que representa la cantidad de veces que cada página ha sido una página de salida, utilizando el método size(). Esto se divide por el tamaño de cada grupo del DataFrame original, que representa el número total de veces que cada página ha sido visitada. El resultado es una serie que contiene la tasa de salida para cada página."
   ]
  },
  {
   "cell_type": "code",
   "execution_count": 10,
   "metadata": {},
   "outputs": [
    {
     "name": "stdout",
     "output_type": "stream",
     "text": [
      "Tasa de salida para cada página:\n",
      "location\n",
      "http://dataiku.com/                             0.483791\n",
      "http://dataiku.com/applications/                0.006803\n",
      "http://dataiku.com/applications/advertising/         NaN\n",
      "http://dataiku.com/applications/ecommerce/      0.020833\n",
      "http://dataiku.com/applications/freemium/       0.019608\n",
      "                                                  ...   \n",
      "http://www.dataiku.com/products/pricing/        0.050473\n",
      "http://www.dataiku.com/products/shaker/         0.013245\n",
      "http://www.dataiku.com/products/sharing/        0.016304\n",
      "http://www.dataiku.com/products/thankyou/       0.730769\n",
      "http://www.dataiku.com/products/trynow/         0.008929\n",
      "Length: 96, dtype: float64\n"
     ]
    }
   ],
   "source": [
    "exit_pages = df[df['referer'].isna()].groupby('location').size() / df.groupby('location').size()\n",
    "print(\"Tasa de salida para cada página:\")\n",
    "print(exit_pages)"
   ]
  },
  {
   "cell_type": "markdown",
   "metadata": {},
   "source": [
    "La *tasa de salida para cada página* indica el porcentaje de veces que cada página del sitio web ha sido la última página visitada en una sesión antes de que la persona usuaria abandone el sitio.\n",
    "\n",
    "### Tráfico directo\n",
    "\n",
    "En este fragmento, se seleccionan las filas del DataFrame donde la columna 'referer' es nula, lo que indica que el tráfico proviene de un acceso directo (es decir, el usuario escribió la URL directamente en la barra de direcciones del navegador). Luego, se seleccionan los identificadores únicos de sesión ('session_id') de estas filas utilizando la notación de acceso a columnas. Finalmente, se calcula el número de sesiones únicas utilizando el método nunique(), lo que nos da el número total de visitas únicas que provienen de tráfico directo."
   ]
  },
  {
   "cell_type": "code",
   "execution_count": 11,
   "metadata": {},
   "outputs": [
    {
     "name": "stdout",
     "output_type": "stream",
     "text": [
      "Tráfico directo: 1098\n"
     ]
    }
   ],
   "source": [
    "direct_traffic = df[df['referer'].isna()]['session_id'].nunique()\n",
    "print(\"Tráfico directo:\", direct_traffic)"
   ]
  },
  {
   "cell_type": "markdown",
   "metadata": {},
   "source": [
    "El *tráfico directo* se refiere al número total de visitas al sitio web que se originaron a partir de personas usuarias que escribieron la URL directamente en la barra de direcciones del navegador, en lugar de llegar al sitio a través de un enlace de referencia o un motor de búsqueda. En este caso, el resultado de 1098 indica que hubo 1098 visitas al sitio web que fueron directamente a través de tráfico directo.\n",
    "\n",
    "### Tráfico de búsqueda\n",
    "\n",
    "Aquí, se seleccionan las filas del DataFrame donde la columna 'referer' contiene referencias a motores de búsqueda como Google, Bing o Yahoo. Esto se hace mediante el método str.contains() que busca patrones de texto que coincidan con las expresiones regulares 'google', 'bing' o 'yahoo', sin importar si están en mayúsculas o minúsculas (case=False). Además, na=False se utiliza para que los valores nulos no generen un error en la búsqueda. Luego, se seleccionan los identificadores únicos de sesión ('session_id') de estas filas utilizando la notación de acceso a columnas. Finalmente, se calcula el número de sesiones únicas utilizando el método nunique(), lo que nos da el número total de visitas únicas que provienen de tráfico de búsqueda."
   ]
  },
  {
   "cell_type": "code",
   "execution_count": 12,
   "metadata": {},
   "outputs": [
    {
     "name": "stdout",
     "output_type": "stream",
     "text": [
      "Tráfico de búsqueda: 1448\n"
     ]
    }
   ],
   "source": [
    "search_traffic = df[df['referer'].str.contains('google|bing|yahoo', case=False, na=False)]['session_id'].nunique()\n",
    "print(\"Tráfico de búsqueda:\", search_traffic)"
   ]
  },
  {
   "cell_type": "markdown",
   "metadata": {},
   "source": [
    "El *tráfico de búsqueda* se refiere al número total de visitas al sitio web que se originaron a partir de los resultados de búsqueda en buscadores, en este caso se han cogido Google, Bing o Yahoo para realizar la búsqueda. El resultado de 1448 indica que hubo 1448 visitas al sitio web que fueron generadas a través de resultados de búsqueda en alguno de estos buscadores.\n",
    "\n",
    "### Tráfico referido\n",
    "\n",
    "En este fragmento, se seleccionan las filas del DataFrame donde la columna 'referer' no es nula, lo que indica que el tráfico proviene de un enlace de referencia de otra página web. Se utiliza la condición notna() para seleccionar solo aquellas filas donde 'referer' tiene un valor válido. Luego, se seleccionan los identificadores únicos de sesión ('session_id') de estas filas utilizando la notación de acceso a columnas. Finalmente, se calcula el número de sesiones únicas utilizando el método nunique(), lo que nos da el número total de visitas únicas que provienen de tráfico referido."
   ]
  },
  {
   "cell_type": "code",
   "execution_count": 13,
   "metadata": {},
   "outputs": [
    {
     "name": "stdout",
     "output_type": "stream",
     "text": [
      "Tráfico referido: 3244\n"
     ]
    }
   ],
   "source": [
    "referral_traffic = df[df['referer'].notna()]['session_id'].nunique()\n",
    "print(\"Tráfico referido:\", referral_traffic)"
   ]
  },
  {
   "cell_type": "markdown",
   "metadata": {},
   "source": [
    "El *tráfico referido* se refiere al número total de visitas al sitio web que se originaron a partir de enlaces de referencia desde otras páginas web. En este caso, el resultado de 3244 indica que hubo 3244 visitas al sitio web que fueron dirigidas desde enlaces en otras páginas web."
   ]
  }
 ],
 "metadata": {
  "kernelspec": {
   "display_name": "ADP",
   "language": "python",
   "name": "python3"
  },
  "language_info": {
   "codemirror_mode": {
    "name": "ipython",
    "version": 3
   },
   "file_extension": ".py",
   "mimetype": "text/x-python",
   "name": "python",
   "nbconvert_exporter": "python",
   "pygments_lexer": "ipython3",
   "version": "3.8.18"
  }
 },
 "nbformat": 4,
 "nbformat_minor": 2
}
