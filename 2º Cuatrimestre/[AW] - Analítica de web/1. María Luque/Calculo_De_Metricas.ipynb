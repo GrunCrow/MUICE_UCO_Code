{
 "cells": [
  {
   "cell_type": "markdown",
   "metadata": {},
   "source": [
    "# Analítica Web - Informes\n",
    "#### Alba Márquez Rodríguez\n",
    "\n",
    "A continuación se presenta la actividad *Informes*"
   ]
  },
  {
   "cell_type": "markdown",
   "metadata": {},
   "source": [
    "## DATASET: LogsDataiku.csv\n",
    "\n",
    "Este dataset almacena información de acceso al sitio web de Dataiku, durante 2 meses. Contiene información sobre cada vista de página individual en el sitio web www.Dataiku.com\n",
    "\n",
    "## Estructura del dataset\n",
    "El dataset, está en un fichero csv con 18 campos:\n",
    "- server_ts: fecha de conexión al servidor\n",
    "- client_ts: fecha de conexión del usuario\n",
    "- client_addr: dirección IP del usuario\n",
    "- visitor_id: id asignado al usuario (~ _utma)\n",
    "- session_id: id de la sesión/visita (~ _utmb)\n",
    "- location: url de la página a la que se accede\n",
    "- referer: url de la página desde la que se accedió a location. Si está vacío se considera una búsqueda directa\n",
    "- user_agent: navegador desde el que se conectó el usuario\n",
    "- type: tipo de acceso\n",
    "- visitor_param\n",
    "- sesion_param:\n",
    "- event_param:\n",
    "- br_width: ancho del navegador del usuario\n",
    "- br_height: alto del navegador del usuario\n",
    "- sc_width: ancho de la pantalla del usuario (resolución)\n",
    "- sc_height: alto de la pantalla del usuario (resolución)\n",
    "- br_lan: idioma del navegador del usuario\n",
    "- tz_off: time zona. El número indica la diferencia en minutos con la hora GMT . -60 indica zona horaria GMT+1 y 60 indica zona horaria GMT-1\n",
    "\n",
    "## Ejercicio\n",
    "A partir de los datos del dataset anterior, generar informes para, en base a dichos datos, poder tomar las siguientes decisiones:\n",
    "- Qué idiomas debería soportar el sitio web\n",
    "- Se quiere sacar una promoción durante un tiempo muy limitado. Qué hora sería la más adecuada para llegar a un mayor número de usuarios\n",
    "- Podemos decidir promocionarnos en los enlaces que vienen de serie con los navegadores. En qué navegador sería más interesante hacernos publicidad\n"
   ]
  },
  {
   "cell_type": "markdown",
   "metadata": {},
   "source": [
    "#### Librerías"
   ]
  },
  {
   "cell_type": "code",
   "execution_count": 1,
   "metadata": {},
   "outputs": [],
   "source": [
    "import pandas as pd\n",
    "import numpy as np"
   ]
  },
  {
   "cell_type": "markdown",
   "metadata": {},
   "source": [
    "#### Carga de los datos\n",
    "\n",
    "Para comenzar cargaremos los datos desde el csv"
   ]
  },
  {
   "cell_type": "code",
   "execution_count": 4,
   "metadata": {},
   "outputs": [],
   "source": [
    "# Cargar dataset\n",
    "df = pd.read_csv('LogsDataiku/LogsDataiku.csv')"
   ]
  },
  {
   "cell_type": "markdown",
   "metadata": {},
   "source": [
    "### Qué idiomas debería soportar el sitio web\n",
    "\n",
    "Analizando la columna br_lan, que indica el idioma del navegador del usuario, se puede determinar qué idiomas son más comunes entre los usuarios. Se calcula la distribución de los idiomas y nos centramos en los más frecuentes para decidir qué idiomas debería soportar el sitio web."
   ]
  },
  {
   "cell_type": "code",
   "execution_count": 8,
   "metadata": {},
   "outputs": [
    {
     "name": "stdout",
     "output_type": "stream",
     "text": [
      "Idiomas más comunes entre los usuarios:\n",
      "br_lang\n",
      "fr       5033\n",
      "en-US    2927\n",
      "fr-fr     748\n",
      "en-us     668\n",
      "en-GB     360\n",
      "Name: count, dtype: int64\n"
     ]
    }
   ],
   "source": [
    "# Idiomas que debería soportar el sitio web\n",
    "top_languages = df['br_lang'].value_counts().head(5)\n",
    "print(\"Idiomas más comunes entre los usuarios:\")\n",
    "print(top_languages)"
   ]
  },
  {
   "cell_type": "markdown",
   "metadata": {},
   "source": [
    "Los idiomas más frecuentes son francés e inglés, sin embargo se pueden ver qué otros idiomas también son utilizados en los navegadores de las personas usuarias y, en el caso de no ser demasiados y tener la capacidad de implementarlo, realizarlo."
   ]
  },
  {
   "cell_type": "code",
   "execution_count": 11,
   "metadata": {},
   "outputs": [
    {
     "name": "stdout",
     "output_type": "stream",
     "text": [
      "Idiomas utilizados entre los usuarios:\n",
      "br_lang\n",
      "fr       5033\n",
      "en-US    2927\n",
      "fr-fr     748\n",
      "en-us     668\n",
      "en-GB     360\n",
      "         ... \n",
      "fr-ch       1\n",
      "sv-se       1\n",
      "fi-FI       1\n",
      "ko-KR       1\n",
      "es-AR       1\n",
      "Name: count, Length: 68, dtype: int64\n"
     ]
    }
   ],
   "source": [
    "# Idiomas que debería soportar el sitio web\n",
    "top_languages = df['br_lang'].value_counts()\n",
    "print(\"Idiomas utilizados entre los usuarios:\")\n",
    "print(top_languages)"
   ]
  },
  {
   "cell_type": "markdown",
   "metadata": {},
   "source": [
    "Hay muchos idiomas en el que el número de usuarios apenas es representativo, habiendo un total de 68 idiomas y teniendo en cuenta que muchos son el idioma + el dialecto, vamos a agruparlos por la primera parte del idioma"
   ]
  },
  {
   "cell_type": "code",
   "execution_count": 13,
   "metadata": {},
   "outputs": [
    {
     "name": "stdout",
     "output_type": "stream",
     "text": [
      "Idiomas utilizados entre los usuarios:\n",
      "br_lang\n",
      "fr       6049\n",
      "en       4151\n",
      "pt        104\n",
      "de         90\n",
      "zh         89\n",
      "es         87\n",
      "ru         80\n",
      "ja         56\n",
      "pl         24\n",
      "nl         21\n",
      "ca         15\n",
      "tr         14\n",
      "da         12\n",
      "cs          9\n",
      "it          8\n",
      "bg          7\n",
      "he          6\n",
      "th          5\n",
      "id          4\n",
      "nb          3\n",
      "sk          2\n",
      "C           2\n",
      "ko          2\n",
      "en_US       2\n",
      "hu          2\n",
      "hr          1\n",
      "fi          1\n",
      "fa          1\n",
      "sv          1\n",
      "el          1\n",
      "Name: count, dtype: int64\n"
     ]
    }
   ],
   "source": [
    "# Idiomas que debería soportar el sitio web\n",
    "top_languages = df['br_lang'].value_counts()\n",
    "# Agrupar idiomas por la primera parte antes del -\n",
    "top_languages = top_languages.groupby(lambda x: x.split('-')[0]).sum()\n",
    "# Ordenar de mayor a menor\n",
    "top_languages = top_languages.sort_values(ascending=False)\n",
    "print(\"Idiomas utilizados entre los usuarios:\")\n",
    "print(top_languages)"
   ]
  },
  {
   "cell_type": "markdown",
   "metadata": {},
   "source": [
    "Ahora tenemos los idiomas y podemos ver que, teniendo en cuenta la agrupación de regiones y dialectos, los más comúnes son:\n",
    "- Francés\n",
    "- Inglés\n",
    "- Portugués\n",
    "- Alemán\n",
    "- Chino\n",
    "- Español\n",
    "- Ruso\n",
    "- Japonés\n",
    "- Polaco\n",
    "- Holandés\n",
    "\n",
    "Los idiomas realmente relevantes son el inglés y el francés, del resto no hay muchos usuarios pero se podría estudiar si es un público target para implementar este idioma e intentar aumentar así el número de usuarios de esos países / que hablen esos idiomas."
   ]
  },
  {
   "cell_type": "markdown",
   "metadata": {},
   "source": [
    "### Se quiere sacar una promoción durante un tiempo muy limitado. Qué hora sería la más adecuada para llegar a un mayor número de usuarios\n",
    "\n",
    "Podemos analizar la columna client_ts (fecha de conexión del usuario) para determinar en qué horas del día se registra un mayor número de visitas al sitio web. Calcularemos la cantidad de visitas en cada hora del día y seleccionaremos la hora con el pico más alto de visitas como el momento más adecuado para lanzar la promoción."
   ]
  },
  {
   "cell_type": "code",
   "execution_count": 9,
   "metadata": {},
   "outputs": [
    {
     "name": "stdout",
     "output_type": "stream",
     "text": [
      "\n",
      "Hora más adecuada para lanzar una promoción: 14 hrs\n"
     ]
    }
   ],
   "source": [
    "# Hora más adecuada para lanzar una promoción\n",
    "df['client_ts'] = pd.to_datetime(df['client_ts'])\n",
    "hourly_visits = df['client_ts'].dt.hour.value_counts()\n",
    "best_hour = hourly_visits.idxmax()\n",
    "print(\"\\nHora más adecuada para lanzar una promoción:\", best_hour, \"hrs\")"
   ]
  },
  {
   "cell_type": "markdown",
   "metadata": {},
   "source": [
    "### Podemos decidir promocionarnos en los enlaces que vienen de serie con los navegadores. En qué navegador sería más interesante hacernos publicidad\n",
    "\n",
    "Analizando la columna referer se pueden identificar los navegadores desde los cuales se originan los enlaces de referencia. Luego, se puede calcular la proporción de visitas que provienen de cada navegador y podremos quedarnos con el navegador con mayor proporción de visitas."
   ]
  },
  {
   "cell_type": "code",
   "execution_count": 14,
   "metadata": {},
   "outputs": [
    {
     "name": "stdout",
     "output_type": "stream",
     "text": [
      "\n",
      "Tráfico por navegador:\n",
      "referer\n",
      "www.dataiku.com         0.565489\n",
      "dataiku.com             0.171830\n",
      "www.google.fr           0.075468\n",
      "www.google.com          0.046466\n",
      "www.journaldunet.com    0.026507\n",
      "Name: proportion, dtype: float64\n"
     ]
    }
   ],
   "source": [
    "# Decidir promocionarse en los enlaces que vienen de serie con los navegadores\n",
    "referer_browser = df['referer'].str.extract(r'://(.*?)/', expand=False)\n",
    "browser_traffic = referer_browser.value_counts(normalize=True)\n",
    "# Print 5 most common browsers\n",
    "print(\"\\nTráfico por navegador:\")\n",
    "print(browser_traffic.head(5))"
   ]
  },
  {
   "cell_type": "markdown",
   "metadata": {},
   "source": [
    "En este caso el mayor tráfico viene desde la misma página web, lo que podría decir que la mayoría del tráfico viene de los usuarios que usan la página. Queriendo decir que interactúan de forma activa con la página y su contenido. Por otro lado, el navegador externo más utilizado es el de google, de procedencia francesa o general (.fr y .com)"
   ]
  }
 ],
 "metadata": {
  "kernelspec": {
   "display_name": "ADP",
   "language": "python",
   "name": "python3"
  },
  "language_info": {
   "codemirror_mode": {
    "name": "ipython",
    "version": 3
   },
   "file_extension": ".py",
   "mimetype": "text/x-python",
   "name": "python",
   "nbconvert_exporter": "python",
   "pygments_lexer": "ipython3",
   "version": "undefined.undefined.undefined"
  }
 },
 "nbformat": 4,
 "nbformat_minor": 2
}
