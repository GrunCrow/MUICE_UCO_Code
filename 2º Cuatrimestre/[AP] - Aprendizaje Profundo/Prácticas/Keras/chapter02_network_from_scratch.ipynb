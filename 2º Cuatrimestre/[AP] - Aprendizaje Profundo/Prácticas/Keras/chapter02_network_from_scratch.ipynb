{
  "nbformat": 4,
  "nbformat_minor": 0,
  "metadata": {
    "colab": {
      "provenance": []
    },
    "kernelspec": {
      "name": "python3",
      "display_name": "Python 3"
    },
    "language_info": {
      "name": "python"
    }
  },
  "cells": [
    {
      "cell_type": "markdown",
      "source": [],
      "metadata": {
        "id": "S976n7dT52xs"
      }
    },
    {
      "cell_type": "markdown",
      "source": [
        "# Los bloques de construcción matemáticos del aprendizaje profundo (parte II)"
      ],
      "metadata": {
        "id": "leKwkJPWvPV3"
      }
    },
    {
      "cell_type": "markdown",
      "source": [
        "En este cuaderno vamos a ver:\n",
        "\n",
        "* Un ejemplo de red neuronal\n",
        "* El concepto de tensor y operaciones con tensores\n",
        "* Cómo las redes neuronales aprenden a través del algoritmo de retropropagación y el descenso por gradiente\n",
        "\n",
        "**EJERCICIOS: Durante este cuaderno de prácticas verás ejercicios y preguntas marcadas con ❓❓❓. Puedes contestar añadiendo nuevos bloques de texto (breve) y/o código a continuación de la pregunta.**\n",
        "\n"
      ],
      "metadata": {
        "id": "VLKqo45Tu80M"
      }
    },
    {
      "cell_type": "markdown",
      "source": [
        "Este cuaderno está basado en los cuadernos del libro [Deep Learning with Python, Second Edition](https://www.manning.com/books/deep-learning-with-python-second-edition?a_aid=keras&a_bid=76564dff).\n",
        "\n",
        "> This is a companion notebook for the book [Deep Learning with Python, Second Edition](https://www.manning.com/books/deep-learning-with-python-second-edition?a_aid=keras&a_bid=76564dff). For readability, it only contains runnable code blocks and section titles, and omits everything else in the book: text paragraphs, figures, and pseudocode.\n",
        "> **If you want to be able to follow what's going on, I recommend reading the notebook side by side with your copy of the book.**\n",
        "> This notebook was generated for TensorFlow 2.6."
      ],
      "metadata": {
        "id": "1I35kAPLu7Z0"
      }
    },
    {
      "cell_type": "markdown",
      "metadata": {
        "id": "vZPUYr1xugWP"
      },
      "source": [
        "### Reimplementando nuestro ejemplo desde cero en TensorFlow\n",
        "\n",
        "Una forma de poner a prueba lo que se ha aprendido sobre algo es implementarlo \"desde cero\". Y esto vamos a hacer con una red neuronal. Obviamente no vamos a reimplementar operadores de matrices o algoritmos de optimización, pero si los componentes básicos de una red.\n"
      ]
    },
    {
      "cell_type": "markdown",
      "metadata": {
        "id": "6Rad4u8KugWP"
      },
      "source": [
        "#### Clase Dense\n",
        "\n",
        "La clase `Dense` implementa la siguiente transformación de los datos de entrada donde `W` y `b` son los datos del modelo:\n",
        "\n",
        "```\n",
        "output = activation(dot(W, input) + b)\n",
        "```\n",
        "\n",
        "Donde la función de actividad suele ser `relu` para capas ocultas o `softmax` en la última capa.\n",
        "\n",
        "**Nota de orientación a objetos en Python**:\n",
        "* El método `__init__` es el constructor de la clase y se llama al crear una instancia de la clase para asignar valores por defecto a los atributos de la clase.\n",
        "* El método `__call__` es el método que se lanza cuando se llama a la instancia de la clase como si fuera una función.\n",
        "\n"
      ]
    },
    {
      "cell_type": "code",
      "execution_count": null,
      "metadata": {
        "id": "wGqA3sy3ugWP"
      },
      "outputs": [],
      "source": [
        "import tensorflow as tf\n",
        "\n",
        "class NaiveDense:\n",
        "    def __init__(self, input_size, output_size, activation):\n",
        "        self.activation = activation\n",
        "\n",
        "        w_shape = (input_size, output_size)\n",
        "        # Creamos una matriz inicializada aleatoriamente de forma (input_size, output_size)\n",
        "        w_initial_value = tf.random.uniform(w_shape, minval=0, maxval=1e-1)\n",
        "        self.W = tf.Variable(w_initial_value)\n",
        "\n",
        "        # Vector inicializado con ceros de forma (output_size,)\n",
        "        b_shape = (output_size,)\n",
        "        b_initial_value = tf.zeros(b_shape)\n",
        "        self.b = tf.Variable(b_initial_value)\n",
        "\n",
        "    def __call__(self, inputs): # forward pass\n",
        "        return self.activation(tf.matmul(inputs, self.W) + self.b)\n",
        "\n",
        "    @property\n",
        "    def weights(self):\n",
        "        return [self.W, self.b]"
      ]
    },
    {
      "cell_type": "markdown",
      "source": [
        "**Nota de orientación a objetos en Python**: `@property` se utiliza para definir un método `weights` que se comporta como un atributo/propiedad lo que significa que puede ser accedido como objeto sin la necesidad de llamarlo como un método (`objeto.weights()`). La función weights devuelve una lista que contiene los pesos (W) y los sesgos (b) de la capa. Esto permite que sean accesibles desde fuera de la clase pero al mismo tiempo que no se puedan modificar directamente fuera de la clase."
      ],
      "metadata": {
        "id": "IryasMQKuuhz"
      }
    },
    {
      "cell_type": "markdown",
      "source": [
        "❓❓❓ Intenta cambiar la forma de inicialización de los pesos y observa el efecto. ❓❓❓"
      ],
      "metadata": {
        "id": "hsE9tTRssFKp"
      }
    },
    {
      "cell_type": "code",
      "source": [
        "class NaiveDense:\n",
        "    def __init__(self, input_size, output_size, activation):\n",
        "        self.activation = activation\n",
        "\n",
        "        w_shape = (input_size, output_size)\n",
        "        # Creamos una matriz inicializada aleatoriamente de forma (input_size, output_size)\n",
        "        w_initial_value = tf.random.normal(w_shape, stddev=0.01)  # Cambio en la inicialización de los pesos\n",
        "        self.W = tf.Variable(w_initial_value)\n",
        "\n",
        "        # Vector inicializado con ceros de forma (output_size,)\n",
        "        b_shape = (output_size,)\n",
        "        b_initial_value = tf.zeros(b_shape)\n",
        "        self.b = tf.Variable(b_initial_value)\n",
        "\n",
        "    def __call__(self, inputs): # forward pass\n",
        "        return self.activation(tf.matmul(inputs, self.W) + self.b)\n",
        "\n",
        "    @property\n",
        "    def weights(self):\n",
        "        return [self.W, self.b]"
      ],
      "metadata": {
        "id": "JjM2mwE_LwKf"
      },
      "execution_count": null,
      "outputs": []
    },
    {
      "cell_type": "markdown",
      "metadata": {
        "id": "bX0Aiyr3ugWQ"
      },
      "source": [
        "#### Clase Sequential\n",
        "\n",
        "Esta clase se va a encargar de encadenar las capas. Va a empaquetar una lista de capas y expone un método `__call__()` que simplemente llama en orden a las capas subyacentes."
      ]
    },
    {
      "cell_type": "code",
      "execution_count": null,
      "metadata": {
        "id": "jfso4YniugWQ"
      },
      "outputs": [],
      "source": [
        "class NaiveSequential:\n",
        "    def __init__(self, layers):\n",
        "        self.layers = layers\n",
        "\n",
        "    def __call__(self, inputs):\n",
        "        x = inputs\n",
        "        for layer in self.layers:\n",
        "           x = layer(x)\n",
        "        return x\n",
        "\n",
        "    @property\n",
        "    def weights(self):\n",
        "       weights = []\n",
        "       for layer in self.layers:\n",
        "           weights += layer.weights\n",
        "       return weights"
      ]
    },
    {
      "cell_type": "markdown",
      "source": [
        "Usando las clases `NaiveDense` y `NaiveSequential` podemos crear algo similar a un modelo de Keras:"
      ],
      "metadata": {
        "id": "j81P9OhoQetU"
      }
    },
    {
      "cell_type": "code",
      "execution_count": null,
      "metadata": {
        "id": "qOIdPFPbugWQ"
      },
      "outputs": [],
      "source": [
        "model = NaiveSequential([\n",
        "    NaiveDense(input_size=28 * 28, output_size=512, activation=tf.nn.relu),\n",
        "    NaiveDense(input_size=512, output_size=10, activation=tf.nn.softmax)\n",
        "])\n",
        "assert len(model.weights) == 4"
      ]
    },
    {
      "cell_type": "markdown",
      "source": [
        "---\n",
        "❓❓❓ **EJERCICIO**: Prueba a cambiar la función de activación de la capa oculta de las disponibles en [tf.nn](https://www.tensorflow.org/api_docs/python/tf/nn)❓❓❓"
      ],
      "metadata": {
        "id": "zF3wrbTcQs3h"
      }
    },
    {
      "cell_type": "code",
      "source": [
        "model = NaiveSequential([\n",
        "    NaiveDense(input_size=28 * 28, output_size=512, activation=tf.nn.relu),\n",
        "    NaiveDense(input_size=512, output_size=10, activation=tf.nn.sigmoid) # Según la documentación se podrían poner entre otras la sigmoide\n",
        "])\n",
        "assert len(model.weights) == 4"
      ],
      "metadata": {
        "id": "61KF13o7uIIm"
      },
      "execution_count": null,
      "outputs": []
    },
    {
      "cell_type": "markdown",
      "metadata": {
        "id": "Ek_YvseeugWR"
      },
      "source": [
        "#### Generador de lotes o *batches*\n",
        "\n",
        "Esta clase nos permitirá iterar sobre las imágenes de entrenamiento en *mini-batches*."
      ]
    },
    {
      "cell_type": "code",
      "execution_count": null,
      "metadata": {
        "id": "nVUExC7hugWR"
      },
      "outputs": [],
      "source": [
        "import math\n",
        "\n",
        "class BatchGenerator:\n",
        "    def __init__(self, images, labels, batch_size=128):\n",
        "        assert len(images) == len(labels)\n",
        "        self.index = 0\n",
        "        self.images = images\n",
        "        self.labels = labels\n",
        "        self.batch_size = batch_size\n",
        "        self.num_batches = math.ceil(len(images) / batch_size)\n",
        "\n",
        "    def next(self):\n",
        "        images = self.images[self.index : self.index + self.batch_size]\n",
        "        labels = self.labels[self.index : self.index + self.batch_size]\n",
        "        self.index += self.batch_size\n",
        "        return images, labels"
      ]
    },
    {
      "cell_type": "markdown",
      "metadata": {
        "id": "7PXxSP3SugWR"
      },
      "source": [
        "### Ejecutar un paso de entrenamiento\n",
        "\n",
        "La parte más difícil del proceso es el \"**paso de entrenamiento**\": actualizar los pesos del modelo después de procesar un lote de datos. Necesitamos:\n",
        "1. Calcular las predicciones del modelo para las imágenes del lote.\n",
        "1. Calcular el valor de la pérdida para estas predicciones, dadas las etiquetas reales.\n",
        "1. Calcular el gradiente de la pérdida con respecto a los pesos del modelo.\n",
        "1. Mover los pesos una pequeña cantidad en la dirección opuesta al gradiente.\n",
        "\n",
        "El gradiente lo vamos a calcular con `GradientTape` de TensorFlow."
      ]
    },
    {
      "cell_type": "code",
      "execution_count": null,
      "metadata": {
        "id": "WW-YoylIugWR"
      },
      "outputs": [],
      "source": [
        "def one_training_step(model, images_batch, labels_batch):\n",
        "    with tf.GradientTape() as tape:\n",
        "        # (1) llama a __call__()\n",
        "        predictions = model(images_batch)\n",
        "        # (2)\n",
        "        per_sample_losses = tf.keras.losses.sparse_categorical_crossentropy(\n",
        "            labels_batch, predictions)\n",
        "        # (2) media de elementos a través de las dimensiones del tensor\n",
        "        average_loss = tf.reduce_mean(per_sample_losses)\n",
        "    # (3) Calcula el gradiente del la función de coste/pérdida respecto a los pesos\n",
        "    # del modelo de todas las capas. Los gradientes de salida son una lista\n",
        "    # donde cada entrada corresponde con un peso de la lista model.weights\n",
        "    gradients = tape.gradient(average_loss, model.weights)\n",
        "    # (4) actualiza los pesos (a continuación)\n",
        "    update_weights(gradients, model.weights)\n",
        "    return average_loss"
      ]
    },
    {
      "cell_type": "markdown",
      "source": [
        "**La función `update_weights` moverá los pesos \"un poco\" en la dirección que reduzca la pérdida para este lote**. La magnitud de este movimiento dependerá del `learning_rate` y será en dirección contaria al gradiente, por tanto basta con restar el gradiente multiplicado por `learning_rate` a los pesos para actualizarlos.\n",
        "\n",
        "**Nota Python**: [cómo funciona zip](https://www.freecodecamp.org/news/the-zip-function-in-python-explained-with-examples/).\n",
        "\n",
        "**Nota TF**: `assign_sub` equivale a `-=\n",
        "\n",
        "\n",
        "```\n",
        "learning_rate = 1e-3\n",
        "\n",
        "def update_weights(gradients, weights):\n",
        "    for g, w in zip(gradients, weights):\n",
        "        w.assign_sub(g * learning_rate)\n",
        "```"
      ],
      "metadata": {
        "id": "3gB5qSZ0VK-I"
      }
    },
    {
      "cell_type": "markdown",
      "source": [
        "En la práctica será muy raro que implementemos la actualización de los pesos a mano y utilizaremos uno de los optimizadores de Keras:"
      ],
      "metadata": {
        "id": "H6V-aZ5AWtrx"
      }
    },
    {
      "cell_type": "code",
      "execution_count": null,
      "metadata": {
        "id": "BlEYGwT3ugWS"
      },
      "outputs": [],
      "source": [
        "from tensorflow.keras import optimizers\n",
        "\n",
        "optimizer = optimizers.SGD(learning_rate=1e-3)\n",
        "\n",
        "def update_weights(gradients, weights):\n",
        "    optimizer.apply_gradients(zip(gradients, weights))"
      ]
    },
    {
      "cell_type": "markdown",
      "metadata": {
        "id": "iEx1Hih-ugWS"
      },
      "source": [
        "### El bucle de aprendizaje completo\n",
        "\n",
        "Una época o *epoch* de aprendizaje consiste en repetir un paso de aprendizaje para cada lote del conjunto de entrenamiento. El bucle completo de aprendizaje es simplemente la repetición de una época."
      ]
    },
    {
      "cell_type": "code",
      "execution_count": null,
      "metadata": {
        "id": "XrL_f9piugWS"
      },
      "outputs": [],
      "source": [
        "def fit(model, images, labels, epochs, batch_size=128):\n",
        "    historico = list()\n",
        "    for epoch_counter in range(epochs):\n",
        "        print(f\"Epoch {epoch_counter}\")\n",
        "        batch_generator = BatchGenerator(images, labels)\n",
        "        for batch_counter in range(batch_generator.num_batches):\n",
        "            images_batch, labels_batch = batch_generator.next()\n",
        "            loss = one_training_step(model, images_batch, labels_batch)\n",
        "            if batch_counter % 100 == 0:\n",
        "                print(f\"loss at batch {batch_counter}: {loss:.2f}\")\n",
        "                historico.append(loss)\n",
        "    return historico"
      ]
    },
    {
      "cell_type": "markdown",
      "source": [
        "Probemos nuestro modelo:"
      ],
      "metadata": {
        "id": "7ItBUzzUZ2gy"
      }
    },
    {
      "cell_type": "code",
      "execution_count": null,
      "metadata": {
        "id": "oL2E5EEHugWS",
        "colab": {
          "base_uri": "https://localhost:8080/"
        },
        "outputId": "295198f3-189c-44ce-d50e-c5553d1d88f4"
      },
      "outputs": [
        {
          "output_type": "stream",
          "name": "stdout",
          "text": [
            "Epoch 0\n",
            "loss at batch 0: 9.13\n",
            "loss at batch 100: 2.25\n",
            "loss at batch 200: 2.21\n",
            "loss at batch 300: 2.08\n",
            "loss at batch 400: 2.20\n",
            "Epoch 1\n",
            "loss at batch 0: 1.90\n",
            "loss at batch 100: 1.88\n",
            "loss at batch 200: 1.82\n",
            "loss at batch 300: 1.70\n",
            "loss at batch 400: 1.81\n",
            "Epoch 2\n",
            "loss at batch 0: 1.57\n",
            "loss at batch 100: 1.58\n",
            "loss at batch 200: 1.50\n",
            "loss at batch 300: 1.41\n",
            "loss at batch 400: 1.49\n",
            "Epoch 3\n",
            "loss at batch 0: 1.31\n",
            "loss at batch 100: 1.34\n",
            "loss at batch 200: 1.24\n",
            "loss at batch 300: 1.20\n",
            "loss at batch 400: 1.26\n",
            "Epoch 4\n",
            "loss at batch 0: 1.12\n",
            "loss at batch 100: 1.16\n",
            "loss at batch 200: 1.04\n",
            "loss at batch 300: 1.04\n",
            "loss at batch 400: 1.10\n",
            "Epoch 5\n",
            "loss at batch 0: 0.98\n",
            "loss at batch 100: 1.02\n",
            "loss at batch 200: 0.90\n",
            "loss at batch 300: 0.92\n",
            "loss at batch 400: 0.99\n",
            "Epoch 6\n",
            "loss at batch 0: 0.87\n",
            "loss at batch 100: 0.91\n",
            "loss at batch 200: 0.80\n",
            "loss at batch 300: 0.84\n",
            "loss at batch 400: 0.90\n",
            "Epoch 7\n",
            "loss at batch 0: 0.80\n",
            "loss at batch 100: 0.83\n",
            "loss at batch 200: 0.73\n",
            "loss at batch 300: 0.77\n",
            "loss at batch 400: 0.84\n",
            "Epoch 8\n",
            "loss at batch 0: 0.73\n",
            "loss at batch 100: 0.77\n",
            "loss at batch 200: 0.66\n",
            "loss at batch 300: 0.71\n",
            "loss at batch 400: 0.79\n",
            "Epoch 9\n",
            "loss at batch 0: 0.69\n",
            "loss at batch 100: 0.71\n",
            "loss at batch 200: 0.62\n",
            "loss at batch 300: 0.67\n",
            "loss at batch 400: 0.74\n"
          ]
        }
      ],
      "source": [
        "from tensorflow.keras.datasets import mnist\n",
        "(train_images, train_labels), (test_images, test_labels) = mnist.load_data()\n",
        "\n",
        "train_images = train_images.reshape((60000, 28 * 28))\n",
        "train_images = train_images.astype(\"float32\") / 255\n",
        "test_images = test_images.reshape((10000, 28 * 28))\n",
        "test_images = test_images.astype(\"float32\") / 255\n",
        "\n",
        "historico = fit(model, train_images, train_labels, epochs=10, batch_size=128)"
      ]
    },
    {
      "cell_type": "markdown",
      "source": [
        "---\n",
        "❓❓❓\n",
        "\n",
        "**EJERCICIO**: Modifica el código anterior para guardar el histórico de la función de pérdida y dibuja esta en una gráfica para poder estudiar la convergencia del algoritmo. Analiza la salida de la evolución de la función de error. ¿Ha sido siempre descendente?¿Qué podríamos hacer para mejorar la precisión?\n",
        "\n",
        "❓❓❓"
      ],
      "metadata": {
        "id": "7dQPbpK55jq2"
      }
    },
    {
      "cell_type": "code",
      "source": [
        "import matplotlib.pyplot as plt\n",
        "\n",
        "plt.plot(historico)\n",
        "plt.xlabel('Epochs')\n",
        "plt.ylabel('Loss')\n",
        "plt.title('Training Loss')\n",
        "plt.show()"
      ],
      "metadata": {
        "colab": {
          "base_uri": "https://localhost:8080/",
          "height": 472
        },
        "id": "0eod2551QdCj",
        "outputId": "f1a02656-c024-4ae3-ad51-94f337ee940b"
      },
      "execution_count": null,
      "outputs": [
        {
          "output_type": "display_data",
          "data": {
            "text/plain": [
              "<Figure size 640x480 with 1 Axes>"
            ],
            "image/png": "[encoded data removed]"
          },
          "metadata": {}
        }
      ]
    },
    {
      "cell_type": "markdown",
      "source": [
        "En este caso siempre ha sido descendiente aunque a medida que ha ido pasando las épocas cada vez ha ido disminuyendo menos. Para mejorar se podría probar a cambiar los hiperparámetros del modelo y volver a entrenarlo para probar si mejora la precisión."
      ],
      "metadata": {
        "id": "bGAVhWIiQ4XB"
      }
    },
    {
      "cell_type": "markdown",
      "source": [
        "---\n",
        "❓❓❓\n",
        "\n",
        "**EJERCICIO**: Prueba:\n",
        "* reemplazar el optimizador por [otro de Keras](https://keras.io/api/optimizers/).\n",
        "* Prueba a cambiar la tasa de aprendizaje y a activar el momento.\n",
        "\n",
        "❓❓❓"
      ],
      "metadata": {
        "id": "q1-JbszqzpRO"
      }
    },
    {
      "cell_type": "code",
      "source": [
        "from tensorflow.keras import optimizers\n",
        "\n",
        "optimizer = optimizers.Adam(learning_rate=0.005, beta_1=0.9) # Cambio a Adam\n",
        "\n",
        "def update_weights(gradients, weights):\n",
        "    optimizer.apply_gradients(zip(gradients, weights))"
      ],
      "metadata": {
        "id": "nrsTpKH8zvBv"
      },
      "execution_count": null,
      "outputs": []
    },
    {
      "cell_type": "code",
      "source": [
        "historico = fit(model, train_images, train_labels, epochs=10, batch_size=128)\n",
        "\n",
        "plt.plot(historico)\n",
        "plt.xlabel('Epochs')\n",
        "plt.ylabel('Loss')\n",
        "plt.title('Training Loss')\n",
        "plt.show()"
      ],
      "metadata": {
        "colab": {
          "base_uri": "https://localhost:8080/",
          "height": 1000
        },
        "id": "-Bnw6Bw1RgKH",
        "outputId": "ba06f032-8bcd-412b-a20c-3a0d2f84d6f1"
      },
      "execution_count": null,
      "outputs": [
        {
          "output_type": "stream",
          "name": "stdout",
          "text": [
            "Epoch 0\n",
            "loss at batch 0: 0.65\n",
            "loss at batch 100: 8.23\n",
            "loss at batch 200: 8.12\n",
            "loss at batch 300: 6.91\n",
            "loss at batch 400: 0.50\n",
            "Epoch 1\n",
            "loss at batch 0: 0.14\n",
            "loss at batch 100: 0.16\n",
            "loss at batch 200: 0.18\n",
            "loss at batch 300: 0.10\n",
            "loss at batch 400: 0.16\n",
            "Epoch 2\n",
            "loss at batch 0: 0.10\n",
            "loss at batch 100: 0.09\n",
            "loss at batch 200: 0.12\n",
            "loss at batch 300: 0.08\n",
            "loss at batch 400: 0.12\n",
            "Epoch 3\n",
            "loss at batch 0: 0.05\n",
            "loss at batch 100: 0.04\n",
            "loss at batch 200: 0.06\n",
            "loss at batch 300: 0.07\n",
            "loss at batch 400: 0.10\n",
            "Epoch 4\n",
            "loss at batch 0: 0.04\n",
            "loss at batch 100: 0.03\n",
            "loss at batch 200: 0.03\n",
            "loss at batch 300: 0.04\n",
            "loss at batch 400: 0.10\n",
            "Epoch 5\n",
            "loss at batch 0: 0.04\n",
            "loss at batch 100: 0.03\n",
            "loss at batch 200: 0.04\n",
            "loss at batch 300: 0.03\n",
            "loss at batch 400: 0.10\n",
            "Epoch 6\n",
            "loss at batch 0: 0.02\n",
            "loss at batch 100: 0.02\n",
            "loss at batch 200: 0.01\n",
            "loss at batch 300: 0.02\n",
            "loss at batch 400: 0.05\n",
            "Epoch 7\n",
            "loss at batch 0: 0.05\n",
            "loss at batch 100: 0.01\n",
            "loss at batch 200: 0.02\n",
            "loss at batch 300: 0.04\n",
            "loss at batch 400: 0.14\n",
            "Epoch 8\n",
            "loss at batch 0: 0.01\n",
            "loss at batch 100: 0.07\n",
            "loss at batch 200: 0.03\n",
            "loss at batch 300: 0.01\n",
            "loss at batch 400: 0.14\n",
            "Epoch 9\n",
            "loss at batch 0: 0.06\n",
            "loss at batch 100: 0.05\n",
            "loss at batch 200: 0.01\n",
            "loss at batch 300: 0.04\n",
            "loss at batch 400: 0.03\n"
          ]
        },
        {
          "output_type": "display_data",
          "data": {
            "text/plain": [
              "<Figure size 640x480 with 1 Axes>"
            ],
            "image/png": "[encoded data removed]"
          },
          "metadata": {}
        }
      ]
    },
    {
      "cell_type": "markdown",
      "metadata": {
        "id": "knkPRk_-ugWT"
      },
      "source": [
        "### Evaluación del modelo\n",
        "\n",
        "Podemos evaluar el modelo eligiendo la neurona de salida con máximo valor en la predicción del conjunto de test y comparándola con la etiqueta esperada\n",
        "\n",
        "❓❓❓ **EJERCICIO**: Completa el código para elegir la neurona con mayor probabilidad\n",
        "❓❓❓\n"
      ]
    },
    {
      "cell_type": "code",
      "execution_count": null,
      "metadata": {
        "id": "D65ho0WiugWT",
        "colab": {
          "base_uri": "https://localhost:8080/"
        },
        "outputId": "95867249-23d8-4203-8330-1a71a94b46a4"
      },
      "outputs": [
        {
          "output_type": "stream",
          "name": "stdout",
          "text": [
            "accuracy: 0.98\n"
          ]
        }
      ],
      "source": [
        "import numpy as np\n",
        "\n",
        "predictions = model(test_images)\n",
        "predictions = predictions.numpy()\n",
        "predicted_labels = np.argmax(predictions, axis=1)  # Elegir la neurona con mayor probabilidad\n",
        "matches = predicted_labels == test_labels\n",
        "print(f\"accuracy: {matches.mean():.2f}\")"
      ]
    },
    {
      "cell_type": "markdown",
      "source": [
        "❓❓❓\n",
        "\n",
        "**EJERCICIO**:\n",
        "\n",
        "Pon todo el código que hemos desarrollado en una única celda de manera que permita hacer varias ejecuciones.\n",
        "\n",
        "1. Definición de clases (capa y modelo) y funciones auxiliares (batch)\n",
        "1. Optimizador y actualización pesos\n",
        "1. Paso de entrenamiento y función fit()\n",
        "1. Cargar datos\n",
        "1. Definir modelo\n",
        "1. Ajustar el modelo llamando a fit()\n",
        "1. Evaluar el modelo\n",
        "\n",
        "❓❓❓"
      ],
      "metadata": {
        "id": "121qc_kH3QzT"
      }
    },
    {
      "cell_type": "code",
      "source": [
        "import numpy as np\n",
        "import math\n",
        "import matplotlib.pyplot as plt\n",
        "import tensorflow as tf\n",
        "from tensorflow.keras import optimizers\n",
        "from tensorflow.keras import optimizers\n",
        "from tensorflow.keras.datasets import mnist\n",
        "\n",
        "# Definición clase capa y modelo\n",
        "class NaiveDense:\n",
        "    def __init__(self, input_size, output_size, activation):\n",
        "        self.activation = activation\n",
        "\n",
        "        w_shape = (input_size, output_size)\n",
        "        # Creamos una matriz inicializada aleatoriamente de forma (input_size, output_size)\n",
        "        w_initial_value = tf.random.uniform(w_shape, minval=0, maxval=1e-1)\n",
        "        self.W = tf.Variable(w_initial_value)\n",
        "\n",
        "        # Vector inicializado con ceros de forma (output_size,)\n",
        "        b_shape = (output_size,)\n",
        "        b_initial_value = tf.zeros(b_shape)\n",
        "        self.b = tf.Variable(b_initial_value)\n",
        "\n",
        "    def __call__(self, inputs): # forward pass\n",
        "        return self.activation(tf.matmul(inputs, self.W) + self.b)\n",
        "\n",
        "    @property\n",
        "    def weights(self):\n",
        "        return [self.W, self.b]\n",
        "\n",
        "class NaiveSequential:\n",
        "    def __init__(self, layers):\n",
        "        self.layers = layers\n",
        "\n",
        "    def __call__(self, inputs):\n",
        "        x = inputs\n",
        "        for layer in self.layers:\n",
        "           x = layer(x)\n",
        "        return x\n",
        "\n",
        "    @property\n",
        "    def weights(self):\n",
        "       weights = []\n",
        "       for layer in self.layers:\n",
        "           weights += layer.weights\n",
        "       return weights\n",
        "\n",
        "class BatchGenerator:\n",
        "    def __init__(self, images, labels, batch_size=128):\n",
        "        assert len(images) == len(labels)\n",
        "        self.index = 0\n",
        "        self.images = images\n",
        "        self.labels = labels\n",
        "        self.batch_size = batch_size\n",
        "        self.num_batches = math.ceil(len(images) / batch_size)\n",
        "\n",
        "    def next(self):\n",
        "        images = self.images[self.index : self.index + self.batch_size]\n",
        "        labels = self.labels[self.index : self.index + self.batch_size]\n",
        "        self.index += self.batch_size\n",
        "        return images, labels\n",
        "\n",
        "\n",
        "\n",
        "# Optimizador\n",
        "optimizer = optimizers.SGD(learning_rate=1e-3)\n",
        "\n",
        "# Actualización pesos\n",
        "def update_weights(gradients, weights):\n",
        "    optimizer.apply_gradients(zip(gradients, weights))\n",
        "\n",
        "# Paso de entrenamiento\n",
        "def one_training_step(model, images_batch, labels_batch):\n",
        "    with tf.GradientTape() as tape:\n",
        "        # (1) llama a __call__()\n",
        "        predictions = model(images_batch)\n",
        "        # (2)\n",
        "        per_sample_losses = tf.keras.losses.sparse_categorical_crossentropy(\n",
        "            labels_batch, predictions)\n",
        "        # (2) media de elementos a través de las dimensiones del tensor\n",
        "        average_loss = tf.reduce_mean(per_sample_losses)\n",
        "    # (3) Calcula el gradiente del la función de coste/pérdida respecto a los pesos\n",
        "    # del modelo de todas las capas. Los gradientes de salida son una lista\n",
        "    # donde cada entrada corresponde con un peso de la lista model.weights\n",
        "    gradients = tape.gradient(average_loss, model.weights)\n",
        "    # (4) actualiza los pesos (a continuación)\n",
        "    update_weights(gradients, model.weights)\n",
        "    return average_loss\n",
        "\n",
        "# Función Fit\n",
        "def fit(model, images, labels, epochs, batch_size=128):\n",
        "    historico = list()\n",
        "    for epoch_counter in range(epochs):\n",
        "        print(f\"Epoch {epoch_counter}\")\n",
        "        batch_generator = BatchGenerator(images, labels)\n",
        "        for batch_counter in range(batch_generator.num_batches):\n",
        "            images_batch, labels_batch = batch_generator.next()\n",
        "            loss = one_training_step(model, images_batch, labels_batch)\n",
        "            if batch_counter % 100 == 0:\n",
        "                print(f\"loss at batch {batch_counter}: {loss:.2f}\")\n",
        "                historico.append(loss)\n",
        "    return historico\n",
        "\n",
        "# Cargar datos\n",
        "(train_images, train_labels), (test_images, test_labels) = mnist.load_data()\n",
        "\n",
        "train_images = train_images.reshape((60000, 28 * 28))\n",
        "train_images = train_images.astype(\"float32\") / 255\n",
        "test_images = test_images.reshape((10000, 28 * 28))\n",
        "test_images = test_images.astype(\"float32\") / 255\n",
        "\n",
        "# Definir modelo\n",
        "model = NaiveSequential([\n",
        "    NaiveDense(input_size=28 * 28, output_size=512, activation=tf.nn.relu),\n",
        "    NaiveDense(input_size=512, output_size=10, activation=tf.nn.softmax)\n",
        "])\n",
        "assert len(model.weights) == 4\n",
        "\n",
        "# Entrenar modelo con fit\n",
        "historico = fit(model, train_images, train_labels, epochs=10, batch_size=128)\n",
        "\n",
        "plt.plot(historico)\n",
        "plt.xlabel('Epochs')\n",
        "plt.ylabel('Loss')\n",
        "plt.title('Training Loss')\n",
        "plt.show()\n",
        "\n",
        "# Evaluar modelo\n",
        "predictions = model(test_images)\n",
        "predictions = predictions.numpy()\n",
        "predicted_labels = np.argmax(predictions, axis=1)  # Elegir la neurona con mayor probabilidad\n",
        "matches = predicted_labels == test_labels\n",
        "print(f\"accuracy: {matches.mean():.2f}\")"
      ],
      "metadata": {
        "id": "dXAvlgM4T28L",
        "colab": {
          "base_uri": "https://localhost:8080/",
          "height": 1000
        },
        "outputId": "2c2de53b-6f1f-4bbe-be52-0a4b42587385"
      },
      "execution_count": null,
      "outputs": [
        {
          "output_type": "stream",
          "name": "stdout",
          "text": [
            "Epoch 0\n",
            "loss at batch 0: 5.62\n",
            "loss at batch 100: 2.23\n",
            "loss at batch 200: 2.21\n",
            "loss at batch 300: 2.08\n",
            "loss at batch 400: 2.20\n",
            "Epoch 1\n",
            "loss at batch 0: 1.90\n",
            "loss at batch 100: 1.87\n",
            "loss at batch 200: 1.84\n",
            "loss at batch 300: 1.70\n",
            "loss at batch 400: 1.82\n",
            "Epoch 2\n",
            "loss at batch 0: 1.58\n",
            "loss at batch 100: 1.57\n",
            "loss at batch 200: 1.51\n",
            "loss at batch 300: 1.41\n",
            "loss at batch 400: 1.51\n",
            "Epoch 3\n",
            "loss at batch 0: 1.32\n",
            "loss at batch 100: 1.34\n",
            "loss at batch 200: 1.24\n",
            "loss at batch 300: 1.20\n",
            "loss at batch 400: 1.27\n",
            "Epoch 4\n",
            "loss at batch 0: 1.12\n",
            "loss at batch 100: 1.16\n",
            "loss at batch 200: 1.05\n",
            "loss at batch 300: 1.04\n",
            "loss at batch 400: 1.11\n",
            "Epoch 5\n",
            "loss at batch 0: 0.98\n",
            "loss at batch 100: 1.02\n",
            "loss at batch 200: 0.91\n",
            "loss at batch 300: 0.92\n",
            "loss at batch 400: 0.99\n",
            "Epoch 6\n",
            "loss at batch 0: 0.87\n",
            "loss at batch 100: 0.91\n",
            "loss at batch 200: 0.80\n",
            "loss at batch 300: 0.84\n",
            "loss at batch 400: 0.90\n",
            "Epoch 7\n",
            "loss at batch 0: 0.79\n",
            "loss at batch 100: 0.83\n",
            "loss at batch 200: 0.72\n",
            "loss at batch 300: 0.77\n",
            "loss at batch 400: 0.84\n",
            "Epoch 8\n",
            "loss at batch 0: 0.72\n",
            "loss at batch 100: 0.77\n",
            "loss at batch 200: 0.66\n",
            "loss at batch 300: 0.71\n",
            "loss at batch 400: 0.78\n",
            "Epoch 9\n",
            "loss at batch 0: 0.67\n",
            "loss at batch 100: 0.71\n",
            "loss at batch 200: 0.61\n",
            "loss at batch 300: 0.67\n",
            "loss at batch 400: 0.74\n"
          ]
        },
        {
          "output_type": "display_data",
          "data": {
            "text/plain": [
              "<Figure size 640x480 with 1 Axes>"
            ],
            "image/png": "[encoded data removed]"
          },
          "metadata": {}
        },
        {
          "output_type": "stream",
          "name": "stdout",
          "text": [
            "accuracy: 0.81\n"
          ]
        }
      ]
    }
  ]
}